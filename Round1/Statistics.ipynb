{
  "nbformat": 4,
  "nbformat_minor": 0,
  "metadata": {
    "colab": {
      "provenance": []
    },
    "kernelspec": {
      "name": "python3",
      "display_name": "Python 3"
    },
    "language_info": {
      "name": "python"
    }
  },
  "cells": [
    {
      "cell_type": "code",
      "execution_count": 2,
      "metadata": {
        "colab": {
          "base_uri": "https://localhost:8080/"
        },
        "id": "bBwOeHxOaIXB",
        "outputId": "34d321b0-9be7-44f6-ccfa-1d7d5774cf85"
      },
      "outputs": [
        {
          "output_type": "stream",
          "name": "stdout",
          "text": [
            "Downloading data-afterprocess-p2.zip to /content\n",
            " 99% 844M/857M [00:08<00:00, 108MB/s] \n",
            "100% 857M/857M [00:09<00:00, 98.9MB/s]\n"
          ]
        }
      ],
      "source": [
        "from google.colab import userdata\n",
        "import os\n",
        "\n",
        "os.environ[\"KAGGLE_KEY\"] = userdata.get('KAGGLE_KEY')\n",
        "os.environ[\"KAGGLE_USERNAME\"] = userdata.get('KAGGLE_USERNAME')\n",
        "\n",
        "\n",
        "! kaggle datasets download -d haitonthat/data-afterprocess-p2"
      ]
    },
    {
      "cell_type": "code",
      "source": [
        "!unzip \"/content/data-afterprocess-p2.zip\""
      ],
      "metadata": {
        "id": "DhWye_UgaUEx"
      },
      "execution_count": null,
      "outputs": []
    },
    {
      "cell_type": "code",
      "source": [
        "import os\n",
        "import csv\n",
        "\n",
        "def count_videos(dataset_path):\n",
        "    \"\"\"Count the number of videos in each class of the dataset and organize by class.\"\"\"\n",
        "    stats = {}\n",
        "    for split in ['train', 'val']:\n",
        "        split_path = os.path.join(dataset_path, split)\n",
        "        if os.path.exists(split_path):\n",
        "            for class_name in os.listdir(split_path):\n",
        "                class_path = os.path.join(split_path, class_name)\n",
        "                if os.path.isdir(class_path):\n",
        "                    videos = [f for f in os.listdir(class_path) if f.endswith(('.mp4', '.MOV', '.mov', '.avi'))]\n",
        "                    if class_name not in stats:\n",
        "                        stats[class_name] = {'train': 0, 'val': 0}\n",
        "                    stats[class_name][split] += len(videos)\n",
        "    return stats\n",
        "\n",
        "def save_stats_to_csv(stats, output_csv):\n",
        "    \"\"\"Save the dataset statistics to a CSV file with a structure that includes serial numbers and a total column.\"\"\"\n",
        "    with open(output_csv, mode='w', newline='') as file:\n",
        "        writer = csv.writer(file)\n",
        "        writer.writerow(['#', 'Class', 'Train', 'Val', 'Total'])\n",
        "        serial_number = 1\n",
        "        for class_name, splits in sorted(stats.items()):\n",
        "            total_videos = splits['train'] + splits['val']\n",
        "            writer.writerow([serial_number, class_name, splits['train'], splits['val'], total_videos])\n",
        "            serial_number += 1\n",
        "\n",
        "dataset_path = '/content/content/output'\n",
        "output_csv = 'dataset_statistics.csv'\n",
        "\n",
        "# Count videos and save the statistics\n",
        "stats = count_videos(dataset_path)\n",
        "save_stats_to_csv(stats, output_csv)\n",
        "\n",
        "print(f'Statistics saved to {output_csv}')\n"
      ],
      "metadata": {
        "colab": {
          "base_uri": "https://localhost:8080/"
        },
        "id": "Op1L1sFzaYOA",
        "outputId": "0022e7c1-70dd-463f-8255-2cfdc0c59e00"
      },
      "execution_count": 5,
      "outputs": [
        {
          "output_type": "stream",
          "name": "stdout",
          "text": [
            "Statistics saved to dataset_statistics.csv\n"
          ]
        }
      ]
    },
    {
      "cell_type": "code",
      "source": [
        "import os\n",
        "import csv\n",
        "\n",
        "def count_videos(dataset_path):\n",
        "    \"\"\"Count the number of videos in each class of the dataset,\n",
        "    distinguishing between mp4 and non-mp4 formats.\"\"\"\n",
        "    stats = {}\n",
        "    for split in ['train', 'val']:\n",
        "        split_path = os.path.join(dataset_path, split)\n",
        "        if os.path.exists(split_path):\n",
        "            for class_name in os.listdir(split_path):\n",
        "                class_path = os.path.join(split_path, class_name)\n",
        "                if os.path.isdir(class_path):\n",
        "                    videos = os.listdir(class_path)\n",
        "                    mp4_count = len([f for f in videos if f.endswith('.mp4')])\n",
        "                    non_mp4_count = len([f for f in videos if not f.endswith('.mp4')])\n",
        "                    if class_name not in stats:\n",
        "                        stats[class_name] = {'train': {'mp4': 0, 'non-mp4': 0}, 'val': {'mp4': 0, 'non-mp4': 0}}\n",
        "                    stats[class_name][split]['mp4'] += mp4_count\n",
        "                    stats[class_name][split]['non-mp4'] += non_mp4_count\n",
        "    return stats\n",
        "\n",
        "def save_stats_to_csv(stats, output_csv):\n",
        "    \"\"\"Save the dataset statistics to a CSV file, including information about mp4 and non-mp4 formats.\"\"\"\n",
        "    with open(output_csv, mode='w', newline='') as file:\n",
        "        writer = csv.writer(file)\n",
        "        writer.writerow(['#', 'Class', 'Train MP4', 'Train Non-MP4', 'Val MP4', 'Val Non-MP4', 'Total MP4', 'Total Non-MP4'])\n",
        "        serial_number = 1\n",
        "        for class_name, splits in sorted(stats.items()):\n",
        "            train_mp4 = splits['train']['mp4']\n",
        "            train_non_mp4 = splits['train']['non-mp4']\n",
        "            val_mp4 = splits['val']['mp4']\n",
        "            val_non_mp4 = splits['val']['non-mp4']\n",
        "            total_mp4 = train_mp4 + val_mp4\n",
        "            total_non_mp4 = train_non_mp4 + val_non_mp4\n",
        "            writer.writerow([serial_number, class_name, train_mp4, train_non_mp4, val_mp4, val_non_mp4, total_mp4, total_non_mp4])\n",
        "            serial_number += 1\n",
        "\n",
        "dataset_path = '/content/content/output'\n",
        "output_csv = 'dataset_statistics.csv'\n",
        "\n",
        "# Count videos and save the statistics\n",
        "stats = count_videos(dataset_path)\n",
        "save_stats_to_csv(stats, output_csv)\n",
        "\n",
        "print(f'Statistics saved to {output_csv}')\n"
      ],
      "metadata": {
        "colab": {
          "base_uri": "https://localhost:8080/"
        },
        "id": "QcCj3ISxdEGe",
        "outputId": "b72f851f-5383-4a2c-c9b8-167fa4cb25b5"
      },
      "execution_count": 4,
      "outputs": [
        {
          "output_type": "stream",
          "name": "stdout",
          "text": [
            "Statistics saved to dataset_statistics.csv\n"
          ]
        }
      ]
    }
  ]
}