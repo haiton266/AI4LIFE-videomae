{
  "cells": [
    {
      "cell_type": "markdown",
      "metadata": {
        "id": "PUMRFRdX5SvC"
      },
      "source": [
        "Xử lý data gốc về data bỏ đầu và cuối, ngoài ra giúp đỡ lỗi về decord"
      ]
    },
    {
      "cell_type": "code",
      "execution_count": null,
      "metadata": {
        "id": "36wj--HK4gV5"
      },
      "outputs": [],
      "source": [
        "from google.colab import userdata\n",
        "import os\n",
        "\n",
        "os.environ[\"KAGGLE_KEY\"] = userdata.get('KAGGLE_KEY')\n",
        "os.environ[\"KAGGLE_USERNAME\"] = userdata.get('KAGGLE_USERNAME')"
      ]
    },
    {
      "cell_type": "code",
      "execution_count": null,
      "metadata": {
        "colab": {
          "base_uri": "https://localhost:8080/"
        },
        "id": "ZNjoWRrQ41XB",
        "outputId": "27c00834-8ad5-40be-c206-d12129718058"
      },
      "outputs": [
        {
          "name": "stdout",
          "output_type": "stream",
          "text": [
            "Downloading baole-dataset.zip to /content\n",
            "100% 4.92G/4.93G [01:05<00:00, 123MB/s] \n",
            "100% 4.93G/4.93G [01:05<00:00, 80.8MB/s]\n"
          ]
        }
      ],
      "source": [
        "!kaggle datasets download -d bluebirdss/baole-dataset"
      ]
    },
    {
      "cell_type": "code",
      "execution_count": null,
      "metadata": {
        "id": "82sLMkB-442F"
      },
      "outputs": [],
      "source": [
        "!unzip baole-dataset.zip"
      ]
    },
    {
      "cell_type": "markdown",
      "metadata": {
        "id": "Y9nNTZsD5hWl"
      },
      "source": [
        "Code xử lý data part 1\n"
      ]
    },
    {
      "cell_type": "code",
      "execution_count": 22,
      "metadata": {
        "colab": {
          "base_uri": "https://localhost:8080/"
        },
        "id": "cvTFISXs5uCK",
        "outputId": "68f2ecdb-2fe3-47b2-ad80-06d76db0aafc"
      },
      "outputs": [
        {
          "name": "stdout",
          "output_type": "stream",
          "text": [
            "Mounted at /content/drive\n"
          ]
        }
      ],
      "source": [
        "from google.colab import drive\n",
        "drive.mount('/content/drive')"
      ]
    },
    {
      "cell_type": "code",
      "execution_count": null,
      "metadata": {
        "id": "ZsW7b8zy5qUX"
      },
      "outputs": [],
      "source": [
        "import cv2\n",
        "\n",
        "def process_video(input_video_path, output_video_path):\n",
        "    # Khởi tạo đối tượng VideoCapture\n",
        "    cap = cv2.VideoCapture(input_video_path)\n",
        "    if not cap.isOpened():\n",
        "        print(\"Error: Could not open video.\")\n",
        "        return\n",
        "\n",
        "    # Lấy tổng số frames và FPS của video\n",
        "    total_frames = int(cap.get(cv2.CAP_PROP_FRAME_COUNT))\n",
        "    original_fps = cap.get(cv2.CAP_PROP_FPS)\n",
        "    duration = total_frames / original_fps\n",
        "    # Tính toán phần trăm và thời điểm bắt đầu, kết thúc để cắt\n",
        "    if duration > 60:\n",
        "        start_percent = 15\n",
        "        end_percent = 85\n",
        "    elif duration > 10:\n",
        "        start_percent = 10\n",
        "        end_percent = 90\n",
        "    else:\n",
        "        start_percent = 0\n",
        "        end_percent = 100\n",
        "\n",
        "    start_frame = int((start_percent / 100) * total_frames)\n",
        "    end_frame = int((end_percent / 100) * total_frames)\n",
        "\n",
        "    # Lấy kích thước frame của video\n",
        "    frame_width = int(cap.get(cv2.CAP_PROP_FRAME_WIDTH))\n",
        "    frame_height = int(cap.get(cv2.CAP_PROP_FRAME_HEIGHT))\n",
        "\n",
        "    # Tạo đối tượng VideoWriter với FPS là desired_fps\n",
        "    fourcc = cv2.VideoWriter_fourcc(*'mp4v')\n",
        "    out = cv2.VideoWriter(output_video_path, fourcc, original_fps, (frame_width, frame_height))\n",
        "\n",
        "    # Đọc từng frame và ghi frame vào video mới nếu nằm trong khoảng đã tính và theo tỷ lệ FPS mới\n",
        "    current_frame = 0\n",
        "    while True:\n",
        "        ret, frame = cap.read()\n",
        "        if not ret:\n",
        "            break\n",
        "        # Chỉ xử lý frame nếu nằm trong khoảng thời gian đã định\n",
        "        if start_frame <= current_frame <= end_frame:\n",
        "            out.write(frame)\n",
        "\n",
        "        current_frame += 1\n",
        "\n",
        "    # Giải phóng tài nguyên\n",
        "    cap.release()\n",
        "    out.release()\n",
        "\n",
        "    print(\"Video đã được xử lý và lưu tại: \", output_video_path)"
      ]
    },
    {
      "cell_type": "code",
      "execution_count": null,
      "metadata": {
        "id": "NAr6r5YjhMxs"
      },
      "outputs": [],
      "source": [
        "import os\n",
        "\n",
        "data_dir = \"/content/data_mae/test\"\n",
        "output_dir = \"/content/output2/test\"\n",
        "\n",
        "for className in os.listdir(data_dir):\n",
        "    class_dir = os.path.join(data_dir, className)\n",
        "    if os.path.isdir(class_dir):\n",
        "        for video_file in os.listdir(class_dir):\n",
        "            input_video_path = os.path.join(class_dir, video_file)\n",
        "            filename_without_extension, _ = os.path.splitext(video_file)\n",
        "            output_video_path = f\"{output_dir}/{className}/{filename_without_extension}.mp4\"\n",
        "            print(filename_without_extension)\n",
        "            os.makedirs(f\"{output_dir}/{className}\", exist_ok=True)\n",
        "            process_video(input_video_path, output_video_path)\n"
      ]
    },
    {
      "cell_type": "code",
      "execution_count": null,
      "metadata": {
        "colab": {
          "base_uri": "https://localhost:8080/"
        },
        "id": "q8NIUgGqs0QJ",
        "outputId": "50334880-5929-4e97-ed74-a28eca18f3d7"
      },
      "outputs": [
        {
          "name": "stdout",
          "output_type": "stream",
          "text": [
            "Statistics saved to dataset_statistics.csv\n"
          ]
        }
      ],
      "source": [
        "import os\n",
        "import csv\n",
        "\n",
        "def count_videos(dataset_path):\n",
        "    \"\"\"Count the number of videos in each class of the dataset and organize by class.\"\"\"\n",
        "    stats = {}\n",
        "    for split in ['train', 'val']:\n",
        "        split_path = os.path.join(dataset_path, split)\n",
        "        if os.path.exists(split_path):\n",
        "            for class_name in os.listdir(split_path):\n",
        "                class_path = os.path.join(split_path, class_name)\n",
        "                if os.path.isdir(class_path):\n",
        "                    videos = [f for f in os.listdir(class_path) if f.endswith(('.mp4', '.MOV', '.mov', '.avi'))]\n",
        "                    if class_name not in stats:\n",
        "                        stats[class_name] = {'train': 0, 'val': 0}\n",
        "                    stats[class_name][split] += len(videos)\n",
        "    return stats\n",
        "\n",
        "def save_stats_to_csv(stats, output_csv):\n",
        "    \"\"\"Save the dataset statistics to a CSV file with a structure that includes serial numbers and a total column.\"\"\"\n",
        "    with open(output_csv, mode='w', newline='') as file:\n",
        "        writer = csv.writer(file)\n",
        "        writer.writerow(['#', 'Class', 'Train', 'Val', 'Total'])\n",
        "        serial_number = 1\n",
        "        for class_name, splits in sorted(stats.items()):\n",
        "            total_videos = splits['train'] + splits['val']\n",
        "            writer.writerow([serial_number, class_name, splits['train'], splits['val'], total_videos])\n",
        "            serial_number += 1\n",
        "\n",
        "dataset_path = '/content/output2'\n",
        "output_csv = 'dataset_statistics.csv'\n",
        "\n",
        "# Count videos and save the statistics\n",
        "stats = count_videos(dataset_path)\n",
        "save_stats_to_csv(stats, output_csv)\n",
        "\n",
        "print(f'Statistics saved to {output_csv}')"
      ]
    },
    {
      "cell_type": "markdown",
      "metadata": {
        "id": "ov-Z8evbmmJA"
      },
      "source": [
        "Chuyển video test (nếu có) vào val"
      ]
    },
    {
      "cell_type": "code",
      "execution_count": null,
      "metadata": {
        "id": "C0zuAoXXmrUI"
      },
      "outputs": [],
      "source": [
        "import os\n",
        "import shutil\n",
        "\n",
        "# Define the base paths for the test and val directories\n",
        "base_test_path = '/content/output2/test'\n",
        "base_val_path = '/content/output2/val'\n",
        "\n",
        "# Get a list of class folders in the test directory\n",
        "class_folders = os.listdir(base_test_path)\n",
        "\n",
        "# Iterate over each class folder\n",
        "for class_folder in class_folders:\n",
        "    test_class_path = os.path.join(base_test_path, class_folder)\n",
        "    val_class_path = os.path.join(base_val_path, class_folder)\n",
        "\n",
        "    # Ensure the corresponding folder in val exists, if not, create it\n",
        "    if not os.path.exists(val_class_path):\n",
        "        os.makedirs(val_class_path)\n",
        "\n",
        "    # Move each video file from the test class folder to the val class folder\n",
        "    for file in os.listdir(test_class_path):\n",
        "        # Check if the file is a video based on its extension\n",
        "        if file.lower().endswith(('.mp4', '.mov', 'MOV')):\n",
        "            # Define the source and destination paths for the file\n",
        "            src_file_path = os.path.join(test_class_path, file)\n",
        "            dest_file_path = os.path.join(val_class_path, file)\n",
        "\n",
        "            # Move the file\n",
        "            shutil.move(src_file_path, dest_file_path)\n",
        "            print(f\"Moved {file} from {test_class_path} to {val_class_path}\")\n",
        "\n",
        "print(\"Video files have been moved.\")\n"
      ]
    },
    {
      "cell_type": "code",
      "execution_count": null,
      "metadata": {
        "colab": {
          "base_uri": "https://localhost:8080/"
        },
        "id": "PQ6uAoaVjrOF",
        "outputId": "7bb1b91f-c1e3-4c0f-d7bd-e30929009c46"
      },
      "outputs": [
        {
          "name": "stdout",
          "output_type": "stream",
          "text": [
            "/content\n"
          ]
        }
      ],
      "source": [
        "cd .."
      ]
    },
    {
      "cell_type": "code",
      "execution_count": null,
      "metadata": {
        "id": "cR89IOHc82d-"
      },
      "outputs": [],
      "source": [
        "!zip -r '/content/drive/MyDrive/ai4life_2024/v2/v2_part1.zip' 'output2'"
      ]
    },
    {
      "cell_type": "markdown",
      "metadata": {
        "id": "tTmaAo1UgOC3"
      },
      "source": [
        "Download model"
      ]
    },
    {
      "cell_type": "code",
      "execution_count": null,
      "metadata": {
        "id": "QiLJPfr5iT8q"
      },
      "outputs": [],
      "source": [
        "import requests\n",
        "\n",
        "# Địa chỉ của API Flask\n",
        "API_BASE_URL = 'http://103.188.243.119:5002'\n",
        "\n",
        "def upload_file(filepath):\n",
        "    \"\"\"Tải lên một file lên server.\"\"\"\n",
        "    url = f'{API_BASE_URL}/upload'\n",
        "    files = {'file': open(filepath, 'rb')}\n",
        "    response = requests.post(url, files=files)\n",
        "    return response.text\n",
        "\n",
        "def download_file(filename):\n",
        "    \"\"\"Tải xuống một file từ server.\"\"\"\n",
        "    url = f'{API_BASE_URL}/download/{filename}'\n",
        "    response = requests.get(url)\n",
        "    if response.status_code == 200:\n",
        "        with open(filename, 'wb') as f:\n",
        "            f.write(response.content)\n",
        "        print(f\"File '{filename}' downloaded successfully.\")\n",
        "    else:\n",
        "        print(f\"Failed to download file: {response.text}\")\n",
        "\n",
        "# Đường dẫn đến file bạn muốn tải lên\n",
        "# filepath_to_upload = '/content/yolov9/runs/train/exp/weights/best.pt'\n",
        "\n",
        "# Tải lên file\n",
        "# print(upload_file(filepath_to_upload))\n",
        "\n",
        "# Tải xuống file\n",
        "download_file('best_workout_3.pt')\n"
      ]
    },
    {
      "cell_type": "code",
      "execution_count": null,
      "metadata": {
        "id": "xKfHlEISjBHb"
      },
      "outputs": [],
      "source": [
        "!git clone https://github.com/SkalskiP/yolov9.git\n",
        "%cd yolov9\n",
        "!pip install -r requirements.txt -q"
      ]
    },
    {
      "cell_type": "code",
      "execution_count": null,
      "metadata": {
        "id": "jwWQCx0FzNlR"
      },
      "outputs": [],
      "source": [
        "!gdown --id 1RcDiJEJACjtaRKYC5iaVc6ZbqniFmhgb"
      ]
    },
    {
      "cell_type": "code",
      "execution_count": null,
      "metadata": {
        "id": "zwULiBGYzXZn"
      },
      "outputs": [],
      "source": [
        "!unzip addData2.zip -d './p2'"
      ]
    },
    {
      "cell_type": "markdown",
      "metadata": {
        "id": "XjFuvkVfgM79"
      },
      "source": []
    },
    {
      "cell_type": "code",
      "execution_count": null,
      "metadata": {
        "id": "Su-Q58XyjkY0"
      },
      "outputs": [],
      "source": [
        "!python detect.py --weights /content/best.pt --conf 0.1 --source /content/anhtest.png --device 0"
      ]
    },
    {
      "cell_type": "markdown",
      "metadata": {
        "id": "VAqm1Vr0gTkw"
      },
      "source": [
        "1. Function: inference image"
      ]
    },
    {
      "cell_type": "code",
      "execution_count": null,
      "metadata": {
        "colab": {
          "base_uri": "https://localhost:8080/"
        },
        "id": "mgr85tsefefT",
        "outputId": "3304fe13-e1f4-4a89-f2e6-39dd68d6295b"
      },
      "outputs": [
        {
          "name": "stderr",
          "output_type": "stream",
          "text": [
            "YOLOv5 🚀 1e33dbb Python-3.10.12 torch-2.1.0+cu121 CUDA:0 (Tesla T4, 15102MiB)\n",
            "\n",
            "Fusing layers... \n",
            "gelan-c summary: 467 layers, 25411731 parameters, 0 gradients, 102.5 GFLOPs\n"
          ]
        },
        {
          "name": "stdout",
          "output_type": "stream",
          "text": [
            "[(0.0, 0.8926960825920105, (12.0, 97.0, 567.0, 362.0))]\n"
          ]
        }
      ],
      "source": [
        "import torch\n",
        "from models.common import DetectMultiBackend\n",
        "from utils.dataloaders import LoadImages\n",
        "from utils.general import non_max_suppression, scale_boxes\n",
        "from utils.torch_utils import select_device, smart_inference_mode\n",
        "\n",
        "@smart_inference_mode()\n",
        "def run_object_detection(weights='/content/best_workout_2.pt',\n",
        "                         source='/content/anhtest.png',\n",
        "                         imgsz=(640, 640),\n",
        "                         conf_thres=0.25,\n",
        "                         iou_thres=0.45,\n",
        "                         device='0',\n",
        "                         classes=None,\n",
        "                         agnostic_nms=False):\n",
        "    # Setup\n",
        "    device = select_device(device)\n",
        "    model = DetectMultiBackend(weights, device=device, dnn=False)\n",
        "\n",
        "    # Dataloader\n",
        "    dataset = LoadImages(source, img_size=imgsz, stride=model.stride, auto=model.pt)\n",
        "\n",
        "    # List to store detections\n",
        "    detections = []\n",
        "\n",
        "    # Inference and processing\n",
        "    for path, img, im0s, vid_cap, s in dataset:\n",
        "        img = torch.from_numpy(img).to(device).float() / 255.0\n",
        "        if len(img.shape) == 3:\n",
        "            img = img[None]  # add batch dimension\n",
        "\n",
        "        pred = model(img, augment=False, visualize=False)\n",
        "        # Apply NMS\n",
        "        pred = non_max_suppression(pred, conf_thres, iou_thres, classes=classes, agnostic=agnostic_nms)\n",
        "        pred_converted = []\n",
        "\n",
        "        for i, det in enumerate(pred):  # detections per image\n",
        "            if len(det):\n",
        "                det[:, :4] = scale_boxes(img.shape[2:], det[:, :4], im0s.shape).round()\n",
        "\n",
        "                for *xyxy, conf, cls in reversed(det):\n",
        "                    bbox = tuple(c.item() for c in xyxy)  # Convert bbox coordinates to tuple of floats\n",
        "                    pred_converted.append((cls.item(), conf.item(), bbox))  # Convert class and confidence to floats\n",
        "\n",
        "    return pred_converted\n",
        "\n",
        "# Example usage\n",
        "detections = run_object_detection()\n",
        "print(detections)\n"
      ]
    },
    {
      "cell_type": "markdown",
      "metadata": {
        "id": "kRCm1pzqgZIc"
      },
      "source": [
        "Draw bounding box"
      ]
    },
    {
      "cell_type": "code",
      "execution_count": null,
      "metadata": {
        "id": "0_HBYQqelAlh"
      },
      "outputs": [],
      "source": [
        "from PIL import Image, ImageDraw\n",
        "\n",
        "# Load the original image\n",
        "image_path = '/content/anhtest.png'\n",
        "image = Image.open(image_path)\n",
        "# image = image.resize((640, 640))\n",
        "width_original, height_original = image.size\n",
        "\n",
        "# Calculate the resize scale factors\n",
        "scale_w = width_original / 640\n",
        "scale_h = height_original / 640\n",
        "\n",
        "detections_rescaled =detections\n",
        "#  [\n",
        "#     (cls, conf, [x_min * scale_w, y_min * scale_h, x_max * scale_w, y_max * scale_h])\n",
        "#     for cls, conf, (x_min, y_min, x_max, y_max) in detections]\n",
        "\n",
        "# Create a drawing context\n",
        "draw = ImageDraw.Draw(image)\n",
        "\n",
        "# Draw the rescaled bounding boxes on the original image\n",
        "for det in detections_rescaled:\n",
        "    cls, conf, bbox = det\n",
        "    x_min, y_min, x_max, y_max = bbox\n",
        "    draw.rectangle(((x_min, y_min), (x_max, y_max)), outline=\"red\", width=2)\n",
        "    label = f\"Class: {cls}, Conf: {conf:.2f}\"\n",
        "    draw.text((x_min, y_min), label, fill=\"red\")\n",
        "\n",
        "# Display or save the image\n",
        "# image.show()\n",
        "# Or save to file\n",
        "image.save('output_image_with_rescaled_boxes.png')\n"
      ]
    },
    {
      "cell_type": "markdown",
      "metadata": {
        "id": "NeaOqWjjgc1T"
      },
      "source": [
        "2. Function: Inference Video"
      ]
    },
    {
      "cell_type": "code",
      "execution_count": null,
      "metadata": {
        "id": "vpgIxWdYMmxN"
      },
      "outputs": [],
      "source": [
        "import torch\n",
        "from models.common import DetectMultiBackend\n",
        "from utils.general import non_max_suppression, scale_boxes\n",
        "from utils.torch_utils import select_device, smart_inference_mode\n",
        "import cv2  # Import OpenCV\n",
        "import numpy as np  # Ensure numpy is imported\n",
        "\n",
        "# Correctly placed letterbox function\n",
        "def letterbox(img, new_shape=(640, 640), color=(0, 0, 0)):\n",
        "    \"\"\"Resize image to a 32-pixel-multiple rectangle\"\"\"\n",
        "    shape = img.shape[:2]  # current shape [height, width]\n",
        "    if isinstance(new_shape, int):\n",
        "        new_shape = (new_shape, new_shape)\n",
        "    r = min(new_shape[0] / shape[0], new_shape[1] / shape[1])\n",
        "    new_unpad = int(round(shape[1] * r)), int(round(shape[0] * r))\n",
        "    dw, dh = new_shape[1] - new_unpad[0], new_shape[0] - new_unpad[1]  # width, height deltas\n",
        "    dw, dh = np.mod(dw, 64), np.mod(dh, 64)  # divide padding into 2 sides\n",
        "    dw /= 2\n",
        "    dh /= 2\n",
        "    if shape[::-1] != new_unpad:  # resize\n",
        "        img = cv2.resize(img, new_unpad, interpolation=cv2.INTER_LINEAR)\n",
        "    top, bottom = round(dh - 0.1), round(dh + 0.1)\n",
        "    left, right = round(dw - 0.1), round(dw + 0.1)\n",
        "    img = cv2.copyMakeBorder(img, top, bottom, left, right, cv2.BORDER_CONSTANT, value=color)  # add border\n",
        "    return img\n",
        "\n",
        "@smart_inference_mode()\n",
        "def run_object_detection_video(weights='/content/best_workout_3.pt',\n",
        "                               source='/content/data_mae/train/lateral raise/lateral_raise_6.MOV',\n",
        "                               imgsz=(640, 640),\n",
        "                               conf_thres=0.5,\n",
        "                               iou_thres=0.5,\n",
        "                               device='0',\n",
        "                               classes=None,\n",
        "                               agnostic_nms=False):\n",
        "    # Setup\n",
        "    device = select_device(device)\n",
        "    model = DetectMultiBackend(weights, device=device, dnn=False)\n",
        "\n",
        "    # Video capture\n",
        "    vid_cap = cv2.VideoCapture(source)\n",
        "    assert vid_cap.isOpened(), f'Failed to open video {source}'\n",
        "\n",
        "    # List to store detections for each frame, including the frame number\n",
        "    frame_detections = []\n",
        "\n",
        "    frame_number = 0  # Initialize frame counter\n",
        "\n",
        "    # Process each frame\n",
        "    while True:\n",
        "        ret, frame = vid_cap.read()\n",
        "        if not ret:\n",
        "            break\n",
        "\n",
        "        frame_number += 1  # Increment frame counter\n",
        "\n",
        "        # Convert BGR (OpenCV format) to RGB\n",
        "        frame = cv2.cvtColor(frame, cv2.COLOR_BGR2RGB)\n",
        "\n",
        "        # Resize and pad frame to model input size\n",
        "        img = letterbox(frame, new_shape=imgsz)\n",
        "        img = img.transpose((2, 0, 1))  # HWC to CHW\n",
        "        img = np.ascontiguousarray(img)\n",
        "\n",
        "        img = torch.from_numpy(img).to(device).float() / 255.0\n",
        "        img = img[None]  # add batch dimension\n",
        "\n",
        "        pred = model(img, augment=False, visualize=False)\n",
        "        pred = non_max_suppression(pred, conf_thres, iou_thres, classes=classes, agnostic=agnostic_nms)\n",
        "\n",
        "        detections = []\n",
        "        for i, det in enumerate(pred):  # detections per frame\n",
        "            if len(det):\n",
        "                det[:, :4] = scale_boxes(img.shape[2:], det[:, :4], frame.shape).round()\n",
        "\n",
        "                for *xyxy, conf, cls in reversed(det):\n",
        "                    bbox = tuple(c.item() for c in xyxy)  # Convert bbox coordinates to tuple of floats\n",
        "                    # Now including frame_number in the detection information\n",
        "                    detections.append((cls.item(), conf.item(), bbox, frame_number))\n",
        "\n",
        "        if detections:  # If there are detections in the current frame\n",
        "            frame_detections.append(detections)\n",
        "\n",
        "    vid_cap.release()\n",
        "    return frame_detections\n",
        "# Ensure the main execution part of the script is correctly aligned and outside any function definition\n",
        "video_detections = run_object_detection_video()\n",
        "print(video_detections)\n"
      ]
    },
    {
      "cell_type": "code",
      "execution_count": null,
      "metadata": {
        "id": "4Zyo6QjWukNK"
      },
      "outputs": [],
      "source": [
        "print(video_detections)"
      ]
    },
    {
      "cell_type": "markdown",
      "metadata": {
        "id": "PStvYxDxgmcg"
      },
      "source": [
        "Draw bounding box for video"
      ]
    },
    {
      "cell_type": "code",
      "execution_count": null,
      "metadata": {
        "id": "CaQFHfgrYMKM"
      },
      "outputs": [],
      "source": [
        "import cv2\n",
        "\n",
        "def draw_boxes_and_save_video(input_video_path, output_video_path, predictions):\n",
        "    # Mở video gốc\n",
        "    cap = cv2.VideoCapture(input_video_path)\n",
        "\n",
        "    # Lấy thông số frame rate và định dạng size của video\n",
        "    fps = cap.get(cv2.CAP_PROP_FPS)\n",
        "    frame_width = int(cap.get(cv2.CAP_PROP_FRAME_WIDTH))\n",
        "    frame_height = int(cap.get(cv2.CAP_PROP_FRAME_HEIGHT))\n",
        "\n",
        "    # Định nghĩa codec và tạo đối tượng VideoWriter\n",
        "    fourcc = cv2.VideoWriter_fourcc(*'MP4V')\n",
        "    out = cv2.VideoWriter(output_video_path, fourcc, fps, (frame_width, frame_height))\n",
        "\n",
        "    frame_id = 1\n",
        "    while True:\n",
        "        ret, frame = cap.read()\n",
        "        if not ret:\n",
        "            break\n",
        "\n",
        "        # Vẽ bounding box cho từng frame dựa trên kết quả dự đoán\n",
        "        for pred in predictions:\n",
        "            pred = pred[0]\n",
        "            # print(pred)\n",
        "            if pred[3] == frame_id:  # Kiểm tra frame_id của prediction\n",
        "                id_class, confidence, bbox, _ = pred\n",
        "                x_min, y_min, x_max, y_max = bbox\n",
        "                # Vẽ bounding box\n",
        "                cv2.rectangle(frame, (int(x_min), int(y_min)), (int(x_max), int(y_max)), (255, 0, 0), 2)\n",
        "                # Vẽ text\n",
        "                cv2.putText(frame, f'ID: {id_class}, Conf: {confidence:.2f}', (int(x_min), int(y_min) - 10), cv2.FONT_HERSHEY_SIMPLEX, 0.9, (36,255,12), 2)\n",
        "\n",
        "        # Viết frame đã chỉnh sửa vào file output\n",
        "        out.write(frame)\n",
        "\n",
        "        frame_id += 1\n",
        "\n",
        "    # Giải phóng và đóng tất cả\n",
        "    cap.release()\n",
        "    out.release()\n",
        "\n",
        "# Đường dẫn đến video gốc và video output\n",
        "input_video_path = '/content/shoulder press_11.mp4'\n",
        "output_video_path = 'output.mp4'\n",
        "\n",
        "# Giả sử đây là kết quả dự đoán\n",
        "# predictions = run_object_detection_video()\n",
        "\n",
        "# Gọi hàm để vẽ bounding box và lưu video\n",
        "draw_boxes_and_save_video(input_video_path, output_video_path, video_detections)"
      ]
    },
    {
      "cell_type": "markdown",
      "metadata": {
        "id": "4THFx85QhRfX"
      },
      "source": [
        "3. Function: Create video after detect and resize 224"
      ]
    },
    {
      "cell_type": "code",
      "execution_count": 7,
      "metadata": {
        "id": "FMzQnZXfolPH"
      },
      "outputs": [],
      "source": [
        "import cv2\n",
        "\n",
        "def crop_and_resize_frames(input_video_path, output_video_path, predictions):\n",
        "    # Mở video gốc\n",
        "    cap = cv2.VideoCapture(input_video_path)\n",
        "\n",
        "    # Lấy thông số frame rate và định dạng size của video\n",
        "    fps = cap.get(cv2.CAP_PROP_FPS)\n",
        "\n",
        "    # Định nghĩa codec và tạo đối tượng VideoWriter\n",
        "    # Output size được set cố định là 224x224\n",
        "    fourcc = cv2.VideoWriter_fourcc(*'MP4V')\n",
        "    out = cv2.VideoWriter(output_video_path, fourcc, fps, (224, 224))\n",
        "\n",
        "    frame_id = 1\n",
        "    while True:\n",
        "        ret, frame = cap.read()\n",
        "        if not ret:\n",
        "            break\n",
        "\n",
        "        largest_bbox = None\n",
        "        max_area = 0\n",
        "        for pred in predictions:\n",
        "            if pred[0][3] == frame_id:  # Kiểm tra frame_id của prediction\n",
        "                _, _, bbox, _ = pred[0]\n",
        "                x_min, y_min, x_max, y_max = bbox\n",
        "                area = (x_max - x_min) * (y_max - y_min)\n",
        "                if area > max_area:\n",
        "                    max_area = area\n",
        "                    largest_bbox = bbox\n",
        "        if largest_bbox is not None:\n",
        "            x_min, y_min, x_max, y_max = largest_bbox\n",
        "            cropped_frame = frame[int(y_min):int(y_max), int(x_min):int(x_max)]\n",
        "        else:\n",
        "            # Nếu không có bbox, lấy toàn bộ khung hình\n",
        "            cropped_frame = frame\n",
        "\n",
        "        # Resize khung hình về 224x224\n",
        "        resized_frame = cv2.resize(cropped_frame, (224, 224))\n",
        "\n",
        "        # Viết frame đã chỉnh sửa vào file output\n",
        "        out.write(resized_frame)\n",
        "\n",
        "        frame_id += 1\n",
        "\n",
        "    # Giải phóng và đóng tất cả\n",
        "    cap.release()\n",
        "    out.release()\n",
        "\n",
        "\n",
        "# input_video_path = '/content/data_mae/train/lateral raise/lateral_raise_6.MOV'\n",
        "# output_video_path = 'output.mp4'\n",
        "\n",
        "# crop_and_resize_frames(input_video_path, output_video_path, video_detections)"
      ]
    },
    {
      "cell_type": "markdown",
      "metadata": {
        "id": "angwk9Flha3s"
      },
      "source": [
        "Iteritor all video"
      ]
    },
    {
      "cell_type": "code",
      "execution_count": 11,
      "metadata": {
        "colab": {
          "base_uri": "https://localhost:8080/"
        },
        "id": "YWeDSotj1FS3",
        "outputId": "043509fe-aca3-4bd8-9454-2458560aec7c"
      },
      "outputs": [
        {
          "name": "stderr",
          "output_type": "stream",
          "text": [
            "YOLOv5 🚀 1e33dbb Python-3.10.12 torch-2.2.1+cu121 CUDA:0 (Tesla T4, 15102MiB)\n",
            "\n"
          ]
        },
        {
          "name": "stdout",
          "output_type": "stream",
          "text": [
            "Video /content/p3/pull up/pull_up_10003.mp4 đã được xử lý trước đó và tồn tại trong thư mục đầu ra.\n",
            "Video /content/p3/pull up/pull_up_10004.mp4 đã được xử lý trước đó và tồn tại trong thư mục đầu ra.\n",
            "Video /content/p3/pull up/pull_up_10008.mp4 đã được xử lý trước đó và tồn tại trong thư mục đầu ra.\n",
            "Video /content/p3/pull up/pull_up_10009.mp4 đã được xử lý trước đó và tồn tại trong thư mục đầu ra.\n",
            "Video /content/p3/pull up/Video 24-03-2024, 17 17 09 - Trim.mp4 đã được xử lý trước đó và tồn tại trong thư mục đầu ra.\n",
            "Video /content/p3/pull up/Video 24-03-2024, 17 16 01 - Trim.mp4 đã được xử lý trước đó và tồn tại trong thư mục đầu ra.\n",
            "Video /content/p3/pull up/pull_up_100010.mp4 đã được xử lý trước đó và tồn tại trong thư mục đầu ra.\n",
            "Video /content/p3/pull up/Video 24-03-2024, 17 15 23 - Trim.mp4 đã được xử lý trước đó và tồn tại trong thư mục đầu ra.\n",
            "Video /content/p3/pull up/pull_up_10006.mp4 đã được xử lý trước đó và tồn tại trong thư mục đầu ra.\n",
            "Video /content/p3/pull up/pull_up_10007.mp4 đã được xử lý trước đó và tồn tại trong thư mục đầu ra.\n",
            "Video /content/p2/pull up/pull_up_10001.mp4 có độ dài lớn hơn 1 phút và đã bị bỏ qua.\n",
            "Xử lý video /content/p2/pull up/pull_up_10002.mp4\n"
          ]
        },
        {
          "name": "stderr",
          "output_type": "stream",
          "text": [
            "Fusing layers... \n",
            "gelan-c summary: 467 layers, 25411731 parameters, 0 gradients, 102.5 GFLOPs\n",
            "YOLOv5 🚀 1e33dbb Python-3.10.12 torch-2.2.1+cu121 CUDA:0 (Tesla T4, 15102MiB)\n",
            "\n"
          ]
        },
        {
          "name": "stdout",
          "output_type": "stream",
          "text": [
            "Xử lý video /content/p2/pull up/pull_up_10005.mp4\n"
          ]
        },
        {
          "name": "stderr",
          "output_type": "stream",
          "text": [
            "Fusing layers... \n",
            "gelan-c summary: 467 layers, 25411731 parameters, 0 gradients, 102.5 GFLOPs\n",
            "YOLOv5 🚀 1e33dbb Python-3.10.12 torch-2.2.1+cu121 CUDA:0 (Tesla T4, 15102MiB)\n",
            "\n"
          ]
        },
        {
          "name": "stdout",
          "output_type": "stream",
          "text": [
            "Xử lý video /content/p2/chest fly machine/chest_fly_machine_10005.mp4\n"
          ]
        },
        {
          "name": "stderr",
          "output_type": "stream",
          "text": [
            "Fusing layers... \n",
            "gelan-c summary: 467 layers, 25411731 parameters, 0 gradients, 102.5 GFLOPs\n",
            "YOLOv5 🚀 1e33dbb Python-3.10.12 torch-2.2.1+cu121 CUDA:0 (Tesla T4, 15102MiB)\n",
            "\n"
          ]
        },
        {
          "name": "stdout",
          "output_type": "stream",
          "text": [
            "Xử lý video /content/p2/chest fly machine/chest_fly_machine_10013.mp4\n"
          ]
        },
        {
          "name": "stderr",
          "output_type": "stream",
          "text": [
            "Fusing layers... \n",
            "gelan-c summary: 467 layers, 25411731 parameters, 0 gradients, 102.5 GFLOPs\n",
            "YOLOv5 🚀 1e33dbb Python-3.10.12 torch-2.2.1+cu121 CUDA:0 (Tesla T4, 15102MiB)\n",
            "\n"
          ]
        },
        {
          "name": "stdout",
          "output_type": "stream",
          "text": [
            "Xử lý video /content/p2/chest fly machine/chest_fly_machine_10007.mp4\n"
          ]
        },
        {
          "name": "stderr",
          "output_type": "stream",
          "text": [
            "Fusing layers... \n",
            "gelan-c summary: 467 layers, 25411731 parameters, 0 gradients, 102.5 GFLOPs\n",
            "YOLOv5 🚀 1e33dbb Python-3.10.12 torch-2.2.1+cu121 CUDA:0 (Tesla T4, 15102MiB)\n",
            "\n"
          ]
        },
        {
          "name": "stdout",
          "output_type": "stream",
          "text": [
            "Xử lý video /content/p2/chest fly machine/chest_fly_machine_10018.mp4\n"
          ]
        },
        {
          "name": "stderr",
          "output_type": "stream",
          "text": [
            "Fusing layers... \n",
            "gelan-c summary: 467 layers, 25411731 parameters, 0 gradients, 102.5 GFLOPs\n",
            "YOLOv5 🚀 1e33dbb Python-3.10.12 torch-2.2.1+cu121 CUDA:0 (Tesla T4, 15102MiB)\n",
            "\n"
          ]
        },
        {
          "name": "stdout",
          "output_type": "stream",
          "text": [
            "Xử lý video /content/p2/chest fly machine/chest_fly_machine_10006.mp4\n"
          ]
        },
        {
          "name": "stderr",
          "output_type": "stream",
          "text": [
            "Fusing layers... \n",
            "gelan-c summary: 467 layers, 25411731 parameters, 0 gradients, 102.5 GFLOPs\n",
            "YOLOv5 🚀 1e33dbb Python-3.10.12 torch-2.2.1+cu121 CUDA:0 (Tesla T4, 15102MiB)\n",
            "\n"
          ]
        },
        {
          "name": "stdout",
          "output_type": "stream",
          "text": [
            "Xử lý video /content/p2/chest fly machine/chest_fly_machine_10001.mp4\n"
          ]
        },
        {
          "name": "stderr",
          "output_type": "stream",
          "text": [
            "Fusing layers... \n",
            "gelan-c summary: 467 layers, 25411731 parameters, 0 gradients, 102.5 GFLOPs\n",
            "YOLOv5 🚀 1e33dbb Python-3.10.12 torch-2.2.1+cu121 CUDA:0 (Tesla T4, 15102MiB)\n",
            "\n"
          ]
        },
        {
          "name": "stdout",
          "output_type": "stream",
          "text": [
            "Xử lý video /content/p2/chest fly machine/chest_fly_machine_10012.mp4\n"
          ]
        },
        {
          "name": "stderr",
          "output_type": "stream",
          "text": [
            "Fusing layers... \n",
            "gelan-c summary: 467 layers, 25411731 parameters, 0 gradients, 102.5 GFLOPs\n",
            "YOLOv5 🚀 1e33dbb Python-3.10.12 torch-2.2.1+cu121 CUDA:0 (Tesla T4, 15102MiB)\n",
            "\n"
          ]
        },
        {
          "name": "stdout",
          "output_type": "stream",
          "text": [
            "Xử lý video /content/p2/chest fly machine/chest_fly_machine_10017.mp4\n"
          ]
        },
        {
          "name": "stderr",
          "output_type": "stream",
          "text": [
            "Fusing layers... \n",
            "gelan-c summary: 467 layers, 25411731 parameters, 0 gradients, 102.5 GFLOPs\n",
            "YOLOv5 🚀 1e33dbb Python-3.10.12 torch-2.2.1+cu121 CUDA:0 (Tesla T4, 15102MiB)\n",
            "\n"
          ]
        },
        {
          "name": "stdout",
          "output_type": "stream",
          "text": [
            "Xử lý video /content/p2/chest fly machine/chest_fly_machine_10009.mp4\n"
          ]
        },
        {
          "name": "stderr",
          "output_type": "stream",
          "text": [
            "Fusing layers... \n",
            "gelan-c summary: 467 layers, 25411731 parameters, 0 gradients, 102.5 GFLOPs\n",
            "YOLOv5 🚀 1e33dbb Python-3.10.12 torch-2.2.1+cu121 CUDA:0 (Tesla T4, 15102MiB)\n",
            "\n"
          ]
        },
        {
          "name": "stdout",
          "output_type": "stream",
          "text": [
            "Xử lý video /content/p2/chest fly machine/chest_fly_machine_10015.mp4\n"
          ]
        },
        {
          "name": "stderr",
          "output_type": "stream",
          "text": [
            "Fusing layers... \n",
            "gelan-c summary: 467 layers, 25411731 parameters, 0 gradients, 102.5 GFLOPs\n",
            "YOLOv5 🚀 1e33dbb Python-3.10.12 torch-2.2.1+cu121 CUDA:0 (Tesla T4, 15102MiB)\n",
            "\n"
          ]
        },
        {
          "name": "stdout",
          "output_type": "stream",
          "text": [
            "Xử lý video /content/p2/chest fly machine/chest_fly_machine_10003.mp4\n"
          ]
        },
        {
          "name": "stderr",
          "output_type": "stream",
          "text": [
            "Fusing layers... \n",
            "gelan-c summary: 467 layers, 25411731 parameters, 0 gradients, 102.5 GFLOPs\n",
            "YOLOv5 🚀 1e33dbb Python-3.10.12 torch-2.2.1+cu121 CUDA:0 (Tesla T4, 15102MiB)\n",
            "\n"
          ]
        },
        {
          "name": "stdout",
          "output_type": "stream",
          "text": [
            "Xử lý video /content/p2/chest fly machine/chest_fly_machine_10002.mp4\n"
          ]
        },
        {
          "name": "stderr",
          "output_type": "stream",
          "text": [
            "Fusing layers... \n",
            "gelan-c summary: 467 layers, 25411731 parameters, 0 gradients, 102.5 GFLOPs\n",
            "YOLOv5 🚀 1e33dbb Python-3.10.12 torch-2.2.1+cu121 CUDA:0 (Tesla T4, 15102MiB)\n",
            "\n"
          ]
        },
        {
          "name": "stdout",
          "output_type": "stream",
          "text": [
            "Xử lý video /content/p2/chest fly machine/chest_fly_machine_10010.mp4\n"
          ]
        },
        {
          "name": "stderr",
          "output_type": "stream",
          "text": [
            "Fusing layers... \n",
            "gelan-c summary: 467 layers, 25411731 parameters, 0 gradients, 102.5 GFLOPs\n",
            "YOLOv5 🚀 1e33dbb Python-3.10.12 torch-2.2.1+cu121 CUDA:0 (Tesla T4, 15102MiB)\n",
            "\n"
          ]
        },
        {
          "name": "stdout",
          "output_type": "stream",
          "text": [
            "Xử lý video /content/p2/chest fly machine/chest_fly_machine_10011.mp4\n"
          ]
        },
        {
          "name": "stderr",
          "output_type": "stream",
          "text": [
            "Fusing layers... \n",
            "gelan-c summary: 467 layers, 25411731 parameters, 0 gradients, 102.5 GFLOPs\n",
            "YOLOv5 🚀 1e33dbb Python-3.10.12 torch-2.2.1+cu121 CUDA:0 (Tesla T4, 15102MiB)\n",
            "\n"
          ]
        },
        {
          "name": "stdout",
          "output_type": "stream",
          "text": [
            "Xử lý video /content/p2/chest fly machine/chest_fly_machine_10004.mp4\n"
          ]
        },
        {
          "name": "stderr",
          "output_type": "stream",
          "text": [
            "Fusing layers... \n",
            "gelan-c summary: 467 layers, 25411731 parameters, 0 gradients, 102.5 GFLOPs\n",
            "YOLOv5 🚀 1e33dbb Python-3.10.12 torch-2.2.1+cu121 CUDA:0 (Tesla T4, 15102MiB)\n",
            "\n"
          ]
        },
        {
          "name": "stdout",
          "output_type": "stream",
          "text": [
            "Xử lý video /content/p2/chest fly machine/chest_fly_machine_10014.mp4\n"
          ]
        },
        {
          "name": "stderr",
          "output_type": "stream",
          "text": [
            "Fusing layers... \n",
            "gelan-c summary: 467 layers, 25411731 parameters, 0 gradients, 102.5 GFLOPs\n",
            "YOLOv5 🚀 1e33dbb Python-3.10.12 torch-2.2.1+cu121 CUDA:0 (Tesla T4, 15102MiB)\n",
            "\n"
          ]
        },
        {
          "name": "stdout",
          "output_type": "stream",
          "text": [
            "Xử lý video /content/p2/chest fly machine/chest_fly_machine_10016.mp4\n"
          ]
        },
        {
          "name": "stderr",
          "output_type": "stream",
          "text": [
            "Fusing layers... \n",
            "gelan-c summary: 467 layers, 25411731 parameters, 0 gradients, 102.5 GFLOPs\n",
            "YOLOv5 🚀 1e33dbb Python-3.10.12 torch-2.2.1+cu121 CUDA:0 (Tesla T4, 15102MiB)\n",
            "\n"
          ]
        },
        {
          "name": "stdout",
          "output_type": "stream",
          "text": [
            "Xử lý video /content/p2/chest fly machine/chest_fly_machine_10019.mp4\n"
          ]
        },
        {
          "name": "stderr",
          "output_type": "stream",
          "text": [
            "Fusing layers... \n",
            "gelan-c summary: 467 layers, 25411731 parameters, 0 gradients, 102.5 GFLOPs\n",
            "YOLOv5 🚀 1e33dbb Python-3.10.12 torch-2.2.1+cu121 CUDA:0 (Tesla T4, 15102MiB)\n",
            "\n"
          ]
        },
        {
          "name": "stdout",
          "output_type": "stream",
          "text": [
            "Xử lý video /content/p2/chest fly machine/chest_fly_machine_10008.mp4\n"
          ]
        },
        {
          "name": "stderr",
          "output_type": "stream",
          "text": [
            "Fusing layers... \n",
            "gelan-c summary: 467 layers, 25411731 parameters, 0 gradients, 102.5 GFLOPs\n",
            "YOLOv5 🚀 1e33dbb Python-3.10.12 torch-2.2.1+cu121 CUDA:0 (Tesla T4, 15102MiB)\n",
            "\n"
          ]
        },
        {
          "name": "stdout",
          "output_type": "stream",
          "text": [
            "Xử lý video /content/p2/plank/plank_100018.mp4\n"
          ]
        },
        {
          "name": "stderr",
          "output_type": "stream",
          "text": [
            "Fusing layers... \n",
            "gelan-c summary: 467 layers, 25411731 parameters, 0 gradients, 102.5 GFLOPs\n",
            "YOLOv5 🚀 1e33dbb Python-3.10.12 torch-2.2.1+cu121 CUDA:0 (Tesla T4, 15102MiB)\n",
            "\n"
          ]
        },
        {
          "name": "stdout",
          "output_type": "stream",
          "text": [
            "Xử lý video /content/p2/plank/plank_100025.mp4\n"
          ]
        },
        {
          "name": "stderr",
          "output_type": "stream",
          "text": [
            "Fusing layers... \n",
            "gelan-c summary: 467 layers, 25411731 parameters, 0 gradients, 102.5 GFLOPs\n",
            "YOLOv5 🚀 1e33dbb Python-3.10.12 torch-2.2.1+cu121 CUDA:0 (Tesla T4, 15102MiB)\n",
            "\n"
          ]
        },
        {
          "name": "stdout",
          "output_type": "stream",
          "text": [
            "Xử lý video /content/p2/plank/Video 24-03-2024, 17 25 40 - Trim.mp4\n"
          ]
        },
        {
          "name": "stderr",
          "output_type": "stream",
          "text": [
            "Fusing layers... \n",
            "gelan-c summary: 467 layers, 25411731 parameters, 0 gradients, 102.5 GFLOPs\n",
            "YOLOv5 🚀 1e33dbb Python-3.10.12 torch-2.2.1+cu121 CUDA:0 (Tesla T4, 15102MiB)\n",
            "\n"
          ]
        },
        {
          "name": "stdout",
          "output_type": "stream",
          "text": [
            "Xử lý video /content/p2/plank/plank_10004.mp4\n"
          ]
        },
        {
          "name": "stderr",
          "output_type": "stream",
          "text": [
            "Fusing layers... \n",
            "gelan-c summary: 467 layers, 25411731 parameters, 0 gradients, 102.5 GFLOPs\n",
            "YOLOv5 🚀 1e33dbb Python-3.10.12 torch-2.2.1+cu121 CUDA:0 (Tesla T4, 15102MiB)\n",
            "\n"
          ]
        },
        {
          "name": "stdout",
          "output_type": "stream",
          "text": [
            "Xử lý video /content/p2/plank/plank_100036.mp4\n"
          ]
        },
        {
          "name": "stderr",
          "output_type": "stream",
          "text": [
            "Fusing layers... \n",
            "gelan-c summary: 467 layers, 25411731 parameters, 0 gradients, 102.5 GFLOPs\n",
            "YOLOv5 🚀 1e33dbb Python-3.10.12 torch-2.2.1+cu121 CUDA:0 (Tesla T4, 15102MiB)\n",
            "\n"
          ]
        },
        {
          "name": "stdout",
          "output_type": "stream",
          "text": [
            "Xử lý video /content/p2/plank/plank_10006.mp4\n"
          ]
        },
        {
          "name": "stderr",
          "output_type": "stream",
          "text": [
            "Fusing layers... \n",
            "gelan-c summary: 467 layers, 25411731 parameters, 0 gradients, 102.5 GFLOPs\n",
            "YOLOv5 🚀 1e33dbb Python-3.10.12 torch-2.2.1+cu121 CUDA:0 (Tesla T4, 15102MiB)\n",
            "\n"
          ]
        },
        {
          "name": "stdout",
          "output_type": "stream",
          "text": [
            "Xử lý video /content/p2/plank/plank_100017.mp4\n"
          ]
        },
        {
          "name": "stderr",
          "output_type": "stream",
          "text": [
            "Fusing layers... \n",
            "gelan-c summary: 467 layers, 25411731 parameters, 0 gradients, 102.5 GFLOPs\n",
            "YOLOv5 🚀 1e33dbb Python-3.10.12 torch-2.2.1+cu121 CUDA:0 (Tesla T4, 15102MiB)\n",
            "\n"
          ]
        },
        {
          "name": "stdout",
          "output_type": "stream",
          "text": [
            "Xử lý video /content/p2/plank/plank_100014.mp4\n"
          ]
        },
        {
          "name": "stderr",
          "output_type": "stream",
          "text": [
            "Fusing layers... \n",
            "gelan-c summary: 467 layers, 25411731 parameters, 0 gradients, 102.5 GFLOPs\n",
            "YOLOv5 🚀 1e33dbb Python-3.10.12 torch-2.2.1+cu121 CUDA:0 (Tesla T4, 15102MiB)\n",
            "\n"
          ]
        },
        {
          "name": "stdout",
          "output_type": "stream",
          "text": [
            "Xử lý video /content/p2/plank/plank_100026.mp4\n"
          ]
        },
        {
          "name": "stderr",
          "output_type": "stream",
          "text": [
            "Fusing layers... \n",
            "gelan-c summary: 467 layers, 25411731 parameters, 0 gradients, 102.5 GFLOPs\n",
            "YOLOv5 🚀 1e33dbb Python-3.10.12 torch-2.2.1+cu121 CUDA:0 (Tesla T4, 15102MiB)\n",
            "\n"
          ]
        },
        {
          "name": "stdout",
          "output_type": "stream",
          "text": [
            "Xử lý video /content/p2/plank/plank_100029.mp4\n"
          ]
        },
        {
          "name": "stderr",
          "output_type": "stream",
          "text": [
            "Fusing layers... \n",
            "gelan-c summary: 467 layers, 25411731 parameters, 0 gradients, 102.5 GFLOPs\n",
            "YOLOv5 🚀 1e33dbb Python-3.10.12 torch-2.2.1+cu121 CUDA:0 (Tesla T4, 15102MiB)\n",
            "\n"
          ]
        },
        {
          "name": "stdout",
          "output_type": "stream",
          "text": [
            "Xử lý video /content/p2/plank/plank_10005.mp4\n"
          ]
        },
        {
          "name": "stderr",
          "output_type": "stream",
          "text": [
            "Fusing layers... \n",
            "gelan-c summary: 467 layers, 25411731 parameters, 0 gradients, 102.5 GFLOPs\n",
            "YOLOv5 🚀 1e33dbb Python-3.10.12 torch-2.2.1+cu121 CUDA:0 (Tesla T4, 15102MiB)\n",
            "\n"
          ]
        },
        {
          "name": "stdout",
          "output_type": "stream",
          "text": [
            "Xử lý video /content/p2/plank/plank_100033.mp4\n"
          ]
        },
        {
          "name": "stderr",
          "output_type": "stream",
          "text": [
            "Fusing layers... \n",
            "gelan-c summary: 467 layers, 25411731 parameters, 0 gradients, 102.5 GFLOPs\n",
            "YOLOv5 🚀 1e33dbb Python-3.10.12 torch-2.2.1+cu121 CUDA:0 (Tesla T4, 15102MiB)\n",
            "\n"
          ]
        },
        {
          "name": "stdout",
          "output_type": "stream",
          "text": [
            "Xử lý video /content/p2/plank/plank_10008.mp4\n"
          ]
        },
        {
          "name": "stderr",
          "output_type": "stream",
          "text": [
            "Fusing layers... \n",
            "gelan-c summary: 467 layers, 25411731 parameters, 0 gradients, 102.5 GFLOPs\n",
            "YOLOv5 🚀 1e33dbb Python-3.10.12 torch-2.2.1+cu121 CUDA:0 (Tesla T4, 15102MiB)\n",
            "\n"
          ]
        },
        {
          "name": "stdout",
          "output_type": "stream",
          "text": [
            "Xử lý video /content/p2/plank/plank_100031.mp4\n"
          ]
        },
        {
          "name": "stderr",
          "output_type": "stream",
          "text": [
            "Fusing layers... \n",
            "gelan-c summary: 467 layers, 25411731 parameters, 0 gradients, 102.5 GFLOPs\n",
            "YOLOv5 🚀 1e33dbb Python-3.10.12 torch-2.2.1+cu121 CUDA:0 (Tesla T4, 15102MiB)\n",
            "\n"
          ]
        },
        {
          "name": "stdout",
          "output_type": "stream",
          "text": [
            "Xử lý video /content/p2/plank/plank_100015.mp4\n"
          ]
        },
        {
          "name": "stderr",
          "output_type": "stream",
          "text": [
            "Fusing layers... \n",
            "gelan-c summary: 467 layers, 25411731 parameters, 0 gradients, 102.5 GFLOPs\n",
            "YOLOv5 🚀 1e33dbb Python-3.10.12 torch-2.2.1+cu121 CUDA:0 (Tesla T4, 15102MiB)\n",
            "\n"
          ]
        },
        {
          "name": "stdout",
          "output_type": "stream",
          "text": [
            "Xử lý video /content/p2/plank/plank_100022.mp4\n"
          ]
        },
        {
          "name": "stderr",
          "output_type": "stream",
          "text": [
            "Fusing layers... \n",
            "gelan-c summary: 467 layers, 25411731 parameters, 0 gradients, 102.5 GFLOPs\n",
            "YOLOv5 🚀 1e33dbb Python-3.10.12 torch-2.2.1+cu121 CUDA:0 (Tesla T4, 15102MiB)\n",
            "\n"
          ]
        },
        {
          "name": "stdout",
          "output_type": "stream",
          "text": [
            "Xử lý video /content/p2/plank/plank_100024.mp4\n"
          ]
        },
        {
          "name": "stderr",
          "output_type": "stream",
          "text": [
            "Fusing layers... \n",
            "gelan-c summary: 467 layers, 25411731 parameters, 0 gradients, 102.5 GFLOPs\n",
            "YOLOv5 🚀 1e33dbb Python-3.10.12 torch-2.2.1+cu121 CUDA:0 (Tesla T4, 15102MiB)\n",
            "\n"
          ]
        },
        {
          "name": "stdout",
          "output_type": "stream",
          "text": [
            "Xử lý video /content/p2/plank/plank_100021.mp4\n"
          ]
        },
        {
          "name": "stderr",
          "output_type": "stream",
          "text": [
            "Fusing layers... \n",
            "gelan-c summary: 467 layers, 25411731 parameters, 0 gradients, 102.5 GFLOPs\n",
            "YOLOv5 🚀 1e33dbb Python-3.10.12 torch-2.2.1+cu121 CUDA:0 (Tesla T4, 15102MiB)\n",
            "\n"
          ]
        },
        {
          "name": "stdout",
          "output_type": "stream",
          "text": [
            "Xử lý video /content/p2/plank/plank_100013.mp4\n"
          ]
        },
        {
          "name": "stderr",
          "output_type": "stream",
          "text": [
            "Fusing layers... \n",
            "gelan-c summary: 467 layers, 25411731 parameters, 0 gradients, 102.5 GFLOPs\n",
            "YOLOv5 🚀 1e33dbb Python-3.10.12 torch-2.2.1+cu121 CUDA:0 (Tesla T4, 15102MiB)\n",
            "\n"
          ]
        },
        {
          "name": "stdout",
          "output_type": "stream",
          "text": [
            "Xử lý video /content/p2/plank/plank_100028.mp4\n"
          ]
        },
        {
          "name": "stderr",
          "output_type": "stream",
          "text": [
            "Fusing layers... \n",
            "gelan-c summary: 467 layers, 25411731 parameters, 0 gradients, 102.5 GFLOPs\n",
            "YOLOv5 🚀 1e33dbb Python-3.10.12 torch-2.2.1+cu121 CUDA:0 (Tesla T4, 15102MiB)\n",
            "\n"
          ]
        },
        {
          "name": "stdout",
          "output_type": "stream",
          "text": [
            "Video /content/p2/plank/plank_100037.mp4 có độ dài lớn hơn 1 phút và đã bị bỏ qua.\n",
            "Xử lý video /content/p2/plank/plank_100019.mp4\n"
          ]
        },
        {
          "name": "stderr",
          "output_type": "stream",
          "text": [
            "Fusing layers... \n",
            "gelan-c summary: 467 layers, 25411731 parameters, 0 gradients, 102.5 GFLOPs\n",
            "YOLOv5 🚀 1e33dbb Python-3.10.12 torch-2.2.1+cu121 CUDA:0 (Tesla T4, 15102MiB)\n",
            "\n"
          ]
        },
        {
          "name": "stdout",
          "output_type": "stream",
          "text": [
            "Xử lý video /content/p2/plank/plank_100020.mp4\n"
          ]
        },
        {
          "name": "stderr",
          "output_type": "stream",
          "text": [
            "Fusing layers... \n",
            "gelan-c summary: 467 layers, 25411731 parameters, 0 gradients, 102.5 GFLOPs\n",
            "YOLOv5 🚀 1e33dbb Python-3.10.12 torch-2.2.1+cu121 CUDA:0 (Tesla T4, 15102MiB)\n",
            "\n"
          ]
        },
        {
          "name": "stdout",
          "output_type": "stream",
          "text": [
            "Xử lý video /content/p2/plank/plank_10003.mp4\n"
          ]
        },
        {
          "name": "stderr",
          "output_type": "stream",
          "text": [
            "Fusing layers... \n",
            "gelan-c summary: 467 layers, 25411731 parameters, 0 gradients, 102.5 GFLOPs\n",
            "YOLOv5 🚀 1e33dbb Python-3.10.12 torch-2.2.1+cu121 CUDA:0 (Tesla T4, 15102MiB)\n",
            "\n"
          ]
        },
        {
          "name": "stdout",
          "output_type": "stream",
          "text": [
            "Xử lý video /content/p2/plank/plank_100032.mp4\n"
          ]
        },
        {
          "name": "stderr",
          "output_type": "stream",
          "text": [
            "Fusing layers... \n",
            "gelan-c summary: 467 layers, 25411731 parameters, 0 gradients, 102.5 GFLOPs\n",
            "YOLOv5 🚀 1e33dbb Python-3.10.12 torch-2.2.1+cu121 CUDA:0 (Tesla T4, 15102MiB)\n",
            "\n"
          ]
        },
        {
          "name": "stdout",
          "output_type": "stream",
          "text": [
            "Video /content/p2/plank/plank_100039.mp4 có độ dài lớn hơn 1 phút và đã bị bỏ qua.\n",
            "Xử lý video /content/p2/plank/plank_100034.mp4\n"
          ]
        },
        {
          "name": "stderr",
          "output_type": "stream",
          "text": [
            "Fusing layers... \n",
            "gelan-c summary: 467 layers, 25411731 parameters, 0 gradients, 102.5 GFLOPs\n",
            "YOLOv5 🚀 1e33dbb Python-3.10.12 torch-2.2.1+cu121 CUDA:0 (Tesla T4, 15102MiB)\n",
            "\n"
          ]
        },
        {
          "name": "stdout",
          "output_type": "stream",
          "text": [
            "Xử lý video /content/p2/plank/plank_100027.mp4\n"
          ]
        },
        {
          "name": "stderr",
          "output_type": "stream",
          "text": [
            "Fusing layers... \n",
            "gelan-c summary: 467 layers, 25411731 parameters, 0 gradients, 102.5 GFLOPs\n",
            "YOLOv5 🚀 1e33dbb Python-3.10.12 torch-2.2.1+cu121 CUDA:0 (Tesla T4, 15102MiB)\n",
            "\n"
          ]
        },
        {
          "name": "stdout",
          "output_type": "stream",
          "text": [
            "Xử lý video /content/p2/plank/plank_100030.mp4\n"
          ]
        },
        {
          "name": "stderr",
          "output_type": "stream",
          "text": [
            "Fusing layers... \n",
            "gelan-c summary: 467 layers, 25411731 parameters, 0 gradients, 102.5 GFLOPs\n",
            "YOLOv5 🚀 1e33dbb Python-3.10.12 torch-2.2.1+cu121 CUDA:0 (Tesla T4, 15102MiB)\n",
            "\n"
          ]
        },
        {
          "name": "stdout",
          "output_type": "stream",
          "text": [
            "Xử lý video /content/p2/plank/plank_100010.mp4\n"
          ]
        },
        {
          "name": "stderr",
          "output_type": "stream",
          "text": [
            "Fusing layers... \n",
            "gelan-c summary: 467 layers, 25411731 parameters, 0 gradients, 102.5 GFLOPs\n",
            "YOLOv5 🚀 1e33dbb Python-3.10.12 torch-2.2.1+cu121 CUDA:0 (Tesla T4, 15102MiB)\n",
            "\n"
          ]
        },
        {
          "name": "stdout",
          "output_type": "stream",
          "text": [
            "Xử lý video /content/p2/plank/plank_100016.mp4\n"
          ]
        },
        {
          "name": "stderr",
          "output_type": "stream",
          "text": [
            "Fusing layers... \n",
            "gelan-c summary: 467 layers, 25411731 parameters, 0 gradients, 102.5 GFLOPs\n",
            "YOLOv5 🚀 1e33dbb Python-3.10.12 torch-2.2.1+cu121 CUDA:0 (Tesla T4, 15102MiB)\n",
            "\n"
          ]
        },
        {
          "name": "stdout",
          "output_type": "stream",
          "text": [
            "Xử lý video /content/p2/plank/Video 24-03-2024, 17 26 01.mp4\n"
          ]
        },
        {
          "name": "stderr",
          "output_type": "stream",
          "text": [
            "Fusing layers... \n",
            "gelan-c summary: 467 layers, 25411731 parameters, 0 gradients, 102.5 GFLOPs\n",
            "YOLOv5 🚀 1e33dbb Python-3.10.12 torch-2.2.1+cu121 CUDA:0 (Tesla T4, 15102MiB)\n",
            "\n"
          ]
        },
        {
          "name": "stdout",
          "output_type": "stream",
          "text": [
            "Xử lý video /content/p2/plank/plank_10002.mp4\n"
          ]
        },
        {
          "name": "stderr",
          "output_type": "stream",
          "text": [
            "Fusing layers... \n",
            "gelan-c summary: 467 layers, 25411731 parameters, 0 gradients, 102.5 GFLOPs\n",
            "YOLOv5 🚀 1e33dbb Python-3.10.12 torch-2.2.1+cu121 CUDA:0 (Tesla T4, 15102MiB)\n",
            "\n"
          ]
        },
        {
          "name": "stdout",
          "output_type": "stream",
          "text": [
            "Xử lý video /content/p2/plank/plank_10001.mp4\n"
          ]
        },
        {
          "name": "stderr",
          "output_type": "stream",
          "text": [
            "Fusing layers... \n",
            "gelan-c summary: 467 layers, 25411731 parameters, 0 gradients, 102.5 GFLOPs\n",
            "YOLOv5 🚀 1e33dbb Python-3.10.12 torch-2.2.1+cu121 CUDA:0 (Tesla T4, 15102MiB)\n",
            "\n"
          ]
        },
        {
          "name": "stdout",
          "output_type": "stream",
          "text": [
            "Xử lý video /content/p2/plank/plank_100023.mp4\n"
          ]
        },
        {
          "name": "stderr",
          "output_type": "stream",
          "text": [
            "Fusing layers... \n",
            "gelan-c summary: 467 layers, 25411731 parameters, 0 gradients, 102.5 GFLOPs\n",
            "YOLOv5 🚀 1e33dbb Python-3.10.12 torch-2.2.1+cu121 CUDA:0 (Tesla T4, 15102MiB)\n",
            "\n"
          ]
        },
        {
          "name": "stdout",
          "output_type": "stream",
          "text": [
            "Video /content/p2/plank/plank_100038.mp4 có độ dài lớn hơn 1 phút và đã bị bỏ qua.\n",
            "Xử lý video /content/p2/plank/plank_10007.mp4\n"
          ]
        },
        {
          "name": "stderr",
          "output_type": "stream",
          "text": [
            "Fusing layers... \n",
            "gelan-c summary: 467 layers, 25411731 parameters, 0 gradients, 102.5 GFLOPs\n",
            "YOLOv5 🚀 1e33dbb Python-3.10.12 torch-2.2.1+cu121 CUDA:0 (Tesla T4, 15102MiB)\n",
            "\n"
          ]
        },
        {
          "name": "stdout",
          "output_type": "stream",
          "text": [
            "Xử lý video /content/p2/plank/plank_100012.mp4\n"
          ]
        },
        {
          "name": "stderr",
          "output_type": "stream",
          "text": [
            "Fusing layers... \n",
            "gelan-c summary: 467 layers, 25411731 parameters, 0 gradients, 102.5 GFLOPs\n",
            "YOLOv5 🚀 1e33dbb Python-3.10.12 torch-2.2.1+cu121 CUDA:0 (Tesla T4, 15102MiB)\n",
            "\n"
          ]
        },
        {
          "name": "stdout",
          "output_type": "stream",
          "text": [
            "Xử lý video /content/p2/plank/Video 24-03-2024, 17 26 01 (1) - Trim.mp4\n"
          ]
        },
        {
          "name": "stderr",
          "output_type": "stream",
          "text": [
            "Fusing layers... \n",
            "gelan-c summary: 467 layers, 25411731 parameters, 0 gradients, 102.5 GFLOPs\n",
            "YOLOv5 🚀 1e33dbb Python-3.10.12 torch-2.2.1+cu121 CUDA:0 (Tesla T4, 15102MiB)\n",
            "\n"
          ]
        },
        {
          "name": "stdout",
          "output_type": "stream",
          "text": [
            "Xử lý video /content/p2/plank/plank_100011.mp4\n"
          ]
        },
        {
          "name": "stderr",
          "output_type": "stream",
          "text": [
            "Fusing layers... \n",
            "gelan-c summary: 467 layers, 25411731 parameters, 0 gradients, 102.5 GFLOPs\n",
            "YOLOv5 🚀 1e33dbb Python-3.10.12 torch-2.2.1+cu121 CUDA:0 (Tesla T4, 15102MiB)\n",
            "\n"
          ]
        },
        {
          "name": "stdout",
          "output_type": "stream",
          "text": [
            "Xử lý video /content/p2/plank/plank_100035.mp4\n"
          ]
        },
        {
          "name": "stderr",
          "output_type": "stream",
          "text": [
            "Fusing layers... \n",
            "gelan-c summary: 467 layers, 25411731 parameters, 0 gradients, 102.5 GFLOPs\n",
            "YOLOv5 🚀 1e33dbb Python-3.10.12 torch-2.2.1+cu121 CUDA:0 (Tesla T4, 15102MiB)\n",
            "\n"
          ]
        },
        {
          "name": "stdout",
          "output_type": "stream",
          "text": [
            "Xử lý video /content/p2/t bar row/t_bar_row_100014.mp4\n"
          ]
        },
        {
          "name": "stderr",
          "output_type": "stream",
          "text": [
            "Fusing layers... \n",
            "gelan-c summary: 467 layers, 25411731 parameters, 0 gradients, 102.5 GFLOPs\n",
            "YOLOv5 🚀 1e33dbb Python-3.10.12 torch-2.2.1+cu121 CUDA:0 (Tesla T4, 15102MiB)\n",
            "\n"
          ]
        },
        {
          "name": "stdout",
          "output_type": "stream",
          "text": [
            "Xử lý video /content/p2/t bar row/t_bar_row_10007.mp4\n"
          ]
        },
        {
          "name": "stderr",
          "output_type": "stream",
          "text": [
            "Fusing layers... \n",
            "gelan-c summary: 467 layers, 25411731 parameters, 0 gradients, 102.5 GFLOPs\n",
            "YOLOv5 🚀 1e33dbb Python-3.10.12 torch-2.2.1+cu121 CUDA:0 (Tesla T4, 15102MiB)\n",
            "\n"
          ]
        },
        {
          "name": "stdout",
          "output_type": "stream",
          "text": [
            "Xử lý video /content/p2/t bar row/t_bar_row_100015.mp4\n"
          ]
        },
        {
          "name": "stderr",
          "output_type": "stream",
          "text": [
            "Fusing layers... \n",
            "gelan-c summary: 467 layers, 25411731 parameters, 0 gradients, 102.5 GFLOPs\n",
            "YOLOv5 🚀 1e33dbb Python-3.10.12 torch-2.2.1+cu121 CUDA:0 (Tesla T4, 15102MiB)\n",
            "\n"
          ]
        },
        {
          "name": "stdout",
          "output_type": "stream",
          "text": [
            "Xử lý video /content/p2/t bar row/t_bar_row_100013.mp4\n"
          ]
        },
        {
          "name": "stderr",
          "output_type": "stream",
          "text": [
            "Fusing layers... \n",
            "gelan-c summary: 467 layers, 25411731 parameters, 0 gradients, 102.5 GFLOPs\n",
            "YOLOv5 🚀 1e33dbb Python-3.10.12 torch-2.2.1+cu121 CUDA:0 (Tesla T4, 15102MiB)\n",
            "\n"
          ]
        },
        {
          "name": "stdout",
          "output_type": "stream",
          "text": [
            "Xử lý video /content/p2/t bar row/t_bar_row_10003.mp4\n"
          ]
        },
        {
          "name": "stderr",
          "output_type": "stream",
          "text": [
            "Fusing layers... \n",
            "gelan-c summary: 467 layers, 25411731 parameters, 0 gradients, 102.5 GFLOPs\n",
            "YOLOv5 🚀 1e33dbb Python-3.10.12 torch-2.2.1+cu121 CUDA:0 (Tesla T4, 15102MiB)\n",
            "\n"
          ]
        },
        {
          "name": "stdout",
          "output_type": "stream",
          "text": [
            "Xử lý video /content/p2/t bar row/t_bar_row_100011.mp4\n"
          ]
        },
        {
          "name": "stderr",
          "output_type": "stream",
          "text": [
            "Fusing layers... \n",
            "gelan-c summary: 467 layers, 25411731 parameters, 0 gradients, 102.5 GFLOPs\n",
            "YOLOv5 🚀 1e33dbb Python-3.10.12 torch-2.2.1+cu121 CUDA:0 (Tesla T4, 15102MiB)\n",
            "\n"
          ]
        },
        {
          "name": "stdout",
          "output_type": "stream",
          "text": [
            "Xử lý video /content/p2/t bar row/t_bar_row_10008.mp4\n"
          ]
        },
        {
          "name": "stderr",
          "output_type": "stream",
          "text": [
            "Fusing layers... \n",
            "gelan-c summary: 467 layers, 25411731 parameters, 0 gradients, 102.5 GFLOPs\n",
            "YOLOv5 🚀 1e33dbb Python-3.10.12 torch-2.2.1+cu121 CUDA:0 (Tesla T4, 15102MiB)\n",
            "\n"
          ]
        },
        {
          "name": "stdout",
          "output_type": "stream",
          "text": [
            "Xử lý video /content/p2/t bar row/t_bar_row_10006.mp4\n"
          ]
        },
        {
          "name": "stderr",
          "output_type": "stream",
          "text": [
            "Fusing layers... \n",
            "gelan-c summary: 467 layers, 25411731 parameters, 0 gradients, 102.5 GFLOPs\n",
            "YOLOv5 🚀 1e33dbb Python-3.10.12 torch-2.2.1+cu121 CUDA:0 (Tesla T4, 15102MiB)\n",
            "\n"
          ]
        },
        {
          "name": "stdout",
          "output_type": "stream",
          "text": [
            "Xử lý video /content/p2/t bar row/t_bar_row_100010.mp4\n"
          ]
        },
        {
          "name": "stderr",
          "output_type": "stream",
          "text": [
            "Fusing layers... \n",
            "gelan-c summary: 467 layers, 25411731 parameters, 0 gradients, 102.5 GFLOPs\n",
            "YOLOv5 🚀 1e33dbb Python-3.10.12 torch-2.2.1+cu121 CUDA:0 (Tesla T4, 15102MiB)\n",
            "\n"
          ]
        },
        {
          "name": "stdout",
          "output_type": "stream",
          "text": [
            "Xử lý video /content/p2/t bar row/t_bar_row_10004.mp4\n"
          ]
        },
        {
          "name": "stderr",
          "output_type": "stream",
          "text": [
            "Fusing layers... \n",
            "gelan-c summary: 467 layers, 25411731 parameters, 0 gradients, 102.5 GFLOPs\n",
            "YOLOv5 🚀 1e33dbb Python-3.10.12 torch-2.2.1+cu121 CUDA:0 (Tesla T4, 15102MiB)\n",
            "\n"
          ]
        },
        {
          "name": "stdout",
          "output_type": "stream",
          "text": [
            "Xử lý video /content/p2/t bar row/t_bar_row_10001.mp4\n"
          ]
        },
        {
          "name": "stderr",
          "output_type": "stream",
          "text": [
            "Fusing layers... \n",
            "gelan-c summary: 467 layers, 25411731 parameters, 0 gradients, 102.5 GFLOPs\n",
            "YOLOv5 🚀 1e33dbb Python-3.10.12 torch-2.2.1+cu121 CUDA:0 (Tesla T4, 15102MiB)\n",
            "\n"
          ]
        },
        {
          "name": "stdout",
          "output_type": "stream",
          "text": [
            "Xử lý video /content/p2/t bar row/t_bar_row_10005.mp4\n"
          ]
        },
        {
          "name": "stderr",
          "output_type": "stream",
          "text": [
            "Fusing layers... \n",
            "gelan-c summary: 467 layers, 25411731 parameters, 0 gradients, 102.5 GFLOPs\n",
            "YOLOv5 🚀 1e33dbb Python-3.10.12 torch-2.2.1+cu121 CUDA:0 (Tesla T4, 15102MiB)\n",
            "\n"
          ]
        },
        {
          "name": "stdout",
          "output_type": "stream",
          "text": [
            "Xử lý video /content/p2/t bar row/t_bar_row_100012.mp4\n"
          ]
        },
        {
          "name": "stderr",
          "output_type": "stream",
          "text": [
            "Fusing layers... \n",
            "gelan-c summary: 467 layers, 25411731 parameters, 0 gradients, 102.5 GFLOPs\n",
            "YOLOv5 🚀 1e33dbb Python-3.10.12 torch-2.2.1+cu121 CUDA:0 (Tesla T4, 15102MiB)\n",
            "\n"
          ]
        },
        {
          "name": "stdout",
          "output_type": "stream",
          "text": [
            "Xử lý video /content/p2/t bar row/t_bar_row_10002.mp4\n"
          ]
        },
        {
          "name": "stderr",
          "output_type": "stream",
          "text": [
            "Fusing layers... \n",
            "gelan-c summary: 467 layers, 25411731 parameters, 0 gradients, 102.5 GFLOPs\n",
            "YOLOv5 🚀 1e33dbb Python-3.10.12 torch-2.2.1+cu121 CUDA:0 (Tesla T4, 15102MiB)\n",
            "\n"
          ]
        },
        {
          "name": "stdout",
          "output_type": "stream",
          "text": [
            "Xử lý video /content/p2/t bar row/t_bar_row_10009.mp4\n"
          ]
        },
        {
          "name": "stderr",
          "output_type": "stream",
          "text": [
            "Fusing layers... \n",
            "gelan-c summary: 467 layers, 25411731 parameters, 0 gradients, 102.5 GFLOPs\n",
            "YOLOv5 🚀 1e33dbb Python-3.10.12 torch-2.2.1+cu121 CUDA:0 (Tesla T4, 15102MiB)\n",
            "\n"
          ]
        },
        {
          "name": "stdout",
          "output_type": "stream",
          "text": [
            "Xử lý video /content/p2/deadlift/deadlift_100017.mp4\n"
          ]
        },
        {
          "name": "stderr",
          "output_type": "stream",
          "text": [
            "Fusing layers... \n",
            "gelan-c summary: 467 layers, 25411731 parameters, 0 gradients, 102.5 GFLOPs\n",
            "YOLOv5 🚀 1e33dbb Python-3.10.12 torch-2.2.1+cu121 CUDA:0 (Tesla T4, 15102MiB)\n",
            "\n"
          ]
        },
        {
          "name": "stdout",
          "output_type": "stream",
          "text": [
            "Xử lý video /content/p2/deadlift/deadlift_10003.mp4\n"
          ]
        },
        {
          "name": "stderr",
          "output_type": "stream",
          "text": [
            "Fusing layers... \n",
            "gelan-c summary: 467 layers, 25411731 parameters, 0 gradients, 102.5 GFLOPs\n",
            "YOLOv5 🚀 1e33dbb Python-3.10.12 torch-2.2.1+cu121 CUDA:0 (Tesla T4, 15102MiB)\n",
            "\n"
          ]
        },
        {
          "name": "stdout",
          "output_type": "stream",
          "text": [
            "Xử lý video /content/p2/deadlift/deadlift_100012.mp4\n"
          ]
        },
        {
          "name": "stderr",
          "output_type": "stream",
          "text": [
            "Fusing layers... \n",
            "gelan-c summary: 467 layers, 25411731 parameters, 0 gradients, 102.5 GFLOPs\n",
            "YOLOv5 🚀 1e33dbb Python-3.10.12 torch-2.2.1+cu121 CUDA:0 (Tesla T4, 15102MiB)\n",
            "\n"
          ]
        },
        {
          "name": "stdout",
          "output_type": "stream",
          "text": [
            "Video /content/p2/deadlift/deadlift_10005.mp4 có độ dài lớn hơn 1 phút và đã bị bỏ qua.\n",
            "Video /content/p2/deadlift/deadlift_10004.mp4 có độ dài lớn hơn 1 phút và đã bị bỏ qua.\n",
            "Video /content/p2/deadlift/deadlift_10006.mp4 có độ dài lớn hơn 1 phút và đã bị bỏ qua.\n",
            "Xử lý video /content/p2/deadlift/deadlift_10002.mp4\n"
          ]
        },
        {
          "name": "stderr",
          "output_type": "stream",
          "text": [
            "Fusing layers... \n",
            "gelan-c summary: 467 layers, 25411731 parameters, 0 gradients, 102.5 GFLOPs\n",
            "YOLOv5 🚀 1e33dbb Python-3.10.12 torch-2.2.1+cu121 CUDA:0 (Tesla T4, 15102MiB)\n",
            "\n"
          ]
        },
        {
          "name": "stdout",
          "output_type": "stream",
          "text": [
            "Video /content/p2/deadlift/deadlift_10007.mp4 có độ dài lớn hơn 1 phút và đã bị bỏ qua.\n",
            "Xử lý video /content/p2/deadlift/deadlift_10009.mp4\n"
          ]
        },
        {
          "name": "stderr",
          "output_type": "stream",
          "text": [
            "Fusing layers... \n",
            "gelan-c summary: 467 layers, 25411731 parameters, 0 gradients, 102.5 GFLOPs\n",
            "YOLOv5 🚀 1e33dbb Python-3.10.12 torch-2.2.1+cu121 CUDA:0 (Tesla T4, 15102MiB)\n",
            "\n"
          ]
        },
        {
          "name": "stdout",
          "output_type": "stream",
          "text": [
            "Video /content/p2/deadlift/deadlift_100010.mp4 có độ dài lớn hơn 1 phút và đã bị bỏ qua.\n",
            "Xử lý video /content/p2/deadlift/deadlift_10001.mp4\n"
          ]
        },
        {
          "name": "stderr",
          "output_type": "stream",
          "text": [
            "Fusing layers... \n",
            "gelan-c summary: 467 layers, 25411731 parameters, 0 gradients, 102.5 GFLOPs\n",
            "YOLOv5 🚀 1e33dbb Python-3.10.12 torch-2.2.1+cu121 CUDA:0 (Tesla T4, 15102MiB)\n",
            "\n"
          ]
        },
        {
          "name": "stdout",
          "output_type": "stream",
          "text": [
            "Xử lý video /content/p2/deadlift/deadlift_100013.mp4\n"
          ]
        },
        {
          "name": "stderr",
          "output_type": "stream",
          "text": [
            "Fusing layers... \n",
            "gelan-c summary: 467 layers, 25411731 parameters, 0 gradients, 102.5 GFLOPs\n",
            "YOLOv5 🚀 1e33dbb Python-3.10.12 torch-2.2.1+cu121 CUDA:0 (Tesla T4, 15102MiB)\n",
            "\n"
          ]
        },
        {
          "name": "stdout",
          "output_type": "stream",
          "text": [
            "Xử lý video /content/p2/deadlift/deadlift_100016.mp4\n"
          ]
        },
        {
          "name": "stderr",
          "output_type": "stream",
          "text": [
            "Fusing layers... \n",
            "gelan-c summary: 467 layers, 25411731 parameters, 0 gradients, 102.5 GFLOPs\n",
            "YOLOv5 🚀 1e33dbb Python-3.10.12 torch-2.2.1+cu121 CUDA:0 (Tesla T4, 15102MiB)\n",
            "\n"
          ]
        },
        {
          "name": "stdout",
          "output_type": "stream",
          "text": [
            "Xử lý video /content/p2/deadlift/deadlift_100019.mp4\n"
          ]
        },
        {
          "name": "stderr",
          "output_type": "stream",
          "text": [
            "Fusing layers... \n",
            "gelan-c summary: 467 layers, 25411731 parameters, 0 gradients, 102.5 GFLOPs\n",
            "YOLOv5 🚀 1e33dbb Python-3.10.12 torch-2.2.1+cu121 CUDA:0 (Tesla T4, 15102MiB)\n",
            "\n"
          ]
        },
        {
          "name": "stdout",
          "output_type": "stream",
          "text": [
            "Xử lý video /content/p2/deadlift/deadlift_100018.mp4\n"
          ]
        },
        {
          "name": "stderr",
          "output_type": "stream",
          "text": [
            "Fusing layers... \n",
            "gelan-c summary: 467 layers, 25411731 parameters, 0 gradients, 102.5 GFLOPs\n",
            "YOLOv5 🚀 1e33dbb Python-3.10.12 torch-2.2.1+cu121 CUDA:0 (Tesla T4, 15102MiB)\n",
            "\n"
          ]
        },
        {
          "name": "stdout",
          "output_type": "stream",
          "text": [
            "Xử lý video /content/p2/deadlift/deadlift_100015.mp4\n"
          ]
        },
        {
          "name": "stderr",
          "output_type": "stream",
          "text": [
            "Fusing layers... \n",
            "gelan-c summary: 467 layers, 25411731 parameters, 0 gradients, 102.5 GFLOPs\n",
            "YOLOv5 🚀 1e33dbb Python-3.10.12 torch-2.2.1+cu121 CUDA:0 (Tesla T4, 15102MiB)\n",
            "\n"
          ]
        },
        {
          "name": "stdout",
          "output_type": "stream",
          "text": [
            "Xử lý video /content/p2/deadlift/deadlift_100014.mp4\n"
          ]
        },
        {
          "name": "stderr",
          "output_type": "stream",
          "text": [
            "Fusing layers... \n",
            "gelan-c summary: 467 layers, 25411731 parameters, 0 gradients, 102.5 GFLOPs\n",
            "YOLOv5 🚀 1e33dbb Python-3.10.12 torch-2.2.1+cu121 CUDA:0 (Tesla T4, 15102MiB)\n",
            "\n"
          ]
        },
        {
          "name": "stdout",
          "output_type": "stream",
          "text": [
            "Video /content/p2/deadlift/deadlift_100021.mp4 có độ dài lớn hơn 1 phút và đã bị bỏ qua.\n",
            "Xử lý video /content/p2/deadlift/deadlift_10008.mp4\n"
          ]
        },
        {
          "name": "stderr",
          "output_type": "stream",
          "text": [
            "Fusing layers... \n",
            "gelan-c summary: 467 layers, 25411731 parameters, 0 gradients, 102.5 GFLOPs\n",
            "YOLOv5 🚀 1e33dbb Python-3.10.12 torch-2.2.1+cu121 CUDA:0 (Tesla T4, 15102MiB)\n",
            "\n"
          ]
        },
        {
          "name": "stdout",
          "output_type": "stream",
          "text": [
            "Video /content/p2/deadlift/deadlift_100022.mp4 có độ dài lớn hơn 1 phút và đã bị bỏ qua.\n",
            "Xử lý video /content/p2/deadlift/deadlift_100011.mp4\n"
          ]
        },
        {
          "name": "stderr",
          "output_type": "stream",
          "text": [
            "Fusing layers... \n",
            "gelan-c summary: 467 layers, 25411731 parameters, 0 gradients, 102.5 GFLOPs\n",
            "YOLOv5 🚀 1e33dbb Python-3.10.12 torch-2.2.1+cu121 CUDA:0 (Tesla T4, 15102MiB)\n",
            "\n"
          ]
        },
        {
          "name": "stdout",
          "output_type": "stream",
          "text": [
            "Xử lý video /content/p2/deadlift/deadlift_100020.mp4\n"
          ]
        },
        {
          "name": "stderr",
          "output_type": "stream",
          "text": [
            "Fusing layers... \n",
            "gelan-c summary: 467 layers, 25411731 parameters, 0 gradients, 102.5 GFLOPs\n"
          ]
        }
      ],
      "source": [
        "import os\n",
        "import cv2\n",
        "\n",
        "data_dir = \"/content/p2\"\n",
        "output_dir = \"/content/p3\"\n",
        "\n",
        "for className in os.listdir(data_dir):\n",
        "    class_dir = os.path.join(data_dir, className)\n",
        "    if os.path.isdir(class_dir) and not className.startswith('.'):  # Bỏ qua các thư mục ẩn\n",
        "        for video_file in os.listdir(class_dir):\n",
        "            if not video_file.startswith('.'):  # Bỏ qua các tệp ẩn\n",
        "                input_video_path = os.path.join(class_dir, video_file)\n",
        "                output_video_path = f\"{output_dir}/{className}/{video_file}\"\n",
        "                os.makedirs(f\"{output_dir}/{className}\", exist_ok=True)\n",
        "\n",
        "                # Kiểm tra xem video đã tồn tại trong thư mục đầu ra hay không\n",
        "                if not os.path.exists(output_video_path):\n",
        "                    # Đọc độ dài của video\n",
        "                    cap = cv2.VideoCapture(input_video_path)\n",
        "                    frame_count = int(cap.get(cv2.CAP_PROP_FRAME_COUNT))\n",
        "                    fps = int(cap.get(cv2.CAP_PROP_FPS))\n",
        "                    duration = frame_count / fps  # Độ dài video tính theo giây\n",
        "\n",
        "                    # Kiểm tra nếu độ dài video lớn hơn 1 phút, thì bỏ qua\n",
        "                    if duration > 60:\n",
        "                        print(f\"Video {input_video_path} có độ dài lớn hơn 1 phút và đã bị bỏ qua.\")\n",
        "                        continue  # Bỏ qua video này và chuyển sang video tiếp theo\n",
        "                    else:\n",
        "                        print(f\"Xử lý video {input_video_path}\")\n",
        "                        video_detections = run_object_detection_video(source=input_video_path)\n",
        "                        crop_and_resize_frames(input_video_path, output_video_path, video_detections)\n",
        "                else:\n",
        "                    print(f\"Video {output_video_path} đã được xử lý trước đó và tồn tại trong thư mục đầu ra.\")\n",
        "                    "
      ]
    },
    {
      "cell_type": "code",
      "execution_count": 12,
      "metadata": {
        "colab": {
          "base_uri": "https://localhost:8080/"
        },
        "id": "Y1XCmHQnLhx5",
        "outputId": "ad3cbb3c-85e5-4780-9e9f-a98399197b72"
      },
      "outputs": [
        {
          "name": "stdout",
          "output_type": "stream",
          "text": [
            "/content\n"
          ]
        }
      ],
      "source": [
        "cd .."
      ]
    },
    {
      "cell_type": "code",
      "execution_count": null,
      "metadata": {
        "id": "E4IyoxJpLcL8"
      },
      "outputs": [],
      "source": [
        "!gdown --id '1--sksl-k0NPC8ax3TzMXTEY2dGkXKXO_'"
      ]
    },
    {
      "cell_type": "code",
      "execution_count": null,
      "metadata": {
        "id": "kjf8UH0ILeqP"
      },
      "outputs": [],
      "source": [
        "!unzip '/content/v3_part2_1.zip' -d './p4'"
      ]
    },
    {
      "cell_type": "code",
      "execution_count": null,
      "metadata": {
        "id": "iJRJnHoxK3lh"
      },
      "outputs": [],
      "source": [
        "import os\n",
        "import shutil\n",
        "\n",
        "# Define the base paths for the test and val directories\n",
        "base_test_path = '/content/p3'\n",
        "base_val_path = '/content/p4/content/addDataAfterYolo'\n",
        "\n",
        "# Get a list of class folders in the test directory\n",
        "class_folders = os.listdir(base_test_path)\n",
        "\n",
        "# Iterate over each class folder\n",
        "for class_folder in class_folders:\n",
        "    test_class_path = os.path.join(base_test_path, class_folder)\n",
        "    val_class_path = os.path.join(base_val_path, class_folder)\n",
        "\n",
        "    # Ensure the corresponding folder in val exists, if not, create it\n",
        "    if not os.path.exists(val_class_path):\n",
        "        os.makedirs(val_class_path)\n",
        "\n",
        "    # Move each video file from the test class folder to the val class folder\n",
        "    for file in os.listdir(test_class_path):\n",
        "        # Check if the file is a video based on its extension\n",
        "        if file.lower().endswith(('.mp4', '.mov', 'MOV')):\n",
        "            # Define the source and destination paths for the file\n",
        "            src_file_path = os.path.join(test_class_path, file)\n",
        "            dest_file_path = os.path.join(val_class_path, file)\n",
        "\n",
        "            # Move the file\n",
        "            shutil.move(src_file_path, dest_file_path)\n",
        "            print(f\"Moved {file} from {test_class_path} to {val_class_path}\")\n",
        "\n",
        "print(\"Video files have been moved.\")\n"
      ]
    },
    {
      "cell_type": "code",
      "execution_count": null,
      "metadata": {
        "id": "Dka6cy8MRAYF"
      },
      "outputs": [],
      "source": [
        "!gdown --id '1B6RhDvRsBOqAw4E8qeFf6ZjpnJensgCi'"
      ]
    },
    {
      "cell_type": "code",
      "execution_count": 18,
      "metadata": {
        "colab": {
          "base_uri": "https://localhost:8080/"
        },
        "id": "Ntxbjw94RNNv",
        "outputId": "79de35f5-4593-43f9-d191-d376c4cd94fd"
      },
      "outputs": [
        {
          "name": "stdout",
          "output_type": "stream",
          "text": [
            "Archive:  /content/v2_part2.zip\n",
            "   creating: ./p5/content/output3/\n",
            "   creating: ./p5/content/output3/train/\n",
            "   creating: ./p5/content/output3/train/incline bench press/\n",
            "  inflating: ./p5/content/output3/train/incline bench press/incline_bench_press_102.mp4  \n",
            "  inflating: ./p5/content/output3/train/incline bench press/incline_bench_press_10.mp4  \n",
            "  inflating: ./p5/content/output3/train/incline bench press/incline_bench_press_18.mp4  \n",
            "  inflating: ./p5/content/output3/train/incline bench press/incline_bench_press_2.mp4  \n",
            "  inflating: ./p5/content/output3/train/incline bench press/incline_bench_press_24.mp4  \n",
            "  inflating: ./p5/content/output3/train/incline bench press/incline_bench_press_22.mp4  \n",
            "  inflating: ./p5/content/output3/train/incline bench press/incline_bench_press_15.mp4  \n",
            "  inflating: ./p5/content/output3/train/incline bench press/incline_bench_press_20.mp4  \n",
            "  inflating: ./p5/content/output3/train/incline bench press/incline_bench_press_7.mp4  \n",
            "  inflating: ./p5/content/output3/train/incline bench press/incline_bench_press_13.mp4  \n",
            "  inflating: ./p5/content/output3/train/incline bench press/incline_bench_press_4.mp4  \n",
            "  inflating: ./p5/content/output3/train/incline bench press/incline_bench_press_23.mp4  \n",
            "  inflating: ./p5/content/output3/train/incline bench press/incline_bench_press_9.mp4  \n",
            "  inflating: ./p5/content/output3/train/incline bench press/incline_bench_press_14.mp4  \n",
            "  inflating: ./p5/content/output3/train/incline bench press/incline_bench_press_26.mp4  \n",
            "  inflating: ./p5/content/output3/train/incline bench press/incline_bench_press_1.mp4  \n",
            "  inflating: ./p5/content/output3/train/incline bench press/incline_bench_press_201.mp4  \n",
            "  inflating: ./p5/content/output3/train/incline bench press/incline_bench_press_21.mp4  \n",
            "  inflating: ./p5/content/output3/train/incline bench press/incline_bench_press_25.mp4  \n",
            "  inflating: ./p5/content/output3/train/incline bench press/incline_bench_press_16.mp4  \n",
            "  inflating: ./p5/content/output3/train/incline bench press/incline_bench_press_8.mp4  \n",
            "  inflating: ./p5/content/output3/train/incline bench press/incline_bench_press_3.mp4  \n",
            "  inflating: ./p5/content/output3/train/incline bench press/incline_bench_press_12.mp4  \n",
            "  inflating: ./p5/content/output3/train/incline bench press/incline_bench_press_19.mp4  \n",
            "  inflating: ./p5/content/output3/train/incline bench press/incline_bench_press_6.mp4  \n",
            "  inflating: ./p5/content/output3/train/incline bench press/incline_bench_press_17.mp4  \n",
            "  inflating: ./p5/content/output3/train/incline bench press/incline_bench_press_5.mp4  \n",
            "  inflating: ./p5/content/output3/train/incline bench press/incline_bench_press_11.mp4  \n",
            "  inflating: ./p5/content/output3/train/incline bench press/incline_bench_press_101.mp4  \n",
            "   creating: ./p5/content/output3/train/tricep pushdown/\n",
            "  inflating: ./p5/content/output3/train/tricep pushdown/tricep_pushdown_3.mp4  \n",
            "  inflating: ./p5/content/output3/train/tricep pushdown/tricep_pushdown_15.mp4  \n",
            "  inflating: ./p5/content/output3/train/tricep pushdown/tricep_pushdown_110.mp4  \n",
            "  inflating: ./p5/content/output3/train/tricep pushdown/tricep_pushdown_101.mp4  \n",
            "  inflating: ./p5/content/output3/train/tricep pushdown/tricep_pushdown_7.mp4  \n",
            "  inflating: ./p5/content/output3/train/tricep pushdown/tricep_pushdown_28.mp4  \n",
            "  inflating: ./p5/content/output3/train/tricep pushdown/tricep_pushdown_6.mp4  \n",
            "  inflating: ./p5/content/output3/train/tricep pushdown/tricep_pushdown_38.mp4  \n",
            "  inflating: ./p5/content/output3/train/tricep pushdown/tricep_pushdown_12.mp4  \n",
            "  inflating: ./p5/content/output3/train/tricep pushdown/tricep_pushdown_17.mp4  \n",
            "  inflating: ./p5/content/output3/train/tricep pushdown/tricep_pushdown_105.mp4  \n",
            "  inflating: ./p5/content/output3/train/tricep pushdown/tricep_pushdown_21.mp4  \n",
            "  inflating: ./p5/content/output3/train/tricep pushdown/tricep_pushdown_29.mp4  \n",
            "  inflating: ./p5/content/output3/train/tricep pushdown/tricep_pushdown_37.mp4  \n",
            "  inflating: ./p5/content/output3/train/tricep pushdown/tricep_pushdown_13.mp4  \n",
            "  inflating: ./p5/content/output3/train/tricep pushdown/tricep_pushdown_39.mp4  \n",
            "  inflating: ./p5/content/output3/train/tricep pushdown/tricep_pushdown_1.mp4  \n",
            "  inflating: ./p5/content/output3/train/tricep pushdown/tricep_pushdown_10.mp4  \n",
            "  inflating: ./p5/content/output3/train/tricep pushdown/tricep_pushdown_11.mp4  \n",
            "  inflating: ./p5/content/output3/train/tricep pushdown/tricep_pushdown_104.mp4  \n",
            "  inflating: ./p5/content/output3/train/tricep pushdown/tricep_pushdown_4.mp4  \n",
            "  inflating: ./p5/content/output3/train/tricep pushdown/tricep_pushdown_103.mp4  \n",
            "  inflating: ./p5/content/output3/train/tricep pushdown/tricep_pushdown_40.mp4  \n",
            "  inflating: ./p5/content/output3/train/tricep pushdown/tricep_pushdown_20.mp4  \n",
            "  inflating: ./p5/content/output3/train/tricep pushdown/tricep_pushdown_27.mp4  \n",
            "  inflating: ./p5/content/output3/train/tricep pushdown/tricep_pushdown_26.mp4  \n",
            "  inflating: ./p5/content/output3/train/tricep pushdown/tricep_pushdown_18.mp4  \n",
            "  inflating: ./p5/content/output3/train/tricep pushdown/tricep_pushdown_2.mp4  \n",
            "  inflating: ./p5/content/output3/train/tricep pushdown/tricep_pushdown_9.mp4  \n",
            "  inflating: ./p5/content/output3/train/tricep pushdown/tricep_pushdown_102.mp4  \n",
            "  inflating: ./p5/content/output3/train/tricep pushdown/tricep_pushdown_32.mp4  \n",
            "  inflating: ./p5/content/output3/train/tricep pushdown/tricep_pushdown_25.mp4  \n",
            "  inflating: ./p5/content/output3/train/tricep pushdown/tricep_pushdown_5.mp4  \n",
            "  inflating: ./p5/content/output3/train/tricep pushdown/tricep_pushdown_35.mp4  \n",
            "  inflating: ./p5/content/output3/train/tricep pushdown/tricep_pushdown_19.mp4  \n",
            "  inflating: ./p5/content/output3/train/tricep pushdown/tricep_pushdown_24.mp4  \n",
            "  inflating: ./p5/content/output3/train/tricep pushdown/tricep_pushdown_22.mp4  \n",
            "  inflating: ./p5/content/output3/train/tricep pushdown/tricep_pushdown_8.mp4  \n",
            "  inflating: ./p5/content/output3/train/tricep pushdown/tricep_pushdown_14.mp4  \n",
            "  inflating: ./p5/content/output3/train/tricep pushdown/tricep_pushdown_106.mp4  \n",
            "  inflating: ./p5/content/output3/train/tricep pushdown/tricep_pushdown_33.mp4  \n",
            "  inflating: ./p5/content/output3/train/tricep pushdown/tricep_pushdown_23.mp4  \n",
            "  inflating: ./p5/content/output3/train/tricep pushdown/tricep_pushdown_107.mp4  \n",
            "  inflating: ./p5/content/output3/train/tricep pushdown/tricep_pushdown_109.mp4  \n",
            "  inflating: ./p5/content/output3/train/tricep pushdown/tricep_pushdown_31.mp4  \n",
            "  inflating: ./p5/content/output3/train/tricep pushdown/tricep_pushdown_30.mp4  \n",
            "  inflating: ./p5/content/output3/train/tricep pushdown/tricep_pushdown_34.mp4  \n",
            "  inflating: ./p5/content/output3/train/tricep pushdown/tricep_pushdown_16.mp4  \n",
            "  inflating: ./p5/content/output3/train/tricep pushdown/tricep_pushdown_108.mp4  \n",
            "  inflating: ./p5/content/output3/train/tricep pushdown/tricep_pushdown_111.mp4  \n",
            "  inflating: ./p5/content/output3/train/tricep pushdown/tricep_pushdown_36.mp4  \n",
            "   creating: ./p5/content/output3/train/deadlift/\n",
            "  inflating: ./p5/content/output3/train/deadlift/deadlift_11.mp4  \n",
            "  inflating: ./p5/content/output3/train/deadlift/deadlift_23.mp4  \n",
            "  inflating: ./p5/content/output3/train/deadlift/deadlift_16.mp4  \n",
            "  inflating: ./p5/content/output3/train/deadlift/deadlift_18.mp4  \n",
            "  inflating: ./p5/content/output3/train/deadlift/deadlift_2.mp4  \n",
            "  inflating: ./p5/content/output3/train/deadlift/deadlift_5.mp4  \n",
            "  inflating: ./p5/content/output3/train/deadlift/deadlift_101.mp4  \n",
            "  inflating: ./p5/content/output3/train/deadlift/deadlift_24.mp4  \n",
            "  inflating: ./p5/content/output3/train/deadlift/deadlift_14.mp4  \n",
            "  inflating: ./p5/content/output3/train/deadlift/deadlift_8.mp4  \n",
            "  inflating: ./p5/content/output3/train/deadlift/deadlift_15.mp4  \n",
            "  inflating: ./p5/content/output3/train/deadlift/deadlift_19.mp4  \n",
            "  inflating: ./p5/content/output3/train/deadlift/deadlift_12.mp4  \n",
            "  inflating: ./p5/content/output3/train/deadlift/deadlift_10.mp4  \n",
            "  inflating: ./p5/content/output3/train/deadlift/deadlift_6.mp4  \n",
            "  inflating: ./p5/content/output3/train/deadlift/deadlift_7.mp4  \n",
            "  inflating: ./p5/content/output3/train/deadlift/deadlift_3.mp4  \n",
            "  inflating: ./p5/content/output3/train/deadlift/deadlift_104.mp4  \n",
            "  inflating: ./p5/content/output3/train/deadlift/deadlift_102.mp4  \n",
            "  inflating: ./p5/content/output3/train/deadlift/deadlift_22.mp4  \n",
            "  inflating: ./p5/content/output3/train/deadlift/deadlift_9.mp4  \n",
            "  inflating: ./p5/content/output3/train/deadlift/deadlift_26.mp4  \n",
            "  inflating: ./p5/content/output3/train/deadlift/deadlift_21.mp4  \n",
            "  inflating: ./p5/content/output3/train/deadlift/deadlift_4.mp4  \n",
            "  inflating: ./p5/content/output3/train/deadlift/deadlift_103.mp4  \n",
            "  inflating: ./p5/content/output3/train/deadlift/deadlift_25.mp4  \n",
            "  inflating: ./p5/content/output3/train/deadlift/deadlift_20.mp4  \n",
            "  inflating: ./p5/content/output3/train/deadlift/deadlift_1.mp4  \n",
            "  inflating: ./p5/content/output3/train/deadlift/deadlift_13.mp4  \n",
            "  inflating: ./p5/content/output3/train/deadlift/deadlift_17.mp4  \n",
            "   creating: ./p5/content/output3/train/chest fly machine/\n",
            "  inflating: ./p5/content/output3/train/chest fly machine/chest_fly_machine_106.mp4  \n",
            "  inflating: ./p5/content/output3/train/chest fly machine/chest_fly_machine_19.mp4  \n",
            "  inflating: ./p5/content/output3/train/chest fly machine/chest_fly_machine_20.mp4  \n",
            "  inflating: ./p5/content/output3/train/chest fly machine/chest_fly_machine_103.mp4  \n",
            "  inflating: ./p5/content/output3/train/chest fly machine/chest_fly_machine_12.mp4  \n",
            "  inflating: ./p5/content/output3/train/chest fly machine/chest_fly_machine_104.mp4  \n",
            "  inflating: ./p5/content/output3/train/chest fly machine/chest_fly_machine_3.mp4  \n",
            "  inflating: ./p5/content/output3/train/chest fly machine/chest_fly_machine_14.mp4  \n",
            "  inflating: ./p5/content/output3/train/chest fly machine/chest_fly_machine_6.mp4  \n",
            "  inflating: ./p5/content/output3/train/chest fly machine/chest_fly_machine_8.mp4  \n",
            "  inflating: ./p5/content/output3/train/chest fly machine/chest_fly_machine_101.mp4  \n",
            "  inflating: ./p5/content/output3/train/chest fly machine/chest_fly_machine_18.mp4  \n",
            "  inflating: ./p5/content/output3/train/chest fly machine/chest_fly_machine_11.mp4  \n",
            "  inflating: ./p5/content/output3/train/chest fly machine/chest_fly_machine_17.mp4  \n",
            "  inflating: ./p5/content/output3/train/chest fly machine/chest_fly_machine_1.mp4  \n",
            "  inflating: ./p5/content/output3/train/chest fly machine/chest_fly_machine_22.mp4  \n",
            "  inflating: ./p5/content/output3/train/chest fly machine/chest_fly_machine_4.mp4  \n",
            "  inflating: ./p5/content/output3/train/chest fly machine/chest_fly_machine_10.mp4  \n",
            "  inflating: ./p5/content/output3/train/chest fly machine/chest_fly_machine_13.mp4  \n",
            "  inflating: ./p5/content/output3/train/chest fly machine/chest_fly_machine_15.mp4  \n",
            "  inflating: ./p5/content/output3/train/chest fly machine/chest_fly_machine_102.mp4  \n",
            "  inflating: ./p5/content/output3/train/chest fly machine/chest_fly_machine_9.mp4  \n",
            "  inflating: ./p5/content/output3/train/chest fly machine/chest_fly_machine_5.mp4  \n",
            "  inflating: ./p5/content/output3/train/chest fly machine/chest_fly_machine_21.mp4  \n",
            "  inflating: ./p5/content/output3/train/chest fly machine/chest_fly_machine_16.mp4  \n",
            "  inflating: ./p5/content/output3/train/chest fly machine/chest_fly_machine_7.mp4  \n",
            "  inflating: ./p5/content/output3/train/chest fly machine/chest_fly_machine_2.mp4  \n",
            "   creating: ./p5/content/output3/train/squat/\n",
            "  inflating: ./p5/content/output3/train/squat/squat_7.mp4  \n",
            "  inflating: ./p5/content/output3/train/squat/squat_120.mp4  \n",
            "  inflating: ./p5/content/output3/train/squat/squat_16.mp4  \n",
            "  inflating: ./p5/content/output3/train/squat/squat_18.mp4  \n",
            "  inflating: ./p5/content/output3/train/squat/squat_102.mp4  \n",
            "  inflating: ./p5/content/output3/train/squat/squat_121.mp4  \n",
            "  inflating: ./p5/content/output3/train/squat/squat_114.mp4  \n",
            "  inflating: ./p5/content/output3/train/squat/squat_14.mp4  \n",
            "  inflating: ./p5/content/output3/train/squat/squat_112.mp4  \n",
            "  inflating: ./p5/content/output3/train/squat/squat_15.mp4  \n",
            "  inflating: ./p5/content/output3/train/squat/squat_125.mp4  \n",
            "  inflating: ./p5/content/output3/train/squat/squat_11.mp4  \n",
            "  inflating: ./p5/content/output3/train/squat/squat_103.mp4  \n",
            "  inflating: ./p5/content/output3/train/squat/squat_6.mp4  \n",
            "  inflating: ./p5/content/output3/train/squat/squat_20.mp4  \n",
            "  inflating: ./p5/content/output3/train/squat/squat_124.mp4  \n",
            "  inflating: ./p5/content/output3/train/squat/squat_108.mp4  \n",
            "  inflating: ./p5/content/output3/train/squat/squat_4.mp4  \n",
            "  inflating: ./p5/content/output3/train/squat/squat_109.mp4  \n",
            "  inflating: ./p5/content/output3/train/squat/squat_105.mp4  \n",
            "  inflating: ./p5/content/output3/train/squat/squat_111.mp4  \n",
            "  inflating: ./p5/content/output3/train/squat/squat_128.mp4  \n",
            "  inflating: ./p5/content/output3/train/squat/squat_123.mp4  \n",
            "  inflating: ./p5/content/output3/train/squat/squat_127.mp4  \n",
            "  inflating: ./p5/content/output3/train/squat/squat_106.mp4  \n",
            "  inflating: ./p5/content/output3/train/squat/squat_9.mp4  \n",
            "  inflating: ./p5/content/output3/train/squat/squat_1.mp4  \n",
            "  inflating: ./p5/content/output3/train/squat/squat_110.mp4  \n",
            "  inflating: ./p5/content/output3/train/squat/squat_122.mp4  \n",
            "  inflating: ./p5/content/output3/train/squat/squat_117.mp4  \n",
            "  inflating: ./p5/content/output3/train/squat/squat_2.mp4  \n",
            "  inflating: ./p5/content/output3/train/squat/squat_21.mp4  \n",
            "  inflating: ./p5/content/output3/train/squat/squat_12.mp4  \n",
            "  inflating: ./p5/content/output3/train/squat/squat_10.mp4  \n",
            "  inflating: ./p5/content/output3/train/squat/squat_119.mp4  \n",
            "  inflating: ./p5/content/output3/train/squat/squat_23.mp4  \n",
            "  inflating: ./p5/content/output3/train/squat/squat_13.mp4  \n",
            "  inflating: ./p5/content/output3/train/squat/squat_107.mp4  \n",
            "  inflating: ./p5/content/output3/train/squat/squat_19.mp4  \n",
            "  inflating: ./p5/content/output3/train/squat/squat_5.mp4  \n",
            "  inflating: ./p5/content/output3/train/squat/squat_118.mp4  \n",
            "  inflating: ./p5/content/output3/train/squat/squat_104.mp4  \n",
            "  inflating: ./p5/content/output3/train/squat/squat_101.mp4  \n",
            "  inflating: ./p5/content/output3/train/squat/squat_116.mp4  \n",
            "  inflating: ./p5/content/output3/train/squat/squat_8.mp4  \n",
            "  inflating: ./p5/content/output3/train/squat/squat_113.mp4  \n",
            "  inflating: ./p5/content/output3/train/squat/squat_22.mp4  \n",
            "  inflating: ./p5/content/output3/train/squat/squat_115.mp4  \n",
            "  inflating: ./p5/content/output3/train/squat/squat_3.mp4  \n",
            "  inflating: ./p5/content/output3/train/squat/squat_126.mp4  \n",
            "  inflating: ./p5/content/output3/train/squat/squat_17.mp4  \n",
            "   creating: ./p5/content/output3/train/lat pulldown/\n",
            "  inflating: ./p5/content/output3/train/lat pulldown/lat_pulldown_25.mp4  \n",
            "  inflating: ./p5/content/output3/train/lat pulldown/lat_pulldown_37.mp4  \n",
            "  inflating: ./p5/content/output3/train/lat pulldown/lat_pulldown_35.mp4  \n",
            "  inflating: ./p5/content/output3/train/lat pulldown/lat_pulldown_16.mp4  \n",
            "  inflating: ./p5/content/output3/train/lat pulldown/lat_pulldown_2.mp4  \n",
            "  inflating: ./p5/content/output3/train/lat pulldown/lat_pulldown_27.mp4  \n",
            "  inflating: ./p5/content/output3/train/lat pulldown/lat_pulldown_14.mp4  \n",
            "  inflating: ./p5/content/output3/train/lat pulldown/lat_pulldown_13.mp4  \n",
            "  inflating: ./p5/content/output3/train/lat pulldown/lat_pulldown_9.mp4  \n",
            "  inflating: ./p5/content/output3/train/lat pulldown/lat_pulldown_32.mp4  \n",
            "  inflating: ./p5/content/output3/train/lat pulldown/lat_pulldown_21.mp4  \n",
            "  inflating: ./p5/content/output3/train/lat pulldown/lat_pulldown_5.mp4  \n",
            "  inflating: ./p5/content/output3/train/lat pulldown/lat_pulldown_17.mp4  \n",
            "  inflating: ./p5/content/output3/train/lat pulldown/lat_pulldown_20.mp4  \n",
            "  inflating: ./p5/content/output3/train/lat pulldown/lat_pulldown_36.mp4  \n",
            "  inflating: ./p5/content/output3/train/lat pulldown/lat_pulldown_3.mp4  \n",
            "  inflating: ./p5/content/output3/train/lat pulldown/lat_pulldown_23.mp4  \n",
            "  inflating: ./p5/content/output3/train/lat pulldown/lat_pulldown_7.mp4  \n",
            "  inflating: ./p5/content/output3/train/lat pulldown/lat_pulldown_30.mp4  \n",
            "  inflating: ./p5/content/output3/train/lat pulldown/lat_pulldown_38.mp4  \n",
            "  inflating: ./p5/content/output3/train/lat pulldown/lat_pulldown_6.mp4  \n",
            "  inflating: ./p5/content/output3/train/lat pulldown/lat_pulldown_34.mp4  \n",
            "  inflating: ./p5/content/output3/train/lat pulldown/lat_pulldown_31.mp4  \n",
            "  inflating: ./p5/content/output3/train/lat pulldown/lat_pulldown_41.mp4  \n",
            "  inflating: ./p5/content/output3/train/lat pulldown/lat_pulldown_33.mp4  \n",
            "  inflating: ./p5/content/output3/train/lat pulldown/lat_pulldown_39.mp4  \n",
            "  inflating: ./p5/content/output3/train/lat pulldown/lat_pulldown_29.mp4  \n",
            "  inflating: ./p5/content/output3/train/lat pulldown/lat_pulldown_18.mp4  \n",
            "  inflating: ./p5/content/output3/train/lat pulldown/lat_pulldown_1.mp4  \n",
            "  inflating: ./p5/content/output3/train/lat pulldown/lat_pulldown_15.mp4  \n",
            "  inflating: ./p5/content/output3/train/lat pulldown/lat_pulldown_24.mp4  \n",
            "  inflating: ./p5/content/output3/train/lat pulldown/lat_pulldown_12.mp4  \n",
            "  inflating: ./p5/content/output3/train/lat pulldown/lat_pulldown_4.mp4  \n",
            "  inflating: ./p5/content/output3/train/lat pulldown/lat_pulldown_40.mp4  \n",
            "  inflating: ./p5/content/output3/train/lat pulldown/lat_pulldown_26.mp4  \n",
            "  inflating: ./p5/content/output3/train/lat pulldown/lat_pulldown_28.mp4  \n",
            "  inflating: ./p5/content/output3/train/lat pulldown/lat_pulldown_8.mp4  \n",
            "  inflating: ./p5/content/output3/train/lat pulldown/lat_pulldown_22.mp4  \n",
            "  inflating: ./p5/content/output3/train/lat pulldown/lat_pulldown_10.mp4  \n",
            "  inflating: ./p5/content/output3/train/lat pulldown/lat_pulldown_11.mp4  \n",
            "  inflating: ./p5/content/output3/train/lat pulldown/lat_pulldown_19.mp4  \n",
            "   creating: ./p5/content/output3/train/bench press/\n",
            "  inflating: ./p5/content/output3/train/bench press/bench_press_47.mp4  \n",
            "  inflating: ./p5/content/output3/train/bench press/bench_press_15.mp4  \n",
            "  inflating: ./p5/content/output3/train/bench press/bench_press_26.mp4  \n",
            "  inflating: ./p5/content/output3/train/bench press/bench_press_35.mp4  \n",
            "  inflating: ./p5/content/output3/train/bench press/bench_press_24.mp4  \n",
            "  inflating: ./p5/content/output3/train/bench press/bench_press_22.mp4  \n",
            "  inflating: ./p5/content/output3/train/bench press/bench_press_20.mp4  \n",
            "  inflating: ./p5/content/output3/train/bench press/bench_press_23.mp4  \n",
            "  inflating: ./p5/content/output3/train/bench press/bench_press_1.mp4  \n",
            "  inflating: ./p5/content/output3/train/bench press/bench_press_18.mp4  \n",
            "  inflating: ./p5/content/output3/train/bench press/bench_press_16.mp4  \n",
            "  inflating: ./p5/content/output3/train/bench press/bench_press_42.mp4  \n",
            "  inflating: ./p5/content/output3/train/bench press/bench_press_2.mp4  \n",
            "  inflating: ./p5/content/output3/train/bench press/bench_press_48.mp4  \n",
            "  inflating: ./p5/content/output3/train/bench press/bench_press_36.mp4  \n",
            "  inflating: ./p5/content/output3/train/bench press/bench_press_37.mp4  \n",
            "  inflating: ./p5/content/output3/train/bench press/bench_press_44.mp4  \n",
            "  inflating: ./p5/content/output3/train/bench press/bench_press_30.mp4  \n",
            "  inflating: ./p5/content/output3/train/bench press/bench_press_33.mp4  \n",
            "  inflating: ./p5/content/output3/train/bench press/bench_press_10.mp4  \n",
            "  inflating: ./p5/content/output3/train/bench press/bench_press_28.mp4  \n",
            "  inflating: ./p5/content/output3/train/bench press/bench_press_201.mp4  \n",
            "  inflating: ./p5/content/output3/train/bench press/bench_press_13.mp4  \n",
            "  inflating: ./p5/content/output3/train/bench press/bench_press_29.mp4  \n",
            "  inflating: ./p5/content/output3/train/bench press/bench_press_46.mp4  \n",
            "  inflating: ./p5/content/output3/train/bench press/bench_press_5.mp4  \n",
            "  inflating: ./p5/content/output3/train/bench press/bench_press_25.mp4  \n",
            "  inflating: ./p5/content/output3/train/bench press/bench_press_49.mp4  \n",
            "  inflating: ./p5/content/output3/train/bench press/bench_press_21.mp4  \n",
            "  inflating: ./p5/content/output3/train/bench press/bench_press_34.mp4  \n",
            "  inflating: ./p5/content/output3/train/bench press/bench_press_7.mp4  \n",
            "  inflating: ./p5/content/output3/train/bench press/bench_press_40.mp4  \n",
            "  inflating: ./p5/content/output3/train/bench press/bench_press_11.mp4  \n",
            "  inflating: ./p5/content/output3/train/bench press/bench_press_9.mp4  \n",
            "  inflating: ./p5/content/output3/train/bench press/bench_press_202.mp4  \n",
            "  inflating: ./p5/content/output3/train/bench press/bench_press_43.mp4  \n",
            "  inflating: ./p5/content/output3/train/bench press/bench_press_39.mp4  \n",
            "  inflating: ./p5/content/output3/train/bench press/bench_press_45.mp4  \n",
            "  inflating: ./p5/content/output3/train/bench press/bench_press_4.mp4  \n",
            "  inflating: ./p5/content/output3/train/bench press/bench_press_41.mp4  \n",
            "  inflating: ./p5/content/output3/train/bench press/bench_press_14.mp4  \n",
            "  inflating: ./p5/content/output3/train/bench press/bench_press_38.mp4  \n",
            "  inflating: ./p5/content/output3/train/bench press/bench_press_3.mp4  \n",
            "  inflating: ./p5/content/output3/train/bench press/bench_press_27.mp4  \n",
            "  inflating: ./p5/content/output3/train/bench press/bench_press_17.mp4  \n",
            "  inflating: ./p5/content/output3/train/bench press/bench_press_12.mp4  \n",
            "  inflating: ./p5/content/output3/train/bench press/bench_press_32.mp4  \n",
            "  inflating: ./p5/content/output3/train/bench press/bench_press_31.mp4  \n",
            "  inflating: ./p5/content/output3/train/bench press/bench_press_8.mp4  \n",
            "  inflating: ./p5/content/output3/train/bench press/bench_press_19.mp4  \n",
            "  inflating: ./p5/content/output3/train/bench press/bench_press_6.mp4  \n",
            "   creating: ./p5/content/output3/train/barbell biceps curl/\n",
            "  inflating: ./p5/content/output3/train/barbell biceps curl/barbell_biceps_curl_2.mp4  \n",
            "  inflating: ./p5/content/output3/train/barbell biceps curl/barbell_biceps_curl_30.mp4  \n",
            "  inflating: ./p5/content/output3/train/barbell biceps curl/barbell_biceps_curl_5.mp4  \n",
            "  inflating: ./p5/content/output3/train/barbell biceps curl/barbell_biceps_curl_21.mp4  \n",
            "  inflating: ./p5/content/output3/train/barbell biceps curl/barbell_biceps_curl_24.mp4  \n",
            "  inflating: ./p5/content/output3/train/barbell biceps curl/barbell_biceps_curl_36.mp4  \n",
            "  inflating: ./p5/content/output3/train/barbell biceps curl/barbell_biceps_curl_49.mp4  \n",
            "  inflating: ./p5/content/output3/train/barbell biceps curl/barbell_biceps_curl_43.mp4  \n",
            "  inflating: ./p5/content/output3/train/barbell biceps curl/barbell_biceps_curl_34.mp4  \n",
            "  inflating: ./p5/content/output3/train/barbell biceps curl/barbell_biceps_curl_26.mp4  \n",
            "  inflating: ./p5/content/output3/train/barbell biceps curl/barbell_biceps_curl_44.mp4  \n",
            "  inflating: ./p5/content/output3/train/barbell biceps curl/barbell_biceps_curl_20.mp4  \n",
            "  inflating: ./p5/content/output3/train/barbell biceps curl/barbell_biceps_curl_42.mp4  \n",
            "  inflating: ./p5/content/output3/train/barbell biceps curl/barbell_biceps_curl_37.mp4  \n",
            "  inflating: ./p5/content/output3/train/barbell biceps curl/barbell_biceps_curl_35.mp4  \n",
            "  inflating: ./p5/content/output3/train/barbell biceps curl/barbell_biceps_curl_9.mp4  \n",
            "  inflating: ./p5/content/output3/train/barbell biceps curl/barbell_biceps_curl_38.mp4  \n",
            "  inflating: ./p5/content/output3/train/barbell biceps curl/barbell_biceps_curl_16.mp4  \n",
            "  inflating: ./p5/content/output3/train/barbell biceps curl/barbell_biceps_curl_7.mp4  \n",
            "  inflating: ./p5/content/output3/train/barbell biceps curl/barbell_biceps_curl_46.mp4  \n",
            "  inflating: ./p5/content/output3/train/barbell biceps curl/barbell_biceps_curl_41.mp4  \n",
            "  inflating: ./p5/content/output3/train/barbell biceps curl/barbell_biceps_curl_3.mp4  \n",
            "  inflating: ./p5/content/output3/train/barbell biceps curl/barbell_biceps_curl_18.mp4  \n",
            "  inflating: ./p5/content/output3/train/barbell biceps curl/barbell_biceps_curl_47.mp4  \n",
            "  inflating: ./p5/content/output3/train/barbell biceps curl/barbell_biceps_curl_28.mp4  \n",
            "  inflating: ./p5/content/output3/train/barbell biceps curl/barbell_biceps_curl_45.mp4  \n",
            "  inflating: ./p5/content/output3/train/barbell biceps curl/barbell_biceps_curl_40.mp4  \n",
            "  inflating: ./p5/content/output3/train/barbell biceps curl/barbell_biceps_curl_39.mp4  \n",
            "  inflating: ./p5/content/output3/train/barbell biceps curl/barbell_biceps_curl_13.mp4  \n",
            "  inflating: ./p5/content/output3/train/barbell biceps curl/barbell_biceps_curl_31.mp4  \n",
            "  inflating: ./p5/content/output3/train/barbell biceps curl/barbell_biceps_curl_50.mp4  \n",
            "  inflating: ./p5/content/output3/train/barbell biceps curl/barbell_biceps_curl_12.mp4  \n",
            "  inflating: ./p5/content/output3/train/barbell biceps curl/barbell_biceps_curl_4.mp4  \n",
            "  inflating: ./p5/content/output3/train/barbell biceps curl/barbell_biceps_curl_14.mp4  \n",
            "  inflating: ./p5/content/output3/train/barbell biceps curl/barbell_biceps_curl_32.mp4  \n",
            "  inflating: ./p5/content/output3/train/barbell biceps curl/barbell_biceps_curl_6.mp4  \n",
            "  inflating: ./p5/content/output3/train/barbell biceps curl/barbell_biceps_curl_29.mp4  \n",
            "  inflating: ./p5/content/output3/train/barbell biceps curl/barbell_biceps_curl_23.mp4  \n",
            "  inflating: ./p5/content/output3/train/barbell biceps curl/barbell_biceps_curl_33.mp4  \n",
            "  inflating: ./p5/content/output3/train/barbell biceps curl/barbell_biceps_curl_19.mp4  \n",
            "  inflating: ./p5/content/output3/train/barbell biceps curl/barbell_biceps_curl_27.mp4  \n",
            "  inflating: ./p5/content/output3/train/barbell biceps curl/barbell_biceps_curl_8.mp4  \n",
            "  inflating: ./p5/content/output3/train/barbell biceps curl/barbell_biceps_curl_15.mp4  \n",
            "  inflating: ./p5/content/output3/train/barbell biceps curl/barbell_biceps_curl_17.mp4  \n",
            "  inflating: ./p5/content/output3/train/barbell biceps curl/barbell_biceps_curl_11.mp4  \n",
            "  inflating: ./p5/content/output3/train/barbell biceps curl/barbell_biceps_curl_22.mp4  \n",
            "  inflating: ./p5/content/output3/train/barbell biceps curl/barbell_biceps_curl_48.mp4  \n",
            "  inflating: ./p5/content/output3/train/barbell biceps curl/barbell_biceps_curl_1.mp4  \n",
            "  inflating: ./p5/content/output3/train/barbell biceps curl/barbell_biceps_curl_10.mp4  \n",
            "  inflating: ./p5/content/output3/train/barbell biceps curl/barbell_biceps_curl_25.mp4  \n",
            "   creating: ./p5/content/output3/train/hammer curl/\n",
            "  inflating: ./p5/content/output3/train/hammer curl/hammer_curl_112.mp4  \n",
            "  inflating: ./p5/content/output3/train/hammer curl/hammer_curl_105.mp4  \n",
            "  inflating: ./p5/content/output3/train/hammer curl/hammer_curl_5.mp4  \n",
            "  inflating: ./p5/content/output3/train/hammer curl/hammer_curl_8.mp4  \n",
            "  inflating: ./p5/content/output3/train/hammer curl/hammer_curl_7.mp4  \n",
            "  inflating: ./p5/content/output3/train/hammer curl/hammer_curl_115.mp4  \n",
            "  inflating: ./p5/content/output3/train/hammer curl/hammer_curl_4.mp4  \n",
            "  inflating: ./p5/content/output3/train/hammer curl/hammer_curl_1.mp4  \n",
            "  inflating: ./p5/content/output3/train/hammer curl/hammer_curl_11.mp4  \n",
            "  inflating: ./p5/content/output3/train/hammer curl/hammer_curl_6.mp4  \n",
            "  inflating: ./p5/content/output3/train/hammer curl/hammer_curl_114.mp4  \n",
            "  inflating: ./p5/content/output3/train/hammer curl/hammer_curl_14.mp4  \n",
            "  inflating: ./p5/content/output3/train/hammer curl/hammer_curl_12.mp4  \n",
            "  inflating: ./p5/content/output3/train/hammer curl/hammer_curl_104.mp4  \n",
            "  inflating: ./p5/content/output3/train/hammer curl/hammer_curl_103.mp4  \n",
            "  inflating: ./p5/content/output3/train/hammer curl/hammer_curl_110.mp4  \n",
            "  inflating: ./p5/content/output3/train/hammer curl/hammer_curl_2.mp4  \n",
            "  inflating: ./p5/content/output3/train/hammer curl/hammer_curl_9.mp4  \n",
            "  inflating: ./p5/content/output3/train/hammer curl/hammer_curl_3.mp4  \n",
            "  inflating: ./p5/content/output3/train/hammer curl/hammer_curl_15.mp4  \n",
            "  inflating: ./p5/content/output3/train/hammer curl/hammer_curl_101.mp4  \n",
            "  inflating: ./p5/content/output3/train/hammer curl/hammer_curl_107.mp4  \n",
            "  inflating: ./p5/content/output3/train/hammer curl/hammer_curl_108.mp4  \n",
            "  inflating: ./p5/content/output3/train/hammer curl/hammer_curl_10.mp4  \n",
            "  inflating: ./p5/content/output3/train/hammer curl/hammer_curl_113.mp4  \n",
            "  inflating: ./p5/content/output3/train/hammer curl/hammer_curl_106.mp4  \n",
            "  inflating: ./p5/content/output3/train/hammer curl/hammer_curl_102.mp4  \n",
            "  inflating: ./p5/content/output3/train/hammer curl/hammer_curl_111.mp4  \n",
            "  inflating: ./p5/content/output3/train/hammer curl/hammer_curl_13.mp4  \n",
            "  inflating: ./p5/content/output3/train/hammer curl/hammer_curl_109.mp4  \n",
            "   creating: ./p5/content/output3/train/leg extension/\n",
            "  inflating: ./p5/content/output3/train/leg extension/leg_extension_30.mp4  \n",
            "  inflating: ./p5/content/output3/train/leg extension/leg_extension_3.mp4  \n",
            "  inflating: ./p5/content/output3/train/leg extension/leg_extension_20.mp4  \n",
            "  inflating: ./p5/content/output3/train/leg extension/leg_extension_29.mp4  \n",
            "  inflating: ./p5/content/output3/train/leg extension/leg_extension_15.mp4  \n",
            "  inflating: ./p5/content/output3/train/leg extension/leg_extension_7.mp4  \n",
            "  inflating: ./p5/content/output3/train/leg extension/leg_extension_12.mp4  \n",
            "  inflating: ./p5/content/output3/train/leg extension/leg_extension_13.mp4  \n",
            "  inflating: ./p5/content/output3/train/leg extension/leg_extension_26.mp4  \n",
            "  inflating: ./p5/content/output3/train/leg extension/leg_extension_16.mp4  \n",
            "  inflating: ./p5/content/output3/train/leg extension/leg_extension_8.mp4  \n",
            "  inflating: ./p5/content/output3/train/leg extension/leg_extension_11.mp4  \n",
            "  inflating: ./p5/content/output3/train/leg extension/leg_extension_5.mp4  \n",
            "  inflating: ./p5/content/output3/train/leg extension/leg_extension_6.mp4  \n",
            "  inflating: ./p5/content/output3/train/leg extension/leg_extension_28.mp4  \n",
            "  inflating: ./p5/content/output3/train/leg extension/leg_extension_2.mp4  \n",
            "  inflating: ./p5/content/output3/train/leg extension/leg_extension_10.mp4  \n",
            "  inflating: ./p5/content/output3/train/leg extension/leg_extension_18.mp4  \n",
            "  inflating: ./p5/content/output3/train/leg extension/leg_extension_9.mp4  \n",
            "  inflating: ./p5/content/output3/train/leg extension/leg_extension_27.mp4  \n",
            "  inflating: ./p5/content/output3/train/leg extension/leg_extension_4.mp4  \n",
            "  inflating: ./p5/content/output3/train/leg extension/leg_extension_14.mp4  \n",
            "  inflating: ./p5/content/output3/train/leg extension/leg_extension_31.mp4  \n",
            "  inflating: ./p5/content/output3/train/leg extension/leg_extension_19.mp4  \n",
            "  inflating: ./p5/content/output3/train/leg extension/leg_extension_1.mp4  \n",
            "  inflating: ./p5/content/output3/train/leg extension/leg_extension_17.mp4  \n",
            "   creating: ./p5/content/output3/train/pull up/\n",
            "  inflating: ./p5/content/output3/train/pull up/pull_up_1.mp4  \n",
            "  inflating: ./p5/content/output3/train/pull up/pull_up_10.mp4  \n",
            "  inflating: ./p5/content/output3/train/pull up/pull_up_11.mp4  \n",
            "  inflating: ./p5/content/output3/train/pull up/pull_up_33.mp4  \n",
            "  inflating: ./p5/content/output3/train/pull up/pull_up_17.mp4  \n",
            "  inflating: ./p5/content/output3/train/pull up/pull_up_7.mp4  \n",
            "  inflating: ./p5/content/output3/train/pull up/pull_up_6.mp4  \n",
            "  inflating: ./p5/content/output3/train/pull up/pull_up_19.mp4  \n",
            "  inflating: ./p5/content/output3/train/pull up/pull_up_15.mp4  \n",
            "  inflating: ./p5/content/output3/train/pull up/pull_up_14.mp4  \n",
            "  inflating: ./p5/content/output3/train/pull up/pull_up_2.mp4  \n",
            "  inflating: ./p5/content/output3/train/pull up/pull_up_21.mp4  \n",
            "  inflating: ./p5/content/output3/train/pull up/pull_up_3.mp4  \n",
            "  inflating: ./p5/content/output3/train/pull up/pull_up_32.mp4  \n",
            "  inflating: ./p5/content/output3/train/pull up/pull_up_28.mp4  \n",
            "  inflating: ./p5/content/output3/train/pull up/pull_up_18.mp4  \n",
            "  inflating: ./p5/content/output3/train/pull up/pull_up_13.mp4  \n",
            "  inflating: ./p5/content/output3/train/pull up/pull_up_5.mp4  \n",
            "  inflating: ./p5/content/output3/train/pull up/pull_up_4.mp4  \n",
            "  inflating: ./p5/content/output3/train/pull up/pull_up_20.mp4  \n",
            "  inflating: ./p5/content/output3/train/pull up/pull_up_12.mp4  \n",
            "  inflating: ./p5/content/output3/train/pull up/pull_up_30.mp4  \n",
            "  inflating: ./p5/content/output3/train/pull up/pull_up_8.mp4  \n",
            "  inflating: ./p5/content/output3/train/pull up/pull_up_31.mp4  \n",
            "  inflating: ./p5/content/output3/train/pull up/pull_up_9.mp4  \n",
            "  inflating: ./p5/content/output3/train/pull up/pull_up_29.mp4  \n",
            "  inflating: ./p5/content/output3/train/pull up/pull_up_16.mp4  \n",
            "   creating: ./p5/content/output3/train/russian twist/\n",
            "  inflating: ./p5/content/output3/train/russian twist/russian_twist_7.mp4  \n",
            "  inflating: ./p5/content/output3/train/russian twist/russian_twist_4.mp4  \n",
            "  inflating: ./p5/content/output3/train/russian twist/russian_twist_19.mp4  \n",
            "  inflating: ./p5/content/output3/train/russian twist/russian_twist_23.mp4  \n",
            "  inflating: ./p5/content/output3/train/russian twist/russian_twist_10.mp4  \n",
            "  inflating: ./p5/content/output3/train/russian twist/russian_twist_202.mp4  \n",
            "  inflating: ./p5/content/output3/train/russian twist/russian_twist_16.mp4  \n",
            "  inflating: ./p5/content/output3/train/russian twist/russian_twist_15.mp4  \n",
            "  inflating: ./p5/content/output3/train/russian twist/russian_twist_3.mp4  \n",
            "  inflating: ./p5/content/output3/train/russian twist/russian_twist_18.mp4  \n",
            "  inflating: ./p5/content/output3/train/russian twist/russian_twist_17.mp4  \n",
            "  inflating: ./p5/content/output3/train/russian twist/russian_twist_1.mp4  \n",
            "  inflating: ./p5/content/output3/train/russian twist/russian_twist_5.mp4  \n",
            "  inflating: ./p5/content/output3/train/russian twist/russian_twist_9.mp4  \n",
            "  inflating: ./p5/content/output3/train/russian twist/russian_twist_20.mp4  \n",
            "  inflating: ./p5/content/output3/train/russian twist/russian_twist_8.mp4  \n",
            "  inflating: ./p5/content/output3/train/russian twist/russian_twist_24.mp4  \n",
            "  inflating: ./p5/content/output3/train/russian twist/russian_twist_201.mp4  \n",
            "  inflating: ./p5/content/output3/train/russian twist/russian_twist_25.mp4  \n",
            "  inflating: ./p5/content/output3/train/russian twist/russian_twist_14.mp4  \n",
            "  inflating: ./p5/content/output3/train/russian twist/russian_twist_22.mp4  \n",
            "  inflating: ./p5/content/output3/train/russian twist/russian_twist_21.mp4  \n",
            "  inflating: ./p5/content/output3/train/russian twist/russian_twist_6.mp4  \n",
            "   creating: ./p5/content/output3/train/t bar row/\n",
            "  inflating: ./p5/content/output3/train/t bar row/t_bar_row_12.mp4  \n",
            "  inflating: ./p5/content/output3/train/t bar row/t_bar_row_28.mp4  \n",
            "  inflating: ./p5/content/output3/train/t bar row/t_bar_row_11.mp4  \n",
            "  inflating: ./p5/content/output3/train/t bar row/t_bar_row_10.mp4  \n",
            "  inflating: ./p5/content/output3/train/t bar row/t_bar_row_32.mp4  \n",
            "  inflating: ./p5/content/output3/train/t bar row/t_bar_row_23.mp4  \n",
            "  inflating: ./p5/content/output3/train/t bar row/t_bar_row_16.mp4  \n",
            "  inflating: ./p5/content/output3/train/t bar row/t_bar_row_25.mp4  \n",
            "  inflating: ./p5/content/output3/train/t bar row/t_bar_row_30.mp4  \n",
            "  inflating: ./p5/content/output3/train/t bar row/t_bar_row_13.mp4  \n",
            "  inflating: ./p5/content/output3/train/t bar row/t_bar_row_24.mp4  \n",
            "  inflating: ./p5/content/output3/train/t bar row/t_bar_row_4.mp4  \n",
            "  inflating: ./p5/content/output3/train/t bar row/t_bar_row_5.mp4  \n",
            "  inflating: ./p5/content/output3/train/t bar row/t_bar_row_34.mp4  \n",
            "  inflating: ./p5/content/output3/train/t bar row/t_bar_row_1.mp4  \n",
            "  inflating: ./p5/content/output3/train/t bar row/t_bar_row_9.mp4  \n",
            "  inflating: ./p5/content/output3/train/t bar row/t_bar_row_17.mp4  \n",
            "  inflating: ./p5/content/output3/train/t bar row/t_bar_row_6.mp4  \n",
            "  inflating: ./p5/content/output3/train/t bar row/t_bar_row_33.mp4  \n",
            "  inflating: ./p5/content/output3/train/t bar row/t_bar_row_27.mp4  \n",
            "  inflating: ./p5/content/output3/train/t bar row/t_bar_row_3.mp4  \n",
            "  inflating: ./p5/content/output3/train/t bar row/t_bar_row_2.mp4  \n",
            "  inflating: ./p5/content/output3/train/t bar row/t_bar_row_29.mp4  \n",
            "  inflating: ./p5/content/output3/train/t bar row/t_bar_row_8.mp4  \n",
            "  inflating: ./p5/content/output3/train/t bar row/t_bar_row_22.mp4  \n",
            "  inflating: ./p5/content/output3/train/t bar row/t_bar_row_14.mp4  \n",
            "  inflating: ./p5/content/output3/train/t bar row/t_bar_row_26.mp4  \n",
            "  inflating: ./p5/content/output3/train/t bar row/t_bar_row_31.mp4  \n",
            "  inflating: ./p5/content/output3/train/t bar row/t_bar_row_7.mp4  \n",
            "  inflating: ./p5/content/output3/train/t bar row/t_bar_row_15.mp4  \n",
            "   creating: ./p5/content/output3/train/tricep dips/\n",
            "  inflating: ./p5/content/output3/train/tricep dips/tricep_dips_39.mp4  \n",
            "  inflating: ./p5/content/output3/train/tricep dips/tricep_dips_8.mp4  \n",
            "  inflating: ./p5/content/output3/train/tricep dips/tricep_dips_38.mp4  \n",
            "  inflating: ./p5/content/output3/train/tricep dips/tricep_dips_43.mp4  \n",
            "  inflating: ./p5/content/output3/train/tricep dips/tricep_dips_14.mp4  \n",
            "  inflating: ./p5/content/output3/train/tricep dips/tricep_dips_7.mp4  \n",
            "  inflating: ./p5/content/output3/train/tricep dips/tricep_dips_27.mp4  \n",
            "  inflating: ./p5/content/output3/train/tricep dips/tricep_dips_40.mp4  \n",
            "  inflating: ./p5/content/output3/train/tricep dips/tricep_dips_25.mp4  \n",
            "  inflating: ./p5/content/output3/train/tricep dips/tricep_dips_9.mp4  \n",
            "  inflating: ./p5/content/output3/train/tricep dips/tricep_dips_12.mp4  \n",
            "  inflating: ./p5/content/output3/train/tricep dips/tricep_dips_36.mp4  \n",
            "  inflating: ./p5/content/output3/train/tricep dips/tricep_dips_15.mp4  \n",
            "  inflating: ./p5/content/output3/train/tricep dips/tricep_dips_21.mp4  \n",
            "  inflating: ./p5/content/output3/train/tricep dips/tricep_dips_26.mp4  \n",
            "  inflating: ./p5/content/output3/train/tricep dips/tricep_dips_49.mp4  \n",
            "  inflating: ./p5/content/output3/train/tricep dips/tricep_dips_42.mp4  \n",
            "  inflating: ./p5/content/output3/train/tricep dips/tricep_dips_28.mp4  \n",
            "  inflating: ./p5/content/output3/train/tricep dips/tricep_dips_34.mp4  \n",
            "  inflating: ./p5/content/output3/train/tricep dips/tricep_dips_32.mp4  \n",
            "  inflating: ./p5/content/output3/train/tricep dips/tricep_dips_2.mp4  \n",
            "  inflating: ./p5/content/output3/train/tricep dips/tricep_dips_22.mp4  \n",
            "  inflating: ./p5/content/output3/train/tricep dips/tricep_dips_46.mp4  \n",
            "  inflating: ./p5/content/output3/train/tricep dips/tricep_dips_16.mp4  \n",
            "  inflating: ./p5/content/output3/train/tricep dips/tricep_dips_35.mp4  \n",
            "  inflating: ./p5/content/output3/train/tricep dips/tricep_dips_11.mp4  \n",
            "  inflating: ./p5/content/output3/train/tricep dips/tricep_dips_37.mp4  \n",
            "  inflating: ./p5/content/output3/train/tricep dips/tricep_dips_5.mp4  \n",
            "  inflating: ./p5/content/output3/train/tricep dips/tricep_dips_13.mp4  \n",
            "  inflating: ./p5/content/output3/train/tricep dips/tricep_dips_24.mp4  \n",
            "  inflating: ./p5/content/output3/train/tricep dips/tricep_dips_31.mp4  \n",
            "  inflating: ./p5/content/output3/train/tricep dips/tricep_dips_47.mp4  \n",
            "  inflating: ./p5/content/output3/train/tricep dips/tricep_dips_10.mp4  \n",
            "  inflating: ./p5/content/output3/train/tricep dips/tricep_dips_3.mp4  \n",
            "  inflating: ./p5/content/output3/train/tricep dips/tricep_dips_50.mp4  \n",
            "  inflating: ./p5/content/output3/train/tricep dips/tricep_dips_51.mp4  \n",
            "  inflating: ./p5/content/output3/train/tricep dips/tricep_dips_4.mp4  \n",
            "  inflating: ./p5/content/output3/train/tricep dips/tricep_dips_1.mp4  \n",
            "  inflating: ./p5/content/output3/train/tricep dips/tricep_dips_23.mp4  \n",
            "  inflating: ./p5/content/output3/train/tricep dips/tricep_dips_41.mp4  \n",
            "  inflating: ./p5/content/output3/train/tricep dips/tricep_dips_48.mp4  \n",
            "  inflating: ./p5/content/output3/train/tricep dips/tricep_dips_33.mp4  \n",
            "  inflating: ./p5/content/output3/train/tricep dips/tricep_dips_45.mp4  \n",
            "  inflating: ./p5/content/output3/train/tricep dips/tricep_dips_6.mp4  \n",
            "  inflating: ./p5/content/output3/train/tricep dips/tricep_dips_52.mp4  \n",
            "  inflating: ./p5/content/output3/train/tricep dips/tricep_dips_53.mp4  \n",
            "  inflating: ./p5/content/output3/train/tricep dips/tricep_dips_44.mp4  \n",
            "  inflating: ./p5/content/output3/train/tricep dips/tricep_dips_30.mp4  \n",
            "  inflating: ./p5/content/output3/train/tricep dips/tricep_dips_29.mp4  \n",
            "   creating: ./p5/content/output3/train/romanian deadlift/\n",
            "  inflating: ./p5/content/output3/train/romanian deadlift/romanian_deadlift_202.mp4  \n",
            "  inflating: ./p5/content/output3/train/romanian deadlift/romanian_deadlift_14.mp4  \n",
            "  inflating: ./p5/content/output3/train/romanian deadlift/romanian_deadlift_21.mp4  \n",
            "  inflating: ./p5/content/output3/train/romanian deadlift/romanian_deadlift_201.mp4  \n",
            "  inflating: ./p5/content/output3/train/romanian deadlift/romanian_deadlift_20.mp4  \n",
            "  inflating: ./p5/content/output3/train/romanian deadlift/romanian_deadlift_25.mp4  \n",
            "  inflating: ./p5/content/output3/train/romanian deadlift/romanian_deadlift_18.mp4  \n",
            "  inflating: ./p5/content/output3/train/romanian deadlift/romanian_deadlift_23.mp4  \n",
            "  inflating: ./p5/content/output3/train/romanian deadlift/romanian_deadlift_5.mp4  \n",
            "  inflating: ./p5/content/output3/train/romanian deadlift/romanian_deadlift_9.mp4  \n",
            "  inflating: ./p5/content/output3/train/romanian deadlift/romanian_deadlift_4.mp4  \n",
            "  inflating: ./p5/content/output3/train/romanian deadlift/romanian_deadlift_6.mp4  \n",
            "  inflating: ./p5/content/output3/train/romanian deadlift/romanian_deadlift_11.mp4  \n",
            "  inflating: ./p5/content/output3/train/romanian deadlift/romanian_deadlift_8.mp4  \n",
            "  inflating: ./p5/content/output3/train/romanian deadlift/romanian_deadlift_15.mp4  \n",
            "  inflating: ./p5/content/output3/train/romanian deadlift/romanian_deadlift_3.mp4  \n",
            "  inflating: ./p5/content/output3/train/romanian deadlift/romanian_deadlift_16.mp4  \n",
            "  inflating: ./p5/content/output3/train/romanian deadlift/romanian_deadlift_203.mp4  \n",
            "  inflating: ./p5/content/output3/train/romanian deadlift/romanian_deadlift_10.mp4  \n",
            "  inflating: ./p5/content/output3/train/romanian deadlift/romanian_deadlift_26.mp4  \n",
            "  inflating: ./p5/content/output3/train/romanian deadlift/romanian_deadlift_24.mp4  \n",
            "  inflating: ./p5/content/output3/train/romanian deadlift/romanian_deadlift_19.mp4  \n",
            "  inflating: ./p5/content/output3/train/romanian deadlift/romanian_deadlift_1.mp4  \n",
            "  inflating: ./p5/content/output3/train/romanian deadlift/romanian_deadlift_7.mp4  \n",
            "  inflating: ./p5/content/output3/train/romanian deadlift/romanian_deadlift_17.mp4  \n",
            "  inflating: ./p5/content/output3/train/romanian deadlift/romanian_deadlift_2.mp4  \n",
            "  inflating: ./p5/content/output3/train/romanian deadlift/romanian_deadlift_22.mp4  \n",
            "   creating: ./p5/content/output3/train/hip thrust/\n",
            "  inflating: ./p5/content/output3/train/hip thrust/hip_thrust_110.mp4  \n",
            "  inflating: ./p5/content/output3/train/hip thrust/hip_thrust_4.mp4  \n",
            "  inflating: ./p5/content/output3/train/hip thrust/hip_thrust_102.mp4  \n",
            "  inflating: ./p5/content/output3/train/hip thrust/hip_thrust_111.mp4  \n",
            "  inflating: ./p5/content/output3/train/hip thrust/hip_thrust_105.mp4  \n",
            "  inflating: ./p5/content/output3/train/hip thrust/hip_thrust_109.mp4  \n",
            "  inflating: ./p5/content/output3/train/hip thrust/hip_thrust_101.mp4  \n",
            "  inflating: ./p5/content/output3/train/hip thrust/hip_thrust_11.mp4  \n",
            "  inflating: ./p5/content/output3/train/hip thrust/hip_thrust_104.mp4  \n",
            "  inflating: ./p5/content/output3/train/hip thrust/hip_thrust_7.mp4  \n",
            "  inflating: ./p5/content/output3/train/hip thrust/hip_thrust_3.mp4  \n",
            "  inflating: ./p5/content/output3/train/hip thrust/hip_thrust_103.mp4  \n",
            "  inflating: ./p5/content/output3/train/hip thrust/hip_thrust_14.mp4  \n",
            "  inflating: ./p5/content/output3/train/hip thrust/hip_thrust_5.mp4  \n",
            "  inflating: ./p5/content/output3/train/hip thrust/hip_thrust_107.mp4  \n",
            "  inflating: ./p5/content/output3/train/hip thrust/hip_thrust_13.mp4  \n",
            "  inflating: ./p5/content/output3/train/hip thrust/hip_thrust_6.mp4  \n",
            "  inflating: ./p5/content/output3/train/hip thrust/hip_thrust_10.mp4  \n",
            "  inflating: ./p5/content/output3/train/hip thrust/hip_thrust_8.mp4  \n",
            "  inflating: ./p5/content/output3/train/hip thrust/hip_thrust_2.mp4  \n",
            "  inflating: ./p5/content/output3/train/hip thrust/hip_thrust_106.mp4  \n",
            "  inflating: ./p5/content/output3/train/hip thrust/hip_thrust_12.mp4  \n",
            "  inflating: ./p5/content/output3/train/hip thrust/hip_thrust_9.mp4  \n",
            "  inflating: ./p5/content/output3/train/hip thrust/hip_thrust_1.mp4  \n",
            "  inflating: ./p5/content/output3/train/hip thrust/hip_thrust_108.mp4  \n",
            "   creating: ./p5/content/output3/train/push-up/\n",
            "  inflating: ./p5/content/output3/train/push-up/push-up_10.mp4  \n",
            "  inflating: ./p5/content/output3/train/push-up/push-up_9.mp4  \n",
            "  inflating: ./p5/content/output3/train/push-up/push-up_108.mp4  \n",
            "  inflating: ./p5/content/output3/train/push-up/push-up_7.mp4  \n",
            "  inflating: ./p5/content/output3/train/push-up/push-up_36.mp4  \n",
            "  inflating: ./p5/content/output3/train/push-up/push-up_5.mp4  \n",
            "  inflating: ./p5/content/output3/train/push-up/push-up_42.mp4  \n",
            "  inflating: ./p5/content/output3/train/push-up/push-up_41.mp4  \n",
            "  inflating: ./p5/content/output3/train/push-up/push-up_23.mp4  \n",
            "  inflating: ./p5/content/output3/train/push-up/push-up_26.mp4  \n",
            "  inflating: ./p5/content/output3/train/push-up/push-up_38.mp4  \n",
            "  inflating: ./p5/content/output3/train/push-up/push-up_21.mp4  \n",
            "  inflating: ./p5/content/output3/train/push-up/push-up_4.mp4  \n",
            "  inflating: ./p5/content/output3/train/push-up/push-up_6.mp4  \n",
            "  inflating: ./p5/content/output3/train/push-up/push-up_37.mp4  \n",
            "  inflating: ./p5/content/output3/train/push-up/push-up_104.mp4  \n",
            "  inflating: ./p5/content/output3/train/push-up/push-up_29.mp4  \n",
            "  inflating: ./p5/content/output3/train/push-up/push-up_24.mp4  \n",
            "  inflating: ./p5/content/output3/train/push-up/push-up_40.mp4  \n",
            "  inflating: ./p5/content/output3/train/push-up/push-up_11.mp4  \n",
            "  inflating: ./p5/content/output3/train/push-up/push-up_12.mp4  \n",
            "  inflating: ./p5/content/output3/train/push-up/push-up_20.mp4  \n",
            "  inflating: ./p5/content/output3/train/push-up/push-up_39.mp4  \n",
            "  inflating: ./p5/content/output3/train/push-up/push-up_33.mp4  \n",
            "  inflating: ./p5/content/output3/train/push-up/push-up_3.mp4  \n",
            "  inflating: ./p5/content/output3/train/push-up/push-up_34.mp4  \n",
            "  inflating: ./p5/content/output3/train/push-up/push-up_27.mp4  \n",
            "  inflating: ./p5/content/output3/train/push-up/push-up_105.mp4  \n",
            "  inflating: ./p5/content/output3/train/push-up/push-up_28.mp4  \n",
            "  inflating: ./p5/content/output3/train/push-up/push-up_1.mp4  \n",
            "  inflating: ./p5/content/output3/train/push-up/push-up_106.mp4  \n",
            "  inflating: ./p5/content/output3/train/push-up/push-up_43.mp4  \n",
            "  inflating: ./p5/content/output3/train/push-up/push-up_25.mp4  \n",
            "  inflating: ./p5/content/output3/train/push-up/push-up_45.mp4  \n",
            "  inflating: ./p5/content/output3/train/push-up/push-up_2.mp4  \n",
            "  inflating: ./p5/content/output3/train/push-up/push-up_14.mp4  \n",
            "  inflating: ./p5/content/output3/train/push-up/push-up_32.mp4  \n",
            "  inflating: ./p5/content/output3/train/push-up/push-up_16.mp4  \n",
            "  inflating: ./p5/content/output3/train/push-up/push-up_35.mp4  \n",
            "  inflating: ./p5/content/output3/train/push-up/push-up_44.mp4  \n",
            "  inflating: ./p5/content/output3/train/push-up/push-up_103.mp4  \n",
            "  inflating: ./p5/content/output3/train/push-up/push-up_19.mp4  \n",
            "  inflating: ./p5/content/output3/train/push-up/push-up_101.mp4  \n",
            "  inflating: ./p5/content/output3/train/push-up/push-up_102.mp4  \n",
            "  inflating: ./p5/content/output3/train/push-up/push-up_22.mp4  \n",
            "  inflating: ./p5/content/output3/train/push-up/push-up_18.mp4  \n",
            "  inflating: ./p5/content/output3/train/push-up/push-up_17.mp4  \n",
            "  inflating: ./p5/content/output3/train/push-up/push-up_107.mp4  \n",
            "  inflating: ./p5/content/output3/train/push-up/push-up_13.mp4  \n",
            "  inflating: ./p5/content/output3/train/push-up/push-up_15.mp4  \n",
            "  inflating: ./p5/content/output3/train/push-up/push-up_31.mp4  \n",
            "  inflating: ./p5/content/output3/train/push-up/push-up_8.mp4  \n",
            "  inflating: ./p5/content/output3/train/push-up/push-up_30.mp4  \n",
            "   creating: ./p5/content/output3/train/plank/\n",
            "  inflating: ./p5/content/output3/train/plank/plank_210.mp4  \n",
            "  inflating: ./p5/content/output3/train/plank/plank_1.mp4  \n",
            "  inflating: ./p5/content/output3/train/plank/plank_106.mp4  \n",
            "  inflating: ./p5/content/output3/train/plank/plank_206.mp4  \n",
            "  inflating: ./p5/content/output3/train/plank/plank_3.mp4  \n",
            "  inflating: ./p5/content/output3/train/plank/plank_110.mp4  \n",
            "  inflating: ./p5/content/output3/train/plank/plank_101.mp4  \n",
            "  inflating: ./p5/content/output3/train/plank/plank_4.mp4  \n",
            "  inflating: ./p5/content/output3/train/plank/plank_203.mp4  \n",
            "  inflating: ./p5/content/output3/train/plank/plank_109.mp4  \n",
            "  inflating: ./p5/content/output3/train/plank/plank_105.mp4  \n",
            "  inflating: ./p5/content/output3/train/plank/plank_202.mp4  \n",
            "  inflating: ./p5/content/output3/train/plank/plank_205.mp4  \n",
            "  inflating: ./p5/content/output3/train/plank/plank_103.mp4  \n",
            "  inflating: ./p5/content/output3/train/plank/plank_108.mp4  \n",
            "  inflating: ./p5/content/output3/train/plank/plank_104.mp4  \n",
            "  inflating: ./p5/content/output3/train/plank/plank_201.mp4  \n",
            "  inflating: ./p5/content/output3/train/plank/plank_102.mp4  \n",
            "  inflating: ./p5/content/output3/train/plank/plank_213.mp4  \n",
            "  inflating: ./p5/content/output3/train/plank/plank_2.mp4  \n",
            "  inflating: ./p5/content/output3/train/plank/plank_107.mp4  \n",
            "  inflating: ./p5/content/output3/train/plank/plank_5.mp4  \n",
            "  inflating: ./p5/content/output3/train/plank/plank_204.mp4  \n",
            "  inflating: ./p5/content/output3/train/plank/plank_212.mp4  \n",
            "   creating: ./p5/content/output3/train/dbp/\n",
            "  inflating: ./p5/content/output3/train/dbp/dbp_101.mp4  \n",
            "  inflating: ./p5/content/output3/train/dbp/dbp_104.mp4  \n",
            "  inflating: ./p5/content/output3/train/dbp/dbp_108.mp4  \n",
            "  inflating: ./p5/content/output3/train/dbp/dbp_111.mp4  \n",
            "  inflating: ./p5/content/output3/train/dbp/dbp_10.mp4  \n",
            "  inflating: ./p5/content/output3/train/dbp/dbp_107.mp4  \n",
            "  inflating: ./p5/content/output3/train/dbp/dbp_113.mp4  \n",
            "  inflating: ./p5/content/output3/train/dbp/dbp_9.mp4  \n",
            "  inflating: ./p5/content/output3/train/dbp/dbp_110.mp4  \n",
            "  inflating: ./p5/content/output3/train/dbp/dbp_7.mp4  \n",
            "  inflating: ./p5/content/output3/train/dbp/dbp_112.mp4  \n",
            "  inflating: ./p5/content/output3/train/dbp/dbp_1.mp4  \n",
            "  inflating: ./p5/content/output3/train/dbp/dbp_5.mp4  \n",
            "  inflating: ./p5/content/output3/train/dbp/dbp_4.mp4  \n",
            "  inflating: ./p5/content/output3/train/dbp/dbp_105.mp4  \n",
            "  inflating: ./p5/content/output3/train/dbp/dbp_8.mp4  \n",
            "  inflating: ./p5/content/output3/train/dbp/dbp_6.mp4  \n",
            "  inflating: ./p5/content/output3/train/dbp/dbp_109.mp4  \n",
            "  inflating: ./p5/content/output3/train/dbp/dbp_114.mp4  \n",
            "  inflating: ./p5/content/output3/train/dbp/dbp_3.mp4  \n",
            "  inflating: ./p5/content/output3/train/dbp/dbp_102.mp4  \n",
            "  inflating: ./p5/content/output3/train/dbp/dbp_106.mp4  \n",
            "  inflating: ./p5/content/output3/train/dbp/dbp_115.mp4  \n",
            "  inflating: ./p5/content/output3/train/dbp/dbp_103.mp4  \n",
            "  inflating: ./p5/content/output3/train/dbp/dbp_2.mp4  \n",
            "   creating: ./p5/content/output3/train/shoulder press/\n",
            "  inflating: ./p5/content/output3/train/shoulder press/shoulder_press_7.mp4  \n",
            "  inflating: ./p5/content/output3/train/shoulder press/shoulder_press_1.mp4  \n",
            "  inflating: ./p5/content/output3/train/shoulder press/shoulder_press_20.mp4  \n",
            "  inflating: ./p5/content/output3/train/shoulder press/shoulder_press_2.mp4  \n",
            "  inflating: ./p5/content/output3/train/shoulder press/shoulder_press_10.mp4  \n",
            "  inflating: ./p5/content/output3/train/shoulder press/shoulder_press_30.mp4  \n",
            "  inflating: ./p5/content/output3/train/shoulder press/shoulder_press_11.mp4  \n",
            "  inflating: ./p5/content/output3/train/shoulder press/shoulder_press_23.mp4  \n",
            "  inflating: ./p5/content/output3/train/shoulder press/shoulder_press_6.mp4  \n",
            "  inflating: ./p5/content/output3/train/shoulder press/shoulder_press_28.mp4  \n",
            "  inflating: ./p5/content/output3/train/shoulder press/shoulder_press_9.mp4  \n",
            "  inflating: ./p5/content/output3/train/shoulder press/shoulder_press_12.mp4  \n",
            "  inflating: ./p5/content/output3/train/shoulder press/shoulder_press_29.mp4  \n",
            "  inflating: ./p5/content/output3/train/shoulder press/shoulder_press_21.mp4  \n",
            "  inflating: ./p5/content/output3/train/shoulder press/shoulder_press_25.mp4  \n",
            "  inflating: ./p5/content/output3/train/shoulder press/shoulder_press_8.mp4  \n",
            "  inflating: ./p5/content/output3/train/shoulder press/shoulder_press_18.mp4  \n",
            "  inflating: ./p5/content/output3/train/shoulder press/shoulder_press_26.mp4  \n",
            "  inflating: ./p5/content/output3/train/shoulder press/shoulder_press_24.mp4  \n",
            "  inflating: ./p5/content/output3/train/shoulder press/shoulder_press_19.mp4  \n",
            "  inflating: ./p5/content/output3/train/shoulder press/shoulder_press_4.mp4  \n",
            "  inflating: ./p5/content/output3/train/shoulder press/shoulder_press_27.mp4  \n",
            "  inflating: ./p5/content/output3/train/shoulder press/shoulder_press_5.mp4  \n",
            "  inflating: ./p5/content/output3/train/shoulder press/shoulder_press_22.mp4  \n",
            "  inflating: ./p5/content/output3/train/shoulder press/shoulder_press_3.mp4  \n",
            "  inflating: ./p5/content/output3/train/shoulder press/shoulder_press_13.mp4  \n",
            "   creating: ./p5/content/output3/train/leg raises/\n",
            "  inflating: ./p5/content/output3/train/leg raises/leg_raises_23.mp4  \n",
            "  inflating: ./p5/content/output3/train/leg raises/leg_raises_2.mp4  \n",
            "  inflating: ./p5/content/output3/train/leg raises/leg_raises_9.mp4  \n",
            "  inflating: ./p5/content/output3/train/leg raises/leg_raises_29.mp4  \n",
            "  inflating: ./p5/content/output3/train/leg raises/leg_raises_30.mp4  \n",
            "  inflating: ./p5/content/output3/train/leg raises/leg_raises_3.mp4  \n",
            "  inflating: ./p5/content/output3/train/leg raises/leg_raises_7.mp4  \n",
            "  inflating: ./p5/content/output3/train/leg raises/leg_raises_26.mp4  \n",
            "  inflating: ./p5/content/output3/train/leg raises/leg_raises_25.mp4  \n",
            "  inflating: ./p5/content/output3/train/leg raises/leg_raises_16.mp4  \n",
            "  inflating: ./p5/content/output3/train/leg raises/leg_raises_27.mp4  \n",
            "  inflating: ./p5/content/output3/train/leg raises/leg_raises_1.mp4  \n",
            "  inflating: ./p5/content/output3/train/leg raises/leg_raises_11.mp4  \n",
            "  inflating: ./p5/content/output3/train/leg raises/leg_raises_10.mp4  \n",
            "  inflating: ./p5/content/output3/train/leg raises/leg_raises_8.mp4  \n",
            "  inflating: ./p5/content/output3/train/leg raises/leg_raises_4.mp4  \n",
            "  inflating: ./p5/content/output3/train/leg raises/leg_raises_17.mp4  \n",
            "  inflating: ./p5/content/output3/train/leg raises/leg_raises_28.mp4  \n",
            "  inflating: ./p5/content/output3/train/leg raises/leg_raises_6.mp4  \n",
            "  inflating: ./p5/content/output3/train/leg raises/leg_raises_15.mp4  \n",
            "  inflating: ./p5/content/output3/train/leg raises/leg_raises_13.mp4  \n",
            "  inflating: ./p5/content/output3/train/leg raises/leg_raises_14.mp4  \n",
            "  inflating: ./p5/content/output3/train/leg raises/leg_raises_12.mp4  \n",
            "  inflating: ./p5/content/output3/train/leg raises/leg_raises_22.mp4  \n",
            "  inflating: ./p5/content/output3/train/leg raises/leg_raises_5.mp4  \n",
            "  inflating: ./p5/content/output3/train/leg raises/leg_raises_24.mp4  \n",
            "   creating: ./p5/content/output3/train/lateral raise/\n",
            "  inflating: ./p5/content/output3/train/lateral raise/lateral_raise_14.mp4  \n",
            "  inflating: ./p5/content/output3/train/lateral raise/lateral_raise_21.mp4  \n",
            "  inflating: ./p5/content/output3/train/lateral raise/lateral_raise_5.mp4  \n",
            "  inflating: ./p5/content/output3/train/lateral raise/lateral_raise_15.mp4  \n",
            "  inflating: ./p5/content/output3/train/lateral raise/lateral_raise_17.mp4  \n",
            "  inflating: ./p5/content/output3/train/lateral raise/lateral_raise_4.mp4  \n",
            "  inflating: ./p5/content/output3/train/lateral raise/lateral_raise_26.mp4  \n",
            "  inflating: ./p5/content/output3/train/lateral raise/lateral_raise_22.mp4  \n",
            "  inflating: ./p5/content/output3/train/lateral raise/lateral_raise_7.mp4  \n",
            "  inflating: ./p5/content/output3/train/lateral raise/lateral_raise_27.mp4  \n",
            "  inflating: ./p5/content/output3/train/lateral raise/lateral_raise_2.mp4  \n",
            "  inflating: ./p5/content/output3/train/lateral raise/lateral_raise_28.mp4  \n",
            "  inflating: ./p5/content/output3/train/lateral raise/lateral_raise_20.mp4  \n",
            "  inflating: ./p5/content/output3/train/lateral raise/lateral_raise_6.mp4  \n",
            "  inflating: ./p5/content/output3/train/lateral raise/lateral_raise_10.mp4  \n",
            "  inflating: ./p5/content/output3/train/lateral raise/lateral_raise_18.mp4  \n",
            "  inflating: ./p5/content/output3/train/lateral raise/lateral_raise_30.mp4  \n",
            "  inflating: ./p5/content/output3/train/lateral raise/lateral_raise_9.mp4  \n",
            "  inflating: ./p5/content/output3/train/lateral raise/lateral_raise_1.mp4  \n",
            "  inflating: ./p5/content/output3/train/lateral raise/lateral_raise_12.mp4  \n",
            "  inflating: ./p5/content/output3/train/lateral raise/lateral_raise_11.mp4  \n",
            "  inflating: ./p5/content/output3/train/lateral raise/lateral_raise_16.mp4  \n",
            "  inflating: ./p5/content/output3/train/lateral raise/lateral_raise_19.mp4  \n",
            "  inflating: ./p5/content/output3/train/lateral raise/lateral_raise_23.mp4  \n",
            "  inflating: ./p5/content/output3/train/lateral raise/lateral_raise_25.mp4  \n",
            "  inflating: ./p5/content/output3/train/lateral raise/lateral_raise_3.mp4  \n",
            "  inflating: ./p5/content/output3/train/lateral raise/lateral_raise_24.mp4  \n",
            "  inflating: ./p5/content/output3/train/lateral raise/lateral_raise_8.mp4  \n",
            "  inflating: ./p5/content/output3/train/lateral raise/lateral_raise_13.mp4  \n",
            "  inflating: ./p5/content/output3/train/lateral raise/lateral_raise_29.mp4  \n",
            "   creating: ./p5/content/output3/val/\n",
            "   creating: ./p5/content/output3/val/incline bench press/\n",
            "  inflating: ./p5/content/output3/val/incline bench press/incline_bench_press_32.mp4  \n",
            "  inflating: ./p5/content/output3/val/incline bench press/incline_bench_press_28.mp4  \n",
            "  inflating: ./p5/content/output3/val/incline bench press/incline_bench_press_27.mp4  \n",
            "  inflating: ./p5/content/output3/val/incline bench press/incline_bench_press_29.mp4  \n",
            "  inflating: ./p5/content/output3/val/incline bench press/incline_bench_press_31.mp4  \n",
            "  inflating: ./p5/content/output3/val/incline bench press/incline_bench_press_30.mp4  \n",
            "  inflating: ./p5/content/output3/val/incline bench press/incline_bench_press_33.mp4  \n",
            "   creating: ./p5/content/output3/val/tricep pushdown/\n",
            "  inflating: ./p5/content/output3/val/tricep pushdown/tricep_pushdown_49.mp4  \n",
            "  inflating: ./p5/content/output3/val/tricep pushdown/tricep_pushdown_46.mp4  \n",
            "  inflating: ./p5/content/output3/val/tricep pushdown/tricep_pushdown_112.mp4  \n",
            "  inflating: ./p5/content/output3/val/tricep pushdown/tricep_pushdown_47.mp4  \n",
            "  inflating: ./p5/content/output3/val/tricep pushdown/tricep_pushdown_50.mp4  \n",
            "  inflating: ./p5/content/output3/val/tricep pushdown/tricep_pushdown_45.mp4  \n",
            "  inflating: ./p5/content/output3/val/tricep pushdown/tricep_pushdown_113.mp4  \n",
            "  inflating: ./p5/content/output3/val/tricep pushdown/tricep_pushdown_43.mp4  \n",
            "  inflating: ./p5/content/output3/val/tricep pushdown/tricep_pushdown_48.mp4  \n",
            "  inflating: ./p5/content/output3/val/tricep pushdown/tricep_pushdown_41.mp4  \n",
            "  inflating: ./p5/content/output3/val/tricep pushdown/tricep_pushdown_44.mp4  \n",
            "  inflating: ./p5/content/output3/val/tricep pushdown/tricep_pushdown_42.mp4  \n",
            "   creating: ./p5/content/output3/val/deadlift/\n",
            "  inflating: ./p5/content/output3/val/deadlift/deadlift_28.mp4  \n",
            "  inflating: ./p5/content/output3/val/deadlift/deadlift_30.mp4  \n",
            "  inflating: ./p5/content/output3/val/deadlift/deadlift_27.mp4  \n",
            "  inflating: ./p5/content/output3/val/deadlift/deadlift_32.mp4  \n",
            "  inflating: ./p5/content/output3/val/deadlift/deadlift_29.mp4  \n",
            "  inflating: ./p5/content/output3/val/deadlift/deadlift_31.mp4  \n",
            "   creating: ./p5/content/output3/val/chest fly machine/\n",
            "  inflating: ./p5/content/output3/val/chest fly machine/chest_fly_machine_28.mp4  \n",
            "  inflating: ./p5/content/output3/val/chest fly machine/chest_fly_machine_27.mp4  \n",
            "  inflating: ./p5/content/output3/val/chest fly machine/chest_fly_machine_23.mp4  \n",
            "  inflating: ./p5/content/output3/val/chest fly machine/chest_fly_machine_26.mp4  \n",
            "  inflating: ./p5/content/output3/val/chest fly machine/chest_fly_machine_105.mp4  \n",
            "  inflating: ./p5/content/output3/val/chest fly machine/chest_fly_machine_24.mp4  \n",
            "  inflating: ./p5/content/output3/val/chest fly machine/chest_fly_machine_25.mp4  \n",
            "   creating: ./p5/content/output3/val/squat/\n",
            "  inflating: ./p5/content/output3/val/squat/squat_29.mp4  \n",
            "  inflating: ./p5/content/output3/val/squat/squat_129.mp4  \n",
            "  inflating: ./p5/content/output3/val/squat/squat_133.mp4  \n",
            "  inflating: ./p5/content/output3/val/squat/squat_26.mp4  \n",
            "  inflating: ./p5/content/output3/val/squat/squat_132.mp4  \n",
            "  inflating: ./p5/content/output3/val/squat/squat_131.mp4  \n",
            "  inflating: ./p5/content/output3/val/squat/squat_24.mp4  \n",
            "  inflating: ./p5/content/output3/val/squat/squat_134.mp4  \n",
            "  inflating: ./p5/content/output3/val/squat/squat_28.mp4  \n",
            "  inflating: ./p5/content/output3/val/squat/squat_test_1.mp4  \n",
            "  inflating: ./p5/content/output3/val/squat/squat_27.mp4  \n",
            "  inflating: ./p5/content/output3/val/squat/squat_25.mp4  \n",
            "  inflating: ./p5/content/output3/val/squat/squat_130.mp4  \n",
            "   creating: ./p5/content/output3/val/lat pulldown/\n",
            "  inflating: ./p5/content/output3/val/lat pulldown/lat_pulldown_45.mp4  \n",
            "  inflating: ./p5/content/output3/val/lat pulldown/lat_pulldown_46.mp4  \n",
            "  inflating: ./p5/content/output3/val/lat pulldown/lat_pulldown_50.mp4  \n",
            "  inflating: ./p5/content/output3/val/lat pulldown/lat_pulldown_44.mp4  \n",
            "  inflating: ./p5/content/output3/val/lat pulldown/lat_pulldown_51.mp4  \n",
            "  inflating: ./p5/content/output3/val/lat pulldown/lat_pulldown_42.mp4  \n",
            "  inflating: ./p5/content/output3/val/lat pulldown/lat_pulldown_49.mp4  \n",
            "  inflating: ./p5/content/output3/val/lat pulldown/lat_pulldown_47.mp4  \n",
            "  inflating: ./p5/content/output3/val/lat pulldown/lat_pulldown_48.mp4  \n",
            "  inflating: ./p5/content/output3/val/lat pulldown/lat_pulldown_43.mp4  \n",
            "   creating: ./p5/content/output3/val/bench press/\n",
            "  inflating: ./p5/content/output3/val/bench press/bench_press_59.mp4  \n",
            "  inflating: ./p5/content/output3/val/bench press/bench_press_60.mp4  \n",
            "  inflating: ./p5/content/output3/val/bench press/bench_press_61.mp4  \n",
            "  inflating: ./p5/content/output3/val/bench press/bench_press_56.mp4  \n",
            "  inflating: ./p5/content/output3/val/bench press/bench_press_51.mp4  \n",
            "  inflating: ./p5/content/output3/val/bench press/bench_press_55.mp4  \n",
            "  inflating: ./p5/content/output3/val/bench press/bench_press_50.mp4  \n",
            "  inflating: ./p5/content/output3/val/bench press/bench_press_52.mp4  \n",
            "  inflating: ./p5/content/output3/val/bench press/bench_press_54.mp4  \n",
            "  inflating: ./p5/content/output3/val/bench press/bench_press_58.mp4  \n",
            "  inflating: ./p5/content/output3/val/bench press/bench_press_53.mp4  \n",
            "  inflating: ./p5/content/output3/val/bench press/bench_press_57.mp4  \n",
            "   creating: ./p5/content/output3/val/barbell biceps curl/\n",
            "  inflating: ./p5/content/output3/val/barbell biceps curl/barbell_biceps_curl_60.mp4  \n",
            "  inflating: ./p5/content/output3/val/barbell biceps curl/barbell_biceps_curl_54.mp4  \n",
            "  inflating: ./p5/content/output3/val/barbell biceps curl/barbell_biceps_curl_58.mp4  \n",
            "  inflating: ./p5/content/output3/val/barbell biceps curl/barbell_biceps_curl_52.mp4  \n",
            "  inflating: ./p5/content/output3/val/barbell biceps curl/barbell_biceps_curl_57.mp4  \n",
            "  inflating: ./p5/content/output3/val/barbell biceps curl/barbell_biceps_curl_61.mp4  \n",
            "  inflating: ./p5/content/output3/val/barbell biceps curl/barbell_biceps_curl_62.mp4  \n",
            "  inflating: ./p5/content/output3/val/barbell biceps curl/barbell_biceps_curl_56.mp4  \n",
            "  inflating: ./p5/content/output3/val/barbell biceps curl/barbell_biceps_curl_51.mp4  \n",
            "  inflating: ./p5/content/output3/val/barbell biceps curl/barbell_biceps_curl_55.mp4  \n",
            "  inflating: ./p5/content/output3/val/barbell biceps curl/barbell_biceps_curl_53.mp4  \n",
            "  inflating: ./p5/content/output3/val/barbell biceps curl/barbell_biceps_curl_59.mp4  \n",
            "   creating: ./p5/content/output3/val/hammer curl/\n",
            "  inflating: ./p5/content/output3/val/hammer curl/hammer_curl_116.mp4  \n",
            "  inflating: ./p5/content/output3/val/hammer curl/hammer_curl_test_1.mp4  \n",
            "  inflating: ./p5/content/output3/val/hammer curl/hammer_curl_19.mp4  \n",
            "  inflating: ./p5/content/output3/val/hammer curl/hammer_curl_test_2.mp4  \n",
            "  inflating: ./p5/content/output3/val/hammer curl/hammer_curl_117.mp4  \n",
            "  inflating: ./p5/content/output3/val/hammer curl/hammer_curl_17.mp4  \n",
            "  inflating: ./p5/content/output3/val/hammer curl/hammer_curl_16.mp4  \n",
            "  inflating: ./p5/content/output3/val/hammer curl/hammer_curl_118.mp4  \n",
            "  inflating: ./p5/content/output3/val/hammer curl/hammer_curl_18.mp4  \n",
            "   creating: ./p5/content/output3/val/leg extension/\n",
            "  inflating: ./p5/content/output3/val/leg extension/leg_extension_32.mp4  \n",
            "  inflating: ./p5/content/output3/val/leg extension/leg_extension_22.mp4  \n",
            "  inflating: ./p5/content/output3/val/leg extension/leg_extension_23.mp4  \n",
            "  inflating: ./p5/content/output3/val/leg extension/leg_extension_24.mp4  \n",
            "  inflating: ./p5/content/output3/val/leg extension/leg_extension_25.mp4  \n",
            "  inflating: ./p5/content/output3/val/leg extension/leg_extension_21.mp4  \n",
            "   creating: ./p5/content/output3/val/pull up/\n",
            "  inflating: ./p5/content/output3/val/pull up/pull_up_24.mp4  \n",
            "  inflating: ./p5/content/output3/val/pull up/pull_up_22.mp4  \n",
            "  inflating: ./p5/content/output3/val/pull up/pull_up_25.mp4  \n",
            "  inflating: ./p5/content/output3/val/pull up/pull_up_26.mp4  \n",
            "  inflating: ./p5/content/output3/val/pull up/pull_up_34.mp4  \n",
            "  inflating: ./p5/content/output3/val/pull up/pull_up_23.mp4  \n",
            "   creating: ./p5/content/output3/val/russian twist/\n",
            "  inflating: ./p5/content/output3/val/russian twist/russian_twist_26.mp4  \n",
            "  inflating: ./p5/content/output3/val/russian twist/russian_twist_12.mp4  \n",
            "  inflating: ./p5/content/output3/val/russian twist/russian_twist_test_1.mp4  \n",
            "  inflating: ./p5/content/output3/val/russian twist/russian_twist_28.mp4  \n",
            "  inflating: ./p5/content/output3/val/russian twist/russian_twist_27.mp4  \n",
            "  inflating: ./p5/content/output3/val/russian twist/russian_twist_13.mp4  \n",
            "  inflating: ./p5/content/output3/val/russian twist/russian_twist_test_2.mp4  \n",
            "  inflating: ./p5/content/output3/val/russian twist/russian_twist_11.mp4  \n",
            "   creating: ./p5/content/output3/val/t bar row/\n",
            "  inflating: ./p5/content/output3/val/t bar row/t_bar_row_19.mp4  \n",
            "  inflating: ./p5/content/output3/val/t bar row/t_bar_row_35.mp4  \n",
            "  inflating: ./p5/content/output3/val/t bar row/t_bar_row_36.mp4  \n",
            "  inflating: ./p5/content/output3/val/t bar row/t_bar_row_21.mp4  \n",
            "  inflating: ./p5/content/output3/val/t bar row/t_bar_row_20.mp4  \n",
            "  inflating: ./p5/content/output3/val/t bar row/t_bar_row_18.mp4  \n",
            "  inflating: ./p5/content/output3/val/t bar row/t_bar_row_37.mp4  \n",
            "   creating: ./p5/content/output3/val/tricep dips/\n",
            "  inflating: ./p5/content/output3/val/tricep dips/tricep_dips_58.mp4  \n",
            "  inflating: ./p5/content/output3/val/tricep dips/tricep_dips_18.mp4  \n",
            "  inflating: ./p5/content/output3/val/tricep dips/tricep_dips_54.mp4  \n",
            "  inflating: ./p5/content/output3/val/tricep dips/tricep_dips_19.mp4  \n",
            "  inflating: ./p5/content/output3/val/tricep dips/tricep_dips_59.mp4  \n",
            "  inflating: ./p5/content/output3/val/tricep dips/tricep_dips_17.mp4  \n",
            "  inflating: ./p5/content/output3/val/tricep dips/tricep_dips_201.mp4  \n",
            "  inflating: ./p5/content/output3/val/tricep dips/tricep_dips_20.mp4  \n",
            "  inflating: ./p5/content/output3/val/tricep dips/tricep_dips_60.mp4  \n",
            "  inflating: ./p5/content/output3/val/tricep dips/tricep_dips_57.mp4  \n",
            "  inflating: ./p5/content/output3/val/tricep dips/tricep_dips_56.mp4  \n",
            "  inflating: ./p5/content/output3/val/tricep dips/tricep_dips_55.mp4  \n",
            "   creating: ./p5/content/output3/val/romanian deadlift/\n",
            "  inflating: ./p5/content/output3/val/romanian deadlift/romanian_deadlift_14.mp4  \n",
            "  inflating: ./p5/content/output3/val/romanian deadlift/romanian_deadlift_27.mp4  \n",
            "  inflating: ./p5/content/output3/val/romanian deadlift/romanian_deadlift_13.mp4  \n",
            "  inflating: ./p5/content/output3/val/romanian deadlift/romanian_deadlift_12.mp4  \n",
            "  inflating: ./p5/content/output3/val/romanian deadlift/romanian_deadlift_28.mp4  \n",
            "   creating: ./p5/content/output3/val/hip thrust/\n",
            "  inflating: ./p5/content/output3/val/hip thrust/hip_thrust_201.mp4  \n",
            "  inflating: ./p5/content/output3/val/hip thrust/hip_thrust_17.mp4  \n",
            "  inflating: ./p5/content/output3/val/hip thrust/hip_thrust_15.mp4  \n",
            "  inflating: ./p5/content/output3/val/hip thrust/hip_thrust_112.mp4  \n",
            "  inflating: ./p5/content/output3/val/hip thrust/hip_thrust_16.mp4  \n",
            "  inflating: ./p5/content/output3/val/hip thrust/hip_thrust_test_1.mp4  \n",
            "  inflating: ./p5/content/output3/val/hip thrust/hip_thrust_18.mp4  \n",
            "   creating: ./p5/content/output3/val/push-up/\n",
            "  inflating: ./p5/content/output3/val/push-up/push-up_test_1.mp4  \n",
            "  inflating: ./p5/content/output3/val/push-up/push-up_52.mp4  \n",
            "  inflating: ./p5/content/output3/val/push-up/push-up_46.mp4  \n",
            "  inflating: ./p5/content/output3/val/push-up/push-up_56.mp4  \n",
            "  inflating: ./p5/content/output3/val/push-up/push-up_49.mp4  \n",
            "  inflating: ./p5/content/output3/val/push-up/push-up_53.mp4  \n",
            "  inflating: ./p5/content/output3/val/push-up/push-up_110.mp4  \n",
            "  inflating: ./p5/content/output3/val/push-up/push-up_test_2.mp4  \n",
            "  inflating: ./p5/content/output3/val/push-up/push-up_109.mp4  \n",
            "  inflating: ./p5/content/output3/val/push-up/push-up_54.mp4  \n",
            "  inflating: ./p5/content/output3/val/push-up/push-up_47.mp4  \n",
            "  inflating: ./p5/content/output3/val/push-up/push-up_55.mp4  \n",
            "  inflating: ./p5/content/output3/val/push-up/push-up_50.mp4  \n",
            "  inflating: ./p5/content/output3/val/push-up/push-up_48.mp4  \n",
            "  inflating: ./p5/content/output3/val/push-up/push-up_51.mp4  \n",
            "   creating: ./p5/content/output3/val/plank/\n",
            "  inflating: ./p5/content/output3/val/plank/plank_208.mp4  \n",
            "  inflating: ./p5/content/output3/val/plank/plank_207.mp4  \n",
            "  inflating: ./p5/content/output3/val/plank/plank_7.mp4  \n",
            "  inflating: ./p5/content/output3/val/plank/plank_test_1.mp4  \n",
            "  inflating: ./p5/content/output3/val/plank/plank_6.mp4  \n",
            "  inflating: ./p5/content/output3/val/plank/plank_214.mp4  \n",
            "  inflating: ./p5/content/output3/val/plank/plank_209.mp4  \n",
            "   creating: ./p5/content/output3/val/dbp/\n",
            "  inflating: ./p5/content/output3/val/dbp/dbp_11.mp4  \n",
            "  inflating: ./p5/content/output3/val/dbp/dbp_12.mp4  \n",
            "  inflating: ./p5/content/output3/val/dbp/dbp_117.mp4  \n",
            "  inflating: ./p5/content/output3/val/dbp/dbp_test_1.mp4  \n",
            "  inflating: ./p5/content/output3/val/dbp/dbp_118.mp4  \n",
            "  inflating: ./p5/content/output3/val/dbp/dbp_116.mp4  \n",
            "   creating: ./p5/content/output3/val/shoulder press/\n",
            "  inflating: ./p5/content/output3/val/shoulder press/shoulder_press_16.mp4  \n",
            "  inflating: ./p5/content/output3/val/shoulder press/shoulder_press_17.mp4  \n",
            "  inflating: ./p5/content/output3/val/shoulder press/shoulder_press_31.mp4  \n",
            "  inflating: ./p5/content/output3/val/shoulder press/shoulder_press_33.mp4  \n",
            "  inflating: ./p5/content/output3/val/shoulder press/shoulder_press_14.mp4  \n",
            "  inflating: ./p5/content/output3/val/shoulder press/shoulder_press_32.mp4  \n",
            "  inflating: ./p5/content/output3/val/shoulder press/shoulder_press_15.mp4  \n",
            "   creating: ./p5/content/output3/val/leg raises/\n",
            "  inflating: ./p5/content/output3/val/leg raises/leg_raises_21.mp4  \n",
            "  inflating: ./p5/content/output3/val/leg raises/leg_raises_20.mp4  \n",
            "  inflating: ./p5/content/output3/val/leg raises/leg_raises_18.mp4  \n",
            "  inflating: ./p5/content/output3/val/leg raises/leg_raises_test_1.mp4  \n",
            "  inflating: ./p5/content/output3/val/leg raises/leg_raises_32.mp4  \n",
            "  inflating: ./p5/content/output3/val/leg raises/leg_raises_31.mp4  \n",
            "  inflating: ./p5/content/output3/val/leg raises/leg_raises_19.mp4  \n",
            "   creating: ./p5/content/output3/val/lateral raise/\n",
            "  inflating: ./p5/content/output3/val/lateral raise/lateral_raise_33.mp4  \n",
            "  inflating: ./p5/content/output3/val/lateral raise/lateral_raise_36.mp4  \n",
            "  inflating: ./p5/content/output3/val/lateral raise/lateral_raise_35.mp4  \n",
            "  inflating: ./p5/content/output3/val/lateral raise/lateral_raise_31.mp4  \n",
            "  inflating: ./p5/content/output3/val/lateral raise/lateral_raise_37.mp4  \n",
            "  inflating: ./p5/content/output3/val/lateral raise/lateral_raise_34.mp4  \n",
            "  inflating: ./p5/content/output3/val/lateral raise/lateral_raise_32.mp4  \n"
          ]
        }
      ],
      "source": [
        "!unzip '/content/v2_part2.zip' -d './p5'"
      ]
    },
    {
      "cell_type": "code",
      "execution_count": null,
      "metadata": {
        "id": "hIx3-BsSLJcD"
      },
      "outputs": [],
      "source": [
        "import os\n",
        "import shutil\n",
        "import random\n",
        "\n",
        "# Define the base paths for the test and val directories\n",
        "base_test_path = '/content/p4/content/addDataAfterYolo'\n",
        "base_val_path = '/content/p5/content/output3/train'\n",
        "base_additional_path = '/content/p5/content/output3/val'\n",
        "\n",
        "# Get a list of class folders in the test directory\n",
        "class_folders = os.listdir(base_test_path)\n",
        "\n",
        "# Iterate over each class folder\n",
        "for class_folder in class_folders:\n",
        "    test_class_path = os.path.join(base_test_path, class_folder)\n",
        "    val_class_path = os.path.join(base_val_path, class_folder)\n",
        "    additional_class_path = os.path.join(base_additional_path, class_folder)\n",
        "\n",
        "    # Ensure the corresponding folders in val and additional exist, if not, create them\n",
        "    if not os.path.exists(val_class_path):\n",
        "        os.makedirs(val_class_path)\n",
        "    if not os.path.exists(additional_class_path):\n",
        "        os.makedirs(additional_class_path)\n",
        "\n",
        "    # Get a list of video files in the test class folder\n",
        "    video_files = [file for file in os.listdir(test_class_path) if file.lower().endswith(('.mp4', '.mov', 'MOV'))]\n",
        "\n",
        "    # Calculate the number of files to move (70% to val)\n",
        "    num_files_to_move_val = int(len(video_files) * 0.7)\n",
        "    num_files_to_move_additional = len(video_files) - num_files_to_move_val\n",
        "\n",
        "    # Randomly select 70% of files to move to val and the rest to additional folder\n",
        "    files_to_move_val = random.sample(video_files, num_files_to_move_val)\n",
        "    files_to_move_additional = [file for file in video_files if file not in files_to_move_val]\n",
        "\n",
        "    # Move selected files from test to val class folder\n",
        "    for file in files_to_move_val:\n",
        "        src_file_path = os.path.join(test_class_path, file)\n",
        "        dest_file_path = os.path.join(val_class_path, file)\n",
        "        shutil.move(src_file_path, dest_file_path)\n",
        "        print(f\"Moved {file} from {test_class_path} to {val_class_path}\")\n",
        "\n",
        "    # Move selected files from test to additional class folder\n",
        "    for file in files_to_move_additional:\n",
        "        src_file_path = os.path.join(test_class_path, file)\n",
        "        dest_file_path = os.path.join(additional_class_path, file)\n",
        "        shutil.move(src_file_path, dest_file_path)\n",
        "        print(f\"Moved {file} from {test_class_path} to {additional_class_path}\")\n",
        "\n",
        "print(\"Video files have been moved.\")\n"
      ]
    },
    {
      "cell_type": "code",
      "execution_count": 20,
      "metadata": {
        "colab": {
          "base_uri": "https://localhost:8080/"
        },
        "id": "bbNo15PxRnMC",
        "outputId": "eb1868f3-2c2e-4085-8fd2-16f501407a56"
      },
      "outputs": [
        {
          "name": "stdout",
          "output_type": "stream",
          "text": [
            "/content/p5/content\n"
          ]
        }
      ],
      "source": [
        "cd '/content/p5/content'"
      ]
    },
    {
      "cell_type": "code",
      "execution_count": null,
      "metadata": {
        "id": "2x5E-ZWhRuF0"
      },
      "outputs": [],
      "source": []
    },
    {
      "cell_type": "code",
      "execution_count": 24,
      "metadata": {
        "colab": {
          "base_uri": "https://localhost:8080/"
        },
        "id": "vYznTlkN1gUq",
        "outputId": "11123d7f-f6a8-4953-a826-6754bc309341"
      },
      "outputs": [
        {
          "name": "stdout",
          "output_type": "stream",
          "text": [
            "  adding: output3/ (stored 0%)\n",
            "  adding: output3/val/ (stored 0%)\n",
            "  adding: output3/val/shoulder press/ (stored 0%)\n",
            "  adding: output3/val/shoulder press/shoulder_press_14.mp4 (deflated 1%)\n",
            "  adding: output3/val/shoulder press/shoulder_press_31.mp4 (deflated 0%)\n",
            "  adding: output3/val/shoulder press/shoulder_press_10009.mp4 (deflated 0%)\n",
            "  adding: output3/val/shoulder press/shoulder_press_15.mp4 (deflated 0%)\n",
            "  adding: output3/val/shoulder press/shoulder_press_10006.mp4 (deflated 0%)\n",
            "  adding: output3/val/shoulder press/shoulder_press_100014.mp4 (deflated 1%)\n",
            "  adding: output3/val/shoulder press/shoulder_press_33.mp4 (deflated 0%)\n",
            "  adding: output3/val/shoulder press/shoulder_press_100016.mp4 (deflated 1%)\n",
            "  adding: output3/val/shoulder press/shoulder_press_10007.mp4 (deflated 0%)\n",
            "  adding: output3/val/shoulder press/shoulder_press_17.mp4 (deflated 1%)\n",
            "  adding: output3/val/shoulder press/shoulder_press_16.mp4 (deflated 1%)\n",
            "  adding: output3/val/shoulder press/shoulder_press_32.mp4 (deflated 0%)\n",
            "  adding: output3/val/shoulder press/shoulder_press_100018.mp4 (deflated 1%)\n",
            "  adding: output3/val/leg raises/ (stored 0%)\n",
            "  adding: output3/val/leg raises/leg_raise_100018.mp4 (deflated 2%)\n",
            "  adding: output3/val/leg raises/leg_raises_32.mp4 (deflated 1%)\n",
            "  adding: output3/val/leg raises/leg_raises_test_1.mp4 (deflated 1%)\n",
            "  adding: output3/val/leg raises/Video 24-03-2024, 17 20 50 - Trim.mp4 (deflated 1%)\n",
            "  adding: output3/val/leg raises/leg_raise_10008.mp4 (deflated 1%)\n",
            "  adding: output3/val/leg raises/leg_raise_100010.mp4 (deflated 1%)\n",
            "  adding: output3/val/leg raises/leg_raises_18.mp4 (deflated 1%)\n",
            "  adding: output3/val/leg raises/leg_raise_10003.mp4 (deflated 1%)\n",
            "  adding: output3/val/leg raises/leg_raises_31.mp4 (deflated 0%)\n",
            "  adding: output3/val/leg raises/leg_raises_19.mp4 (deflated 1%)\n",
            "  adding: output3/val/leg raises/leg_raises_20.mp4 (deflated 1%)\n",
            "  adding: output3/val/leg raises/leg_raise_100014.mp4 (deflated 1%)\n",
            "  adding: output3/val/leg raises/Video 24-03-2024, 17 18 33 - Trim.mp4 (deflated 1%)\n",
            "  adding: output3/val/leg raises/leg_raises_21.mp4 (deflated 1%)\n",
            "  adding: output3/val/pull up/ (stored 0%)\n",
            "  adding: output3/val/pull up/pull_up_10003.mp4 (deflated 0%)\n",
            "  adding: output3/val/pull up/pull_up_10004.mp4 (deflated 2%)\n",
            "  adding: output3/val/pull up/pull_up_22.mp4 (deflated 0%)\n",
            "  adding: output3/val/pull up/pull_up_23.mp4 (deflated 1%)\n",
            "  adding: output3/val/pull up/pull_up_10009.mp4 (deflated 1%)\n",
            "  adding: output3/val/pull up/pull_up_26.mp4 (deflated 2%)\n",
            "  adding: output3/val/pull up/pull_up_34.mp4 (deflated 1%)\n",
            "  adding: output3/val/pull up/pull_up_24.mp4 (deflated 0%)\n",
            "  adding: output3/val/pull up/pull_up_10002.mp4 (deflated 0%)\n",
            "  adding: output3/val/pull up/pull_up_25.mp4 (deflated 1%)\n",
            "  adding: output3/val/dbp/ (stored 0%)\n",
            "  adding: output3/val/dbp/decline_bench_press_100014.mp4 (deflated 0%)\n",
            "  adding: output3/val/dbp/dbp_test_1.mp4 (deflated 1%)\n",
            "  adding: output3/val/dbp/decline_bench_press_100010.mp4 (deflated 0%)\n",
            "  adding: output3/val/dbp/dbp_12.mp4 (deflated 1%)\n",
            "  adding: output3/val/dbp/dbp_11.mp4 (deflated 0%)\n",
            "  adding: output3/val/dbp/decline_bench_press_100015.mp4 (deflated 1%)\n",
            "  adding: output3/val/dbp/dbp_118.mp4 (deflated 0%)\n",
            "  adding: output3/val/dbp/decline_bench_press_100013.mp4 (deflated 1%)\n",
            "  adding: output3/val/dbp/decline_bench_press_10002.mp4 (deflated 0%)\n",
            "  adding: output3/val/dbp/decline_bench_press_10004.mp4 (deflated 1%)\n",
            "  adding: output3/val/dbp/dbp_117.mp4 (deflated 0%)\n",
            "  adding: output3/val/dbp/dbp_116.mp4 (deflated 0%)\n",
            "  adding: output3/val/chest fly machine/ (stored 0%)\n",
            "  adding: output3/val/chest fly machine/chest_fly_machine_24.mp4 (deflated 1%)\n",
            "  adding: output3/val/chest fly machine/chest_fly_machine_28.mp4 (deflated 1%)\n",
            "  adding: output3/val/chest fly machine/chest_fly_machine_10007.mp4 (deflated 1%)\n",
            "  adding: output3/val/chest fly machine/chest_fly_machine_23.mp4 (deflated 1%)\n",
            "  adding: output3/val/chest fly machine/chest_fly_machine_105.mp4 (deflated 1%)\n",
            "  adding: output3/val/chest fly machine/chest_fly_machine_10001.mp4 (deflated 1%)\n",
            "  adding: output3/val/chest fly machine/chest_fly_machine_10012.mp4 (deflated 1%)\n",
            "  adding: output3/val/chest fly machine/chest_fly_machine_25.mp4 (deflated 1%)\n",
            "  adding: output3/val/chest fly machine/chest_fly_machine_10009.mp4 (deflated 1%)\n",
            "  adding: output3/val/chest fly machine/chest_fly_machine_26.mp4 (deflated 1%)\n",
            "  adding: output3/val/chest fly machine/chest_fly_machine_10002.mp4 (deflated 2%)\n",
            "  adding: output3/val/chest fly machine/chest_fly_machine_27.mp4 (deflated 1%)\n",
            "  adding: output3/val/chest fly machine/chest_fly_machine_10004.mp4 (deflated 0%)\n",
            "  adding: output3/val/.ipynb_checkpoints/ (stored 0%)\n",
            "  adding: output3/val/lateral raise/ (stored 0%)\n",
            "  adding: output3/val/lateral raise/lateral_raise_33.mp4 (deflated 1%)\n",
            "  adding: output3/val/lateral raise/lateral_raise_37.mp4 (deflated 1%)\n",
            "  adding: output3/val/lateral raise/사이드레터럴레이즈ㅡ김명섭과 함께하는 옆어깨 사레레!어깨가 약하다면 반드시 해야하는 운동 - Trim.mp4 (deflated 1%)\n",
            "  adding: output3/val/lateral raise/lateral_raise_35.mp4 (deflated 1%)\n",
            "  adding: output3/val/lateral raise/lateral_raise_34.mp4 (deflated 1%)\n",
            "  adding: output3/val/lateral raise/lateral_raise_32.mp4 (deflated 1%)\n",
            "  adding: output3/val/lateral raise/サイドレイズで三角筋中部に効かない原因を改善して効果的に鍛えるやり方＆フォームの練習法を解説【脱初心者】 - Trim.mp4 (deflated 1%)\n",
            "  adding: output3/val/lateral raise/lateral_raise_31.mp4 (deflated 1%)\n",
            "  adding: output3/val/lateral raise/lateral_raise_36.mp4 (deflated 1%)\n",
            "  adding: output3/val/tricep pushdown/ (stored 0%)\n",
            "  adding: output3/val/tricep pushdown/tricep_pushdown_43.mp4 (deflated 0%)\n",
            "  adding: output3/val/tricep pushdown/tricep_pushdown_45.mp4 (deflated 0%)\n",
            "  adding: output3/val/tricep pushdown/tricep_pushdown_47.mp4 (deflated 1%)\n",
            "  adding: output3/val/tricep pushdown/tricep_pushdown_41.mp4 (deflated 0%)\n",
            "  adding: output3/val/tricep pushdown/tricep_pushdown_49.mp4 (deflated 0%)\n",
            "  adding: output3/val/tricep pushdown/tricep_pushdown_50.mp4 (deflated 0%)\n",
            "  adding: output3/val/tricep pushdown/tricep_pushdown_112.mp4 (deflated 1%)\n",
            "  adding: output3/val/tricep pushdown/tricep_pushdown_46.mp4 (deflated 0%)\n",
            "  adding: output3/val/tricep pushdown/tricep_pushdown_42.mp4 (deflated 0%)\n",
            "  adding: output3/val/tricep pushdown/tricep_pushdown_44.mp4 (deflated 0%)\n",
            "  adding: output3/val/tricep pushdown/tricep_pushdown_48.mp4 (deflated 0%)\n",
            "  adding: output3/val/tricep pushdown/tricep_pushdown_113.mp4 (deflated 0%)\n",
            "  adding: output3/val/barbell biceps curl/ (stored 0%)\n",
            "  adding: output3/val/barbell biceps curl/barbell_biceps_curl_57.mp4 (deflated 0%)\n",
            "  adding: output3/val/barbell biceps curl/barbell_biceps_curl_59.mp4 (deflated 0%)\n",
            "  adding: output3/val/barbell biceps curl/barbell_biceps_curl_51.mp4 (deflated 0%)\n",
            "  adding: output3/val/barbell biceps curl/barbell_biceps_curl_53.mp4 (deflated 0%)\n",
            "  adding: output3/val/barbell biceps curl/barbell_biceps_curl_58.mp4 (deflated 1%)\n",
            "  adding: output3/val/barbell biceps curl/barbell_biceps_curl_62.mp4 (deflated 1%)\n",
            "  adding: output3/val/barbell biceps curl/barbell_biceps_curl_60.mp4 (deflated 0%)\n",
            "  adding: output3/val/barbell biceps curl/barbell_biceps_curl_61.mp4 (deflated 1%)\n",
            "  adding: output3/val/barbell biceps curl/barbell_biceps_curl_56.mp4 (deflated 0%)\n",
            "  adding: output3/val/barbell biceps curl/barbell_biceps_curl_54.mp4 (deflated 0%)\n",
            "  adding: output3/val/barbell biceps curl/barbell_biceps_curl_55.mp4 (deflated 0%)\n",
            "  adding: output3/val/barbell biceps curl/barbell_biceps_curl_52.mp4 (deflated 0%)\n",
            "  adding: output3/val/lat pulldown/ (stored 0%)\n",
            "  adding: output3/val/lat pulldown/lat_pulldown_47.mp4 (deflated 1%)\n",
            "  adding: output3/val/lat pulldown/lat_pulldown_48.mp4 (deflated 0%)\n",
            "  adding: output3/val/lat pulldown/lat_pulldown_42.mp4 (deflated 1%)\n",
            "  adding: output3/val/lat pulldown/lat_pulldown_43.mp4 (deflated 1%)\n",
            "  adding: output3/val/lat pulldown/lat_pulldown_51.mp4 (deflated 1%)\n",
            "  adding: output3/val/lat pulldown/lat_pulldown_50.mp4 (deflated 1%)\n",
            "  adding: output3/val/lat pulldown/lat_pulldown_49.mp4 (deflated 1%)\n",
            "  adding: output3/val/lat pulldown/lat_pulldown_45.mp4 (deflated 1%)\n",
            "  adding: output3/val/lat pulldown/lat_pulldown_46.mp4 (deflated 1%)\n",
            "  adding: output3/val/lat pulldown/lat_pulldown_44.mp4 (deflated 1%)\n",
            "  adding: output3/val/romanian deadlift/ (stored 0%)\n",
            "  adding: output3/val/romanian deadlift/romanian_deadlift_27.mp4 (deflated 1%)\n",
            "  adding: output3/val/romanian deadlift/romanian_deadlift_28.mp4 (deflated 0%)\n",
            "  adding: output3/val/romanian deadlift/romanian_deadlift_10006.mp4 (deflated 0%)\n",
            "  adding: output3/val/romanian deadlift/romanian_deadlift_10007.mp4 (deflated 1%)\n",
            "  adding: output3/val/romanian deadlift/romanian_deadlift_10002.mp4 (deflated 1%)\n",
            "  adding: output3/val/romanian deadlift/romanian_deadlift_14.mp4 (deflated 1%)\n",
            "  adding: output3/val/romanian deadlift/romanian_deadlift_12.mp4 (deflated 0%)\n",
            "  adding: output3/val/romanian deadlift/romanian_deadlift_13.mp4 (deflated 1%)\n",
            "  adding: output3/val/incline bench press/ (stored 0%)\n",
            "  adding: output3/val/incline bench press/incline_bench_press_32.mp4 (deflated 0%)\n",
            "  adding: output3/val/incline bench press/incline_bench_press_27.mp4 (deflated 0%)\n",
            "  adding: output3/val/incline bench press/incline_bench_press_28.mp4 (deflated 0%)\n",
            "  adding: output3/val/incline bench press/incline_bench_press_33.mp4 (deflated 1%)\n",
            "  adding: output3/val/incline bench press/incline_bench_press_31.mp4 (deflated 0%)\n",
            "  adding: output3/val/incline bench press/2024-03-26 06-35-05 - Trim.mp4 (deflated 1%)\n",
            "  adding: output3/val/incline bench press/incline_bench_press_29.mp4 (deflated 0%)\n",
            "  adding: output3/val/incline bench press/incline_bench_press_30.mp4 (deflated 0%)\n",
            "  adding: output3/val/bench press/ (stored 0%)\n",
            "  adding: output3/val/bench press/bench_press_61.mp4 (deflated 1%)\n",
            "  adding: output3/val/bench press/bench_press_57.mp4 (deflated 0%)\n",
            "  adding: output3/val/bench press/bench_press_56.mp4 (deflated 1%)\n",
            "  adding: output3/val/bench press/bench_press_59.mp4 (deflated 0%)\n",
            "  adding: output3/val/bench press/bench_press_54.mp4 (deflated 0%)\n",
            "  adding: output3/val/bench press/bench_press_51.mp4 (deflated 0%)\n",
            "  adding: output3/val/bench press/bench_press_55.mp4 (deflated 1%)\n",
            "  adding: output3/val/bench press/bench_press_52.mp4 (deflated 1%)\n",
            "  adding: output3/val/bench press/bench_press_50.mp4 (deflated 0%)\n",
            "  adding: output3/val/bench press/bench_press_58.mp4 (deflated 1%)\n",
            "  adding: output3/val/bench press/bench_press_53.mp4 (deflated 0%)\n",
            "  adding: output3/val/bench press/bench_press_60.mp4 (deflated 0%)\n",
            "  adding: output3/val/plank/ (stored 0%)\n",
            "  adding: output3/val/plank/plank_10004.mp4 (deflated 0%)\n",
            "  adding: output3/val/plank/plank_208.mp4 (deflated 1%)\n",
            "  adding: output3/val/plank/plank_10006.mp4 (deflated 0%)\n",
            "  adding: output3/val/plank/plank_100026.mp4 (deflated 0%)\n",
            "  adding: output3/val/plank/plank_10005.mp4 (deflated 0%)\n",
            "  adding: output3/val/plank/plank_100015.mp4 (deflated 0%)\n",
            "  adding: output3/val/plank/plank_100022.mp4 (deflated 0%)\n",
            "  adding: output3/val/plank/plank_100021.mp4 (deflated 0%)\n",
            "  adding: output3/val/plank/plank_209.mp4 (deflated 1%)\n",
            "  adding: output3/val/plank/plank_100020.mp4 (deflated 0%)\n",
            "  adding: output3/val/plank/plank_207.mp4 (deflated 0%)\n",
            "  adding: output3/val/plank/plank_7.mp4 (deflated 0%)\n",
            "  adding: output3/val/plank/plank_214.mp4 (deflated 0%)\n",
            "  adding: output3/val/plank/plank_10002.mp4 (deflated 3%)\n",
            "  adding: output3/val/plank/plank_10001.mp4 (deflated 4%)\n",
            "  adding: output3/val/plank/plank_100023.mp4 (deflated 0%)\n",
            "  adding: output3/val/plank/plank_6.mp4 (deflated 0%)\n",
            "  adding: output3/val/plank/plank_test_1.mp4 (deflated 0%)\n",
            "  adding: output3/val/plank/plank_100035.mp4 (deflated 0%)\n",
            "  adding: output3/val/squat/ (stored 0%)\n",
            "  adding: output3/val/squat/squat_26.mp4 (deflated 1%)\n",
            "  adding: output3/val/squat/squat_24.mp4 (deflated 0%)\n",
            "  adding: output3/val/squat/squat_134.mp4 (deflated 0%)\n",
            "  adding: output3/val/squat/squat_29.mp4 (deflated 1%)\n",
            "  adding: output3/val/squat/squat_28.mp4 (deflated 1%)\n",
            "  adding: output3/val/squat/squat_133.mp4 (deflated 0%)\n",
            "  adding: output3/val/squat/squat_27.mp4 (deflated 0%)\n",
            "  adding: output3/val/squat/squat_131.mp4 (deflated 0%)\n",
            "  adding: output3/val/squat/squat_test_1.mp4 (deflated 1%)\n",
            "  adding: output3/val/squat/squat_130.mp4 (deflated 0%)\n",
            "  adding: output3/val/squat/squat_132.mp4 (deflated 0%)\n",
            "  adding: output3/val/squat/squat_25.mp4 (deflated 1%)\n",
            "  adding: output3/val/squat/squat_129.mp4 (deflated 0%)\n",
            "  adding: output3/val/t bar row/ (stored 0%)\n",
            "  adding: output3/val/t bar row/t_bar_row_100014.mp4 (deflated 0%)\n",
            "  adding: output3/val/t bar row/t_bar_row_10007.mp4 (deflated 1%)\n",
            "  adding: output3/val/t bar row/t_bar_row_21.mp4 (deflated 1%)\n",
            "  adding: output3/val/t bar row/t_bar_row_19.mp4 (deflated 1%)\n",
            "  adding: output3/val/t bar row/t_bar_row_20.mp4 (deflated 0%)\n",
            "  adding: output3/val/t bar row/t_bar_row_18.mp4 (deflated 1%)\n",
            "  adding: output3/val/t bar row/t_bar_row_100013.mp4 (deflated 0%)\n",
            "  adding: output3/val/t bar row/t_bar_row_35.mp4 (deflated 1%)\n",
            "  adding: output3/val/t bar row/t_bar_row_37.mp4 (deflated 2%)\n",
            "  adding: output3/val/t bar row/t_bar_row_10004.mp4 (deflated 0%)\n",
            "  adding: output3/val/t bar row/t_bar_row_10005.mp4 (deflated 1%)\n",
            "  adding: output3/val/t bar row/t_bar_row_36.mp4 (deflated 1%)\n",
            "  adding: output3/val/russian twist/ (stored 0%)\n",
            "  adding: output3/val/russian twist/russian_twist_27.mp4 (deflated 0%)\n",
            "  adding: output3/val/russian twist/russian_twist_10003.mp4 (deflated 0%)\n",
            "  adding: output3/val/russian twist/russian_twist_13.mp4 (deflated 0%)\n",
            "  adding: output3/val/russian twist/russian_twist_100017.mp4 (deflated 0%)\n",
            "  adding: output3/val/russian twist/russian_twist_test_1.mp4 (deflated 1%)\n",
            "  adding: output3/val/russian twist/russian_twist_12.mp4 (deflated 1%)\n",
            "  adding: output3/val/russian twist/russian_twist_test_2.mp4 (deflated 1%)\n",
            "  adding: output3/val/russian twist/russian_twist_100013.mp4 (deflated 1%)\n",
            "  adding: output3/val/russian twist/russian_twist_100021.mp4 (deflated 0%)\n",
            "  adding: output3/val/russian twist/russian_twist_26.mp4 (deflated 1%)\n",
            "  adding: output3/val/russian twist/russian_twist_10002.mp4 (deflated 0%)\n",
            "  adding: output3/val/russian twist/russian_twist_10009.mp4 (deflated 1%)\n",
            "  adding: output3/val/russian twist/russian_twist_100018.mp4 (deflated 0%)\n",
            "  adding: output3/val/russian twist/russian_twist_28.mp4 (deflated 0%)\n",
            "  adding: output3/val/russian twist/russian_twist_11.mp4 (deflated 0%)\n",
            "  adding: output3/val/tricep dips/ (stored 0%)\n",
            "  adding: output3/val/tricep dips/tricep_dips_17.mp4 (deflated 1%)\n",
            "  adding: output3/val/tricep dips/tricep_dips_18.mp4 (deflated 1%)\n",
            "  adding: output3/val/tricep dips/tricep_dips_60.mp4 (deflated 0%)\n",
            "  adding: output3/val/tricep dips/tricep_dips_19.mp4 (deflated 1%)\n",
            "  adding: output3/val/tricep dips/tricep_dips_20.mp4 (deflated 0%)\n",
            "  adding: output3/val/tricep dips/tricep_dips_55.mp4 (deflated 0%)\n",
            "  adding: output3/val/tricep dips/tricep_dips_58.mp4 (deflated 0%)\n",
            "  adding: output3/val/tricep dips/tricep_dips_54.mp4 (deflated 0%)\n",
            "  adding: output3/val/tricep dips/tricep_dips_59.mp4 (deflated 0%)\n",
            "  adding: output3/val/tricep dips/tricep_dips_57.mp4 (deflated 0%)\n",
            "  adding: output3/val/tricep dips/tricep_dips_201.mp4 (deflated 1%)\n",
            "  adding: output3/val/tricep dips/tricep_dips_56.mp4 (deflated 1%)\n",
            "  adding: output3/val/hip thrust/ (stored 0%)\n",
            "  adding: output3/val/hip thrust/hip_thrust_16.mp4 (deflated 0%)\n",
            "  adding: output3/val/hip thrust/hip_thrust_18.mp4 (deflated 0%)\n",
            "  adding: output3/val/hip thrust/hip_thrust_112.mp4 (deflated 0%)\n",
            "  adding: output3/val/hip thrust/hip_thrust_201.mp4 (deflated 0%)\n",
            "  adding: output3/val/hip thrust/hip_thrust_15.mp4 (deflated 0%)\n",
            "  adding: output3/val/hip thrust/hip_thrust_17.mp4 (deflated 0%)\n",
            "  adding: output3/val/hip thrust/hip_thrust_test_1.mp4 (deflated 0%)\n",
            "  adding: output3/val/push-up/ (stored 0%)\n",
            "  adding: output3/val/push-up/push-up_56.mp4 (deflated 0%)\n",
            "  adding: output3/val/push-up/push-up_46.mp4 (deflated 0%)\n",
            "  adding: output3/val/push-up/push-up_53.mp4 (deflated 1%)\n",
            "  adding: output3/val/push-up/push-up_test_1.mp4 (deflated 1%)\n",
            "  adding: output3/val/push-up/push-up_55.mp4 (deflated 1%)\n",
            "  adding: output3/val/push-up/push-up_52.mp4 (deflated 0%)\n",
            "  adding: output3/val/push-up/push-up_50.mp4 (deflated 1%)\n",
            "  adding: output3/val/push-up/push-up_54.mp4 (deflated 1%)\n",
            "  adding: output3/val/push-up/push-up_110.mp4 (deflated 0%)\n",
            "  adding: output3/val/push-up/push-up_49.mp4 (deflated 0%)\n",
            "  adding: output3/val/push-up/push-up_test_2.mp4 (deflated 1%)\n",
            "  adding: output3/val/push-up/push-up_109.mp4 (deflated 0%)\n",
            "  adding: output3/val/push-up/push-up_48.mp4 (deflated 0%)\n",
            "  adding: output3/val/push-up/push-up_47.mp4 (deflated 0%)\n",
            "  adding: output3/val/push-up/push-up_51.mp4 (deflated 1%)\n",
            "  adding: output3/val/hammer curl/ (stored 0%)\n",
            "  adding: output3/val/hammer curl/hammer_curl_16.mp4 (deflated 0%)\n",
            "  adding: output3/val/hammer curl/防止老年人肌肉流失的力量训练哑铃锤式弯举_哔哩哔哩_bilibili - Trim.mp4 (deflated 1%)\n",
            "  adding: output3/val/hammer curl/恶魔斯大臂不动锤式弯举40kg x 21 次代表 谁能做得更多_哔哩哔哩_bilibili.mp4 (deflated 1%)\n",
            "  adding: output3/val/hammer curl/hammer_curl_18.mp4 (deflated 0%)\n",
            "  adding: output3/val/hammer curl/hammer_curl_118.mp4 (deflated 1%)\n",
            "  adding: output3/val/hammer curl/hammer_curl_17.mp4 (deflated 0%)\n",
            "  adding: output3/val/hammer curl/hammer_curl_117.mp4 (deflated 0%)\n",
            "  adding: output3/val/hammer curl/哑铃锤式弯举的常见错误你中招了吗_哔哩哔哩_bilibili.mp4 (deflated 2%)\n",
            "  adding: output3/val/hammer curl/hammer_curl_test_2.mp4 (deflated 0%)\n",
            "  adding: output3/val/hammer curl/hammer_curl_116.mp4 (deflated 1%)\n",
            "  adding: output3/val/hammer curl/hammer_curl_19.mp4 (deflated 0%)\n",
            "  adding: output3/val/hammer curl/DB hammer curl哑铃锤式弯举_哔哩哔哩_bilibili.mp4 (deflated 1%)\n",
            "  adding: output3/val/hammer curl/hammer_curl_test_1.mp4 (deflated 0%)\n",
            "  adding: output3/val/deadlift/ (stored 0%)\n",
            "  adding: output3/val/deadlift/deadlift_100017.mp4 (deflated 1%)\n",
            "  adding: output3/val/deadlift/deadlift_31.mp4 (deflated 1%)\n",
            "  adding: output3/val/deadlift/deadlift_32.mp4 (deflated 1%)\n",
            "  adding: output3/val/deadlift/deadlift_30.mp4 (deflated 1%)\n",
            "  adding: output3/val/deadlift/deadlift_10002.mp4 (deflated 0%)\n",
            "  adding: output3/val/deadlift/deadlift_27.mp4 (deflated 1%)\n",
            "  adding: output3/val/deadlift/deadlift_28.mp4 (deflated 1%)\n",
            "  adding: output3/val/deadlift/deadlift_100016.mp4 (deflated 1%)\n",
            "  adding: output3/val/deadlift/deadlift_100019.mp4 (deflated 0%)\n",
            "  adding: output3/val/deadlift/deadlift_100014.mp4 (deflated 0%)\n",
            "  adding: output3/val/deadlift/deadlift_29.mp4 (deflated 1%)\n",
            "  adding: output3/val/leg extension/ (stored 0%)\n",
            "  adding: output3/val/leg extension/leg_extension_21.mp4 (deflated 0%)\n",
            "  adding: output3/val/leg extension/2024-03-25 21-24-24 - Trim.mp4 (deflated 1%)\n",
            "  adding: output3/val/leg extension/leg_extension_24.mp4 (deflated 1%)\n",
            "  adding: output3/val/leg extension/leg_extension_32.mp4 (deflated 0%)\n",
            "  adding: output3/val/leg extension/leg_extension_25.mp4 (deflated 0%)\n",
            "  adding: output3/val/leg extension/leg_extension_23.mp4 (deflated 0%)\n",
            "  adding: output3/val/leg extension/leg_extension_22.mp4 (deflated 0%)\n",
            "  adding: output3/val/leg extension/Fitness fuerza excéntrica_ extension de cuadriceps en excéntrico.mp4 (deflated 0%)\n",
            "  adding: output3/val/hip thurst/ (stored 0%)\n",
            "  adding: output3/val/hip thurst/hip_thrust_10007.mp4 (deflated 0%)\n",
            "  adding: output3/val/hip thurst/hip_thrust_10006.mp4 (deflated 0%)\n",
            "  adding: output3/val/hip thurst/hip_thrust_10001.mp4 (deflated 1%)\n",
            "  adding: output3/train/ (stored 0%)\n",
            "  adding: output3/train/shoulder press/ (stored 0%)\n",
            "  adding: output3/train/shoulder press/shoulder_press_30.mp4 (deflated 0%)\n",
            "  adding: output3/train/shoulder press/shoulder_press_10001.mp4 (deflated 0%)\n",
            "  adding: output3/train/shoulder press/shoulder_press_4.mp4 (deflated 0%)\n",
            "  adding: output3/train/shoulder press/shoulder_press_8.mp4 (deflated 1%)\n",
            "  adding: output3/train/shoulder press/shoulder_press_100012.mp4 (deflated 0%)\n",
            "  adding: output3/train/shoulder press/shoulder_press_20.mp4 (deflated 1%)\n",
            "  adding: output3/train/shoulder press/shoulder_press_10003.mp4 (deflated 0%)\n",
            "  adding: output3/train/shoulder press/shoulder_press_29.mp4 (deflated 0%)\n",
            "  adding: output3/train/shoulder press/shoulder_press_10002.mp4 (deflated 0%)\n",
            "  adding: output3/train/shoulder press/shoulder_press_22.mp4 (deflated 1%)\n",
            "  adding: output3/train/shoulder press/shoulder_press_7.mp4 (deflated 1%)\n",
            "  adding: output3/train/shoulder press/shoulder_press_19.mp4 (deflated 0%)\n",
            "  adding: output3/train/shoulder press/shoulder_press_10004.mp4 (deflated 0%)\n",
            "  adding: output3/train/shoulder press/shoulder_press_100013.mp4 (deflated 1%)\n",
            "  adding: output3/train/shoulder press/shoulder_press_25.mp4 (deflated 1%)\n",
            "  adding: output3/train/shoulder press/shoulder_press_28.mp4 (deflated 1%)\n",
            "  adding: output3/train/shoulder press/shoulder_press_10.mp4 (deflated 0%)\n",
            "  adding: output3/train/shoulder press/shoulder_press_5.mp4 (deflated 1%)\n",
            "  adding: output3/train/shoulder press/shoulder_press_21.mp4 (deflated 1%)\n",
            "  adding: output3/train/shoulder press/shoulder_press_100017.mp4 (deflated 1%)\n",
            "  adding: output3/train/shoulder press/shoulder_press_2.mp4 (deflated 0%)\n",
            "  adding: output3/train/shoulder press/shoulder_press_6.mp4 (deflated 1%)\n",
            "  adding: output3/train/shoulder press/shoulder_press_1.mp4 (deflated 0%)\n",
            "  adding: output3/train/shoulder press/shoulder_press_27.mp4 (deflated 1%)\n",
            "  adding: output3/train/shoulder press/shoulder_press_100015.mp4 (deflated 1%)\n",
            "  adding: output3/train/shoulder press/shoulder_press_11.mp4 (deflated 1%)\n",
            "  adding: output3/train/shoulder press/shoulder_press_9.mp4 (deflated 1%)\n",
            "  adding: output3/train/shoulder press/shoulder_press_100011.mp4 (deflated 0%)\n",
            "  adding: output3/train/shoulder press/shoulder_press_100010.mp4 (deflated 0%)\n",
            "  adding: output3/train/shoulder press/shoulder_press_26.mp4 (deflated 1%)\n",
            "  adding: output3/train/shoulder press/shoulder_press_3.mp4 (deflated 0%)\n",
            "  adding: output3/train/shoulder press/shoulder_press_23.mp4 (deflated 1%)\n",
            "  adding: output3/train/shoulder press/shoulder_press_24.mp4 (deflated 1%)\n",
            "  adding: output3/train/shoulder press/shoulder_press_12.mp4 (deflated 1%)\n",
            "  adding: output3/train/shoulder press/shoulder_press_13.mp4 (deflated 1%)\n",
            "  adding: output3/train/shoulder press/shoulder_press_18.mp4 (deflated 1%)\n",
            "  adding: output3/train/shoulder press/shoulder_press_10005.mp4 (deflated 0%)\n",
            "  adding: output3/train/shoulder press/shoulder_press_10008.mp4 (deflated 0%)\n",
            "  adding: output3/train/leg raises/ (stored 0%)\n",
            "  adding: output3/train/leg raises/leg_raises_29.mp4 (deflated 1%)\n",
            "  adding: output3/train/leg raises/leg_raises_13.mp4 (deflated 0%)\n",
            "  adding: output3/train/leg raises/leg_raise_10006.mp4 (deflated 1%)\n",
            "  adding: output3/train/leg raises/leg_raises_27.mp4 (deflated 0%)\n",
            "  adding: output3/train/leg raises/leg_raise_10004.mp4 (deflated 1%)\n",
            "  adding: output3/train/leg raises/leg_raises_2.mp4 (deflated 1%)\n",
            "  adding: output3/train/leg raises/leg_raises_15.mp4 (deflated 1%)\n",
            "  adding: output3/train/leg raises/leg_raise_100011.mp4 (deflated 1%)\n",
            "  adding: output3/train/leg raises/leg_raises_14.mp4 (deflated 0%)\n",
            "  adding: output3/train/leg raises/leg_raise_100015.mp4 (deflated 2%)\n",
            "  adding: output3/train/leg raises/leg_raises_7.mp4 (deflated 0%)\n",
            "  adding: output3/train/leg raises/leg_raises_26.mp4 (deflated 1%)\n",
            "  adding: output3/train/leg raises/leg_raises_1.mp4 (deflated 0%)\n",
            "  adding: output3/train/leg raises/Video 24-03-2024, 17 25 06 - Trim.mp4 (deflated 1%)\n",
            "  adding: output3/train/leg raises/leg_raises_8.mp4 (deflated 1%)\n",
            "  adding: output3/train/leg raises/leg_raise_100012.mp4 (deflated 0%)\n",
            "  adding: output3/train/leg raises/leg_raises_4.mp4 (deflated 1%)\n",
            "  adding: output3/train/leg raises/leg_raise_10007.mp4 (deflated 1%)\n",
            "  adding: output3/train/leg raises/leg_raise_100013.mp4 (deflated 0%)\n",
            "  adding: output3/train/leg raises/leg_raises_6.mp4 (deflated 0%)\n",
            "  adding: output3/train/leg raises/leg_raises_24.mp4 (deflated 1%)\n",
            "  adding: output3/train/leg raises/leg_raises_10.mp4 (deflated 0%)\n",
            "  adding: output3/train/leg raises/leg_raises_25.mp4 (deflated 1%)\n",
            "  adding: output3/train/leg raises/leg_raises_23.mp4 (deflated 1%)\n",
            "  adding: output3/train/leg raises/leg_raises_9.mp4 (deflated 0%)\n",
            "  adding: output3/train/leg raises/leg_raise_10009.mp4 (deflated 1%)\n",
            "  adding: output3/train/leg raises/leg_raises_11.mp4 (deflated 1%)\n",
            "  adding: output3/train/leg raises/leg_raises_17.mp4 (deflated 0%)\n",
            "  adding: output3/train/leg raises/leg_raise_10002.mp4 (deflated 1%)\n",
            "  adding: output3/train/leg raises/leg_raises_12.mp4 (deflated 0%)\n",
            "  adding: output3/train/leg raises/leg_raise_100016.mp4 (deflated 1%)\n",
            "  adding: output3/train/leg raises/leg_raises_5.mp4 (deflated 1%)\n",
            "  adding: output3/train/leg raises/leg_raises_3.mp4 (deflated 1%)\n",
            "  adding: output3/train/leg raises/leg_raises_28.mp4 (deflated 0%)\n",
            "  adding: output3/train/leg raises/leg_raise_100017.mp4 (deflated 1%)\n",
            "  adding: output3/train/leg raises/leg_raise_10005.mp4 (deflated 1%)\n",
            "  adding: output3/train/leg raises/leg_raises_16.mp4 (deflated 1%)\n",
            "  adding: output3/train/leg raises/leg_raise_10001.mp4 (deflated 0%)\n",
            "  adding: output3/train/leg raises/leg_raises_22.mp4 (deflated 1%)\n",
            "  adding: output3/train/leg raises/leg_raises_30.mp4 (deflated 1%)\n",
            "  adding: output3/train/pull up/ (stored 0%)\n",
            "  adding: output3/train/pull up/pull_up_1.mp4 (deflated 1%)\n",
            "  adding: output3/train/pull up/pull_up_21.mp4 (deflated 1%)\n",
            "  adding: output3/train/pull up/pull_up_14.mp4 (deflated 0%)\n",
            "  adding: output3/train/pull up/pull_up_19.mp4 (deflated 1%)\n",
            "  adding: output3/train/pull up/pull_up_10008.mp4 (deflated 0%)\n",
            "  adding: output3/train/pull up/pull_up_18.mp4 (deflated 1%)\n",
            "  adding: output3/train/pull up/pull_up_17.mp4 (deflated 2%)\n",
            "  adding: output3/train/pull up/pull_up_10.mp4 (deflated 1%)\n",
            "  adding: output3/train/pull up/pull_up_13.mp4 (deflated 0%)\n",
            "  adding: output3/train/pull up/pull_up_12.mp4 (deflated 1%)\n",
            "  adding: output3/train/pull up/pull_up_4.mp4 (deflated 1%)\n",
            "  adding: output3/train/pull up/pull_up_15.mp4 (deflated 1%)\n",
            "  adding: output3/train/pull up/pull_up_29.mp4 (deflated 0%)\n",
            "  adding: output3/train/pull up/pull_up_8.mp4 (deflated 1%)\n",
            "  adding: output3/train/pull up/pull_up_7.mp4 (deflated 1%)\n",
            "  adding: output3/train/pull up/pull_up_2.mp4 (deflated 1%)\n",
            "  adding: output3/train/pull up/Video 24-03-2024, 17 17 09 - Trim.mp4 (deflated 1%)\n",
            "  adding: output3/train/pull up/pull_up_6.mp4 (deflated 0%)\n",
            "  adding: output3/train/pull up/Video 24-03-2024, 17 16 01 - Trim.mp4 (deflated 1%)\n",
            "  adding: output3/train/pull up/pull_up_31.mp4 (deflated 1%)\n",
            "  adding: output3/train/pull up/pull_up_3.mp4 (deflated 1%)\n",
            "  adding: output3/train/pull up/pull_up_100010.mp4 (deflated 0%)\n",
            "  adding: output3/train/pull up/Video 24-03-2024, 17 15 23 - Trim.mp4 (deflated 1%)\n",
            "  adding: output3/train/pull up/pull_up_9.mp4 (deflated 1%)\n",
            "  adding: output3/train/pull up/pull_up_5.mp4 (deflated 0%)\n",
            "  adding: output3/train/pull up/pull_up_10006.mp4 (deflated 1%)\n",
            "  adding: output3/train/pull up/pull_up_30.mp4 (deflated 1%)\n",
            "  adding: output3/train/pull up/pull_up_20.mp4 (deflated 1%)\n",
            "  adding: output3/train/pull up/pull_up_10007.mp4 (deflated 1%)\n",
            "  adding: output3/train/pull up/pull_up_32.mp4 (deflated 1%)\n",
            "  adding: output3/train/pull up/pull_up_28.mp4 (deflated 1%)\n",
            "  adding: output3/train/pull up/pull_up_33.mp4 (deflated 0%)\n",
            "  adding: output3/train/pull up/pull_up_11.mp4 (deflated 1%)\n",
            "  adding: output3/train/pull up/pull_up_16.mp4 (deflated 1%)\n",
            "  adding: output3/train/pull up/pull_up_10005.mp4 (deflated 2%)\n",
            "  adding: output3/train/dbp/ (stored 0%)\n",
            "  adding: output3/train/dbp/decline_bench_press_10003.mp4 (deflated 0%)\n",
            "  adding: output3/train/dbp/dbp_106.mp4 (deflated 0%)\n",
            "  adding: output3/train/dbp/dbp_102.mp4 (deflated 0%)\n",
            "  adding: output3/train/dbp/dbp_107.mp4 (deflated 0%)\n",
            "  adding: output3/train/dbp/decline_bench_press_10005.mp4 (deflated 1%)\n",
            "  adding: output3/train/dbp/dbp_3.mp4 (deflated 1%)\n",
            "  adding: output3/train/dbp/dbp_8.mp4 (deflated 1%)\n",
            "  adding: output3/train/dbp/dbp_109.mp4 (deflated 2%)\n",
            "  adding: output3/train/dbp/dbp_108.mp4 (deflated 0%)\n",
            "  adding: output3/train/dbp/decline_bench_press_100019.mp4 (deflated 1%)\n",
            "  adding: output3/train/dbp/dbp_5.mp4 (deflated 0%)\n",
            "  adding: output3/train/dbp/dbp_112.mp4 (deflated 3%)\n",
            "  adding: output3/train/dbp/dbp_111.mp4 (deflated 0%)\n",
            "  adding: output3/train/dbp/dbp_101.mp4 (deflated 0%)\n",
            "  adding: output3/train/dbp/dbp_4.mp4 (deflated 0%)\n",
            "  adding: output3/train/dbp/dbp_103.mp4 (deflated 1%)\n",
            "  adding: output3/train/dbp/dbp_114.mp4 (deflated 0%)\n",
            "  adding: output3/train/dbp/dbp_110.mp4 (deflated 1%)\n",
            "  adding: output3/train/dbp/dbp_105.mp4 (deflated 1%)\n",
            "  adding: output3/train/dbp/decline_bench_press_10001.mp4 (deflated 1%)\n",
            "  adding: output3/train/dbp/dbp_2.mp4 (deflated 1%)\n",
            "  adding: output3/train/dbp/dbp_104.mp4 (deflated 0%)\n",
            "  adding: output3/train/dbp/decline_bench_press_100012.mp4 (deflated 1%)\n",
            "  adding: output3/train/dbp/decline_bench_press_10006.mp4 (deflated 0%)\n",
            "  adding: output3/train/dbp/decline_bench_press_10008.mp4 (deflated 0%)\n",
            "  adding: output3/train/dbp/dbp_6.mp4 (deflated 0%)\n",
            "  adding: output3/train/dbp/dbp_1.mp4 (deflated 1%)\n",
            "  adding: output3/train/dbp/decline_bench_press_100020.mp4 (deflated 1%)\n",
            "  adding: output3/train/dbp/dbp_7.mp4 (deflated 0%)\n",
            "  adding: output3/train/dbp/dbp_113.mp4 (deflated 0%)\n",
            "  adding: output3/train/dbp/decline_bench_press_100016.mp4 (deflated 0%)\n",
            "  adding: output3/train/dbp/dbp_10.mp4 (deflated 0%)\n",
            "  adding: output3/train/dbp/decline_bench_press_100011.mp4 (deflated 1%)\n",
            "  adding: output3/train/dbp/decline_bench_press_100017.mp4 (deflated 0%)\n",
            "  adding: output3/train/dbp/decline_bench_press_10009.mp4 (deflated 0%)\n",
            "  adding: output3/train/dbp/dbp_115.mp4 (deflated 1%)\n",
            "  adding: output3/train/dbp/dbp_9.mp4 (deflated 1%)\n",
            "  adding: output3/train/dbp/decline_bench_press_10007.mp4 (deflated 0%)\n",
            "  adding: output3/train/dbp/decline_bench_press_100018.mp4 (deflated 1%)\n",
            "  adding: output3/train/chest fly machine/ (stored 0%)\n",
            "  adding: output3/train/chest fly machine/chest_fly_machine_9.mp4 (deflated 0%)\n",
            "  adding: output3/train/chest fly machine/chest_fly_machine_101.mp4 (deflated 0%)\n",
            "  adding: output3/train/chest fly machine/chest_fly_machine_10005.mp4 (deflated 0%)\n",
            "  adding: output3/train/chest fly machine/chest_fly_machine_18.mp4 (deflated 1%)\n",
            "  adding: output3/train/chest fly machine/chest_fly_machine_21.mp4 (deflated 0%)\n",
            "  adding: output3/train/chest fly machine/chest_fly_machine_10013.mp4 (deflated 0%)\n",
            "  adding: output3/train/chest fly machine/chest_fly_machine_8.mp4 (deflated 0%)\n",
            "  adding: output3/train/chest fly machine/chest_fly_machine_12.mp4 (deflated 0%)\n",
            "  adding: output3/train/chest fly machine/chest_fly_machine_15.mp4 (deflated 1%)\n",
            "  adding: output3/train/chest fly machine/chest_fly_machine_10018.mp4 (deflated 1%)\n",
            "  adding: output3/train/chest fly machine/chest_fly_machine_17.mp4 (deflated 1%)\n",
            "  adding: output3/train/chest fly machine/chest_fly_machine_19.mp4 (deflated 0%)\n",
            "  adding: output3/train/chest fly machine/chest_fly_machine_11.mp4 (deflated 0%)\n",
            "  adding: output3/train/chest fly machine/chest_fly_machine_5.mp4 (deflated 1%)\n",
            "  adding: output3/train/chest fly machine/chest_fly_machine_7.mp4 (deflated 1%)\n",
            "  adding: output3/train/chest fly machine/chest_fly_machine_10006.mp4 (deflated 1%)\n",
            "  adding: output3/train/chest fly machine/chest_fly_machine_102.mp4 (deflated 1%)\n",
            "  adding: output3/train/chest fly machine/chest_fly_machine_4.mp4 (deflated 0%)\n",
            "  adding: output3/train/chest fly machine/chest_fly_machine_104.mp4 (deflated 1%)\n",
            "  adding: output3/train/chest fly machine/chest_fly_machine_14.mp4 (deflated 1%)\n",
            "  adding: output3/train/chest fly machine/chest_fly_machine_10017.mp4 (deflated 0%)\n",
            "  adding: output3/train/chest fly machine/chest_fly_machine_16.mp4 (deflated 0%)\n",
            "  adding: output3/train/chest fly machine/chest_fly_machine_3.mp4 (deflated 1%)\n",
            "  adding: output3/train/chest fly machine/chest_fly_machine_106.mp4 (deflated 0%)\n",
            "  adding: output3/train/chest fly machine/chest_fly_machine_22.mp4 (deflated 0%)\n",
            "  adding: output3/train/chest fly machine/chest_fly_machine_103.mp4 (deflated 0%)\n",
            "  adding: output3/train/chest fly machine/chest_fly_machine_2.mp4 (deflated 1%)\n",
            "  adding: output3/train/chest fly machine/chest_fly_machine_10015.mp4 (deflated 1%)\n",
            "  adding: output3/train/chest fly machine/chest_fly_machine_10003.mp4 (deflated 2%)\n",
            "  adding: output3/train/chest fly machine/chest_fly_machine_13.mp4 (deflated 0%)\n",
            "  adding: output3/train/chest fly machine/chest_fly_machine_10.mp4 (deflated 0%)\n",
            "  adding: output3/train/chest fly machine/chest_fly_machine_10010.mp4 (deflated 1%)\n",
            "  adding: output3/train/chest fly machine/chest_fly_machine_1.mp4 (deflated 1%)\n",
            "  adding: output3/train/chest fly machine/chest_fly_machine_20.mp4 (deflated 0%)\n",
            "  adding: output3/train/chest fly machine/chest_fly_machine_10011.mp4 (deflated 2%)\n",
            "  adding: output3/train/chest fly machine/chest_fly_machine_10014.mp4 (deflated 0%)\n",
            "  adding: output3/train/chest fly machine/chest_fly_machine_10016.mp4 (deflated 1%)\n",
            "  adding: output3/train/chest fly machine/chest_fly_machine_10019.mp4 (deflated 0%)\n",
            "  adding: output3/train/chest fly machine/chest_fly_machine_6.mp4 (deflated 1%)\n",
            "  adding: output3/train/chest fly machine/chest_fly_machine_10008.mp4 (deflated 1%)\n",
            "  adding: output3/train/.ipynb_checkpoints/ (stored 0%)\n",
            "  adding: output3/train/lateral raise/ (stored 0%)\n",
            "  adding: output3/train/lateral raise/lateral_raise_21.mp4 (deflated 0%)\n",
            "  adding: output3/train/lateral raise/lateral_raise_3.mp4 (deflated 0%)\n",
            "  adding: output3/train/lateral raise/lateral_raise_12.mp4 (deflated 0%)\n",
            "  adding: output3/train/lateral raise/lateral_raise_28.mp4 (deflated 0%)\n",
            "  adding: output3/train/lateral raise/lateral_raise_8.mp4 (deflated 0%)\n",
            "  adding: output3/train/lateral raise/lateral_raise_30.mp4 (deflated 0%)\n",
            "  adding: output3/train/lateral raise/lateral_raise_29.mp4 (deflated 0%)\n",
            "  adding: output3/train/lateral raise/lateral_raise_7.mp4 (deflated 0%)\n",
            "  adding: output3/train/lateral raise/lateral_raise_24.mp4 (deflated 0%)\n",
            "  adding: output3/train/lateral raise/哑铃侧平举正确做法全程无废话_哔哩哔哩_bilibili - Trim.mp4 (deflated 2%)\n",
            "  adding: output3/train/lateral raise/lateral_raise_14.mp4 (deflated 0%)\n",
            "  adding: output3/train/lateral raise/lateral_raise_18.mp4 (deflated 0%)\n",
            "  adding: output3/train/lateral raise/lateral_raise_2.mp4 (deflated 0%)\n",
            "  adding: output3/train/lateral raise/lateral_raise_19.mp4 (deflated 1%)\n",
            "  adding: output3/train/lateral raise/lateral_raise_22.mp4 (deflated 0%)\n",
            "  adding: output3/train/lateral raise/lateral_raise_27.mp4 (deflated 0%)\n",
            "  adding: output3/train/lateral raise/lateral_raise_6.mp4 (deflated 0%)\n",
            "  adding: output3/train/lateral raise/lateral_raise_17.mp4 (deflated 0%)\n",
            "  adding: output3/train/lateral raise/lateral_raise_4.mp4 (deflated 1%)\n",
            "  adding: output3/train/lateral raise/lateral_raise_5.mp4 (deflated 0%)\n",
            "  adding: output3/train/lateral raise/lateral_raise_20.mp4 (deflated 2%)\n",
            "  adding: output3/train/lateral raise/lateral_raise_25.mp4 (deflated 0%)\n",
            "  adding: output3/train/lateral raise/lateral_raise_1.mp4 (deflated 0%)\n",
            "  adding: output3/train/lateral raise/サイドレイズの正しいやり方｜肩の筋肉を効果的に鍛える - Trim.mp4 (deflated 1%)\n",
            "  adding: output3/train/lateral raise/lateral_raise_10.mp4 (deflated 0%)\n",
            "  adding: output3/train/lateral raise/lateral_raise_9.mp4 (deflated 0%)\n",
            "  adding: output3/train/lateral raise/lateral_raise_23.mp4 (deflated 0%)\n",
            "  adding: output3/train/lateral raise/lateral_raise_13.mp4 (deflated 0%)\n",
            "  adding: output3/train/lateral raise/lateral_raise_26.mp4 (deflated 0%)\n",
            "  adding: output3/train/lateral raise/lateral_raise_11.mp4 (deflated 0%)\n",
            "  adding: output3/train/lateral raise/lateral_raise_16.mp4 (deflated 1%)\n",
            "  adding: output3/train/lateral raise/lateral_raise_15.mp4 (deflated 0%)\n",
            "  adding: output3/train/tricep pushdown/ (stored 0%)\n",
            "  adding: output3/train/tricep pushdown/tricep_pushdown_15.mp4 (deflated 0%)\n",
            "  adding: output3/train/tricep pushdown/tricep_pushdown_14.mp4 (deflated 0%)\n",
            "  adding: output3/train/tricep pushdown/tricep_pushdown_37.mp4 (deflated 0%)\n",
            "  adding: output3/train/tricep pushdown/tricep_pushdown_9.mp4 (deflated 1%)\n",
            "  adding: output3/train/tricep pushdown/tricep_pushdown_17.mp4 (deflated 0%)\n",
            "  adding: output3/train/tricep pushdown/tricep_pushdown_105.mp4 (deflated 0%)\n",
            "  adding: output3/train/tricep pushdown/tricep_pushdown_36.mp4 (deflated 0%)\n",
            "  adding: output3/train/tricep pushdown/tricep_pushdown_12.mp4 (deflated 0%)\n",
            "  adding: output3/train/tricep pushdown/tricep_pushdown_4.mp4 (deflated 0%)\n",
            "  adding: output3/train/tricep pushdown/tricep_pushdown_7.mp4 (deflated 0%)\n",
            "  adding: output3/train/tricep pushdown/tricep_pushdown_28.mp4 (deflated 1%)\n",
            "  adding: output3/train/tricep pushdown/tricep_pushdown_13.mp4 (deflated 0%)\n",
            "  adding: output3/train/tricep pushdown/tricep_pushdown_10.mp4 (deflated 1%)\n",
            "  adding: output3/train/tricep pushdown/tricep_pushdown_16.mp4 (deflated 0%)\n",
            "  adding: output3/train/tricep pushdown/tricep_pushdown_30.mp4 (deflated 0%)\n",
            "  adding: output3/train/tricep pushdown/tricep_pushdown_22.mp4 (deflated 0%)\n",
            "  adding: output3/train/tricep pushdown/tricep_pushdown_103.mp4 (deflated 0%)\n",
            "  adding: output3/train/tricep pushdown/tricep_pushdown_32.mp4 (deflated 0%)\n",
            "  adding: output3/train/tricep pushdown/tricep_pushdown_23.mp4 (deflated 0%)\n",
            "  adding: output3/train/tricep pushdown/tricep_pushdown_31.mp4 (deflated 0%)\n",
            "  adding: output3/train/tricep pushdown/tricep_pushdown_106.mp4 (deflated 1%)\n",
            "  adding: output3/train/tricep pushdown/tricep_pushdown_33.mp4 (deflated 1%)\n",
            "  adding: output3/train/tricep pushdown/tricep_pushdown_26.mp4 (deflated 1%)\n",
            "  adding: output3/train/tricep pushdown/tricep_pushdown_29.mp4 (deflated 1%)\n",
            "  adding: output3/train/tricep pushdown/tricep_pushdown_102.mp4 (deflated 0%)\n",
            "  adding: output3/train/tricep pushdown/tricep_pushdown_5.mp4 (deflated 0%)\n",
            "  adding: output3/train/tricep pushdown/tricep_pushdown_11.mp4 (deflated 0%)\n",
            "  adding: output3/train/tricep pushdown/tricep_pushdown_6.mp4 (deflated 0%)\n",
            "  adding: output3/train/tricep pushdown/tricep_pushdown_38.mp4 (deflated 1%)\n",
            "  adding: output3/train/tricep pushdown/tricep_pushdown_1.mp4 (deflated 0%)\n",
            "  adding: output3/train/tricep pushdown/tricep_pushdown_101.mp4 (deflated 0%)\n",
            "  adding: output3/train/tricep pushdown/tricep_pushdown_25.mp4 (deflated 1%)\n",
            "  adding: output3/train/tricep pushdown/tricep_pushdown_20.mp4 (deflated 0%)\n",
            "  adding: output3/train/tricep pushdown/tricep_pushdown_2.mp4 (deflated 0%)\n",
            "  adding: output3/train/tricep pushdown/tricep_pushdown_18.mp4 (deflated 0%)\n",
            "  adding: output3/train/tricep pushdown/tricep_pushdown_110.mp4 (deflated 0%)\n",
            "  adding: output3/train/tricep pushdown/tricep_pushdown_8.mp4 (deflated 0%)\n",
            "  adding: output3/train/tricep pushdown/tricep_pushdown_35.mp4 (deflated 1%)\n",
            "  adding: output3/train/tricep pushdown/tricep_pushdown_104.mp4 (deflated 1%)\n",
            "  adding: output3/train/tricep pushdown/tricep_pushdown_111.mp4 (deflated 1%)\n",
            "  adding: output3/train/tricep pushdown/tricep_pushdown_24.mp4 (deflated 1%)\n",
            "  adding: output3/train/tricep pushdown/tricep_pushdown_34.mp4 (deflated 1%)\n",
            "  adding: output3/train/tricep pushdown/tricep_pushdown_3.mp4 (deflated 0%)\n",
            "  adding: output3/train/tricep pushdown/tricep_pushdown_108.mp4 (deflated 0%)\n",
            "  adding: output3/train/tricep pushdown/tricep_pushdown_39.mp4 (deflated 1%)\n",
            "  adding: output3/train/tricep pushdown/tricep_pushdown_21.mp4 (deflated 0%)\n",
            "  adding: output3/train/tricep pushdown/tricep_pushdown_19.mp4 (deflated 0%)\n",
            "  adding: output3/train/tricep pushdown/tricep_pushdown_109.mp4 (deflated 1%)\n",
            "  adding: output3/train/tricep pushdown/tricep_pushdown_27.mp4 (deflated 1%)\n",
            "  adding: output3/train/tricep pushdown/tricep_pushdown_40.mp4 (deflated 0%)\n",
            "  adding: output3/train/tricep pushdown/tricep_pushdown_107.mp4 (deflated 1%)\n",
            "  adding: output3/train/barbell biceps curl/ (stored 0%)\n",
            "  adding: output3/train/barbell biceps curl/barbell_biceps_curl_45.mp4 (deflated 1%)\n",
            "  adding: output3/train/barbell biceps curl/barbell_biceps_curl_34.mp4 (deflated 1%)\n",
            "  adding: output3/train/barbell biceps curl/barbell_biceps_curl_27.mp4 (deflated 1%)\n",
            "  adding: output3/train/barbell biceps curl/barbell_biceps_curl_42.mp4 (deflated 1%)\n",
            "  adding: output3/train/barbell biceps curl/barbell_biceps_curl_25.mp4 (deflated 0%)\n",
            "  adding: output3/train/barbell biceps curl/barbell_biceps_curl_9.mp4 (deflated 1%)\n",
            "  adding: output3/train/barbell biceps curl/barbell_biceps_curl_16.mp4 (deflated 1%)\n",
            "  adding: output3/train/barbell biceps curl/barbell_biceps_curl_14.mp4 (deflated 1%)\n",
            "  adding: output3/train/barbell biceps curl/barbell_biceps_curl_13.mp4 (deflated 0%)\n",
            "  adding: output3/train/barbell biceps curl/barbell_biceps_curl_40.mp4 (deflated 0%)\n",
            "  adding: output3/train/barbell biceps curl/barbell_biceps_curl_11.mp4 (deflated 1%)\n",
            "  adding: output3/train/barbell biceps curl/barbell_biceps_curl_3.mp4 (deflated 1%)\n",
            "  adding: output3/train/barbell biceps curl/barbell_biceps_curl_29.mp4 (deflated 1%)\n",
            "  adding: output3/train/barbell biceps curl/barbell_biceps_curl_18.mp4 (deflated 1%)\n",
            "  adding: output3/train/barbell biceps curl/barbell_biceps_curl_32.mp4 (deflated 1%)\n",
            "  adding: output3/train/barbell biceps curl/barbell_biceps_curl_1.mp4 (deflated 1%)\n",
            "  adding: output3/train/barbell biceps curl/barbell_biceps_curl_12.mp4 (deflated 1%)\n",
            "  adding: output3/train/barbell biceps curl/barbell_biceps_curl_8.mp4 (deflated 0%)\n",
            "  adding: output3/train/barbell biceps curl/barbell_biceps_curl_26.mp4 (deflated 0%)\n",
            "  adding: output3/train/barbell biceps curl/barbell_biceps_curl_7.mp4 (deflated 0%)\n",
            "  adding: output3/train/barbell biceps curl/barbell_biceps_curl_47.mp4 (deflated 0%)\n",
            "  adding: output3/train/barbell biceps curl/barbell_biceps_curl_21.mp4 (deflated 1%)\n",
            "  adding: output3/train/barbell biceps curl/barbell_biceps_curl_38.mp4 (deflated 0%)\n",
            "  adding: output3/train/barbell biceps curl/barbell_biceps_curl_19.mp4 (deflated 1%)\n",
            "  adding: output3/train/barbell biceps curl/barbell_biceps_curl_2.mp4 (deflated 1%)\n",
            "  adding: output3/train/barbell biceps curl/barbell_biceps_curl_28.mp4 (deflated 1%)\n",
            "  adding: output3/train/barbell biceps curl/barbell_biceps_curl_36.mp4 (deflated 1%)\n",
            "  adding: output3/train/barbell biceps curl/barbell_biceps_curl_10.mp4 (deflated 0%)\n",
            "  adding: output3/train/barbell biceps curl/barbell_biceps_curl_30.mp4 (deflated 1%)\n",
            "  adding: output3/train/barbell biceps curl/barbell_biceps_curl_17.mp4 (deflated 1%)\n",
            "  adding: output3/train/barbell biceps curl/barbell_biceps_curl_50.mp4 (deflated 2%)\n",
            "  adding: output3/train/barbell biceps curl/barbell_biceps_curl_48.mp4 (deflated 1%)\n",
            "  adding: output3/train/barbell biceps curl/barbell_biceps_curl_23.mp4 (deflated 0%)\n",
            "  adding: output3/train/barbell biceps curl/barbell_biceps_curl_37.mp4 (deflated 0%)\n",
            "  adding: output3/train/barbell biceps curl/barbell_biceps_curl_15.mp4 (deflated 1%)\n",
            "  adding: output3/train/barbell biceps curl/barbell_biceps_curl_46.mp4 (deflated 1%)\n",
            "  adding: output3/train/barbell biceps curl/barbell_biceps_curl_24.mp4 (deflated 0%)\n",
            "  adding: output3/train/barbell biceps curl/barbell_biceps_curl_43.mp4 (deflated 0%)\n",
            "  adding: output3/train/barbell biceps curl/barbell_biceps_curl_22.mp4 (deflated 1%)\n",
            "  adding: output3/train/barbell biceps curl/barbell_biceps_curl_5.mp4 (deflated 1%)\n",
            "  adding: output3/train/barbell biceps curl/barbell_biceps_curl_33.mp4 (deflated 1%)\n",
            "  adding: output3/train/barbell biceps curl/barbell_biceps_curl_31.mp4 (deflated 1%)\n",
            "  adding: output3/train/barbell biceps curl/barbell_biceps_curl_20.mp4 (deflated 0%)\n",
            "  adding: output3/train/barbell biceps curl/barbell_biceps_curl_35.mp4 (deflated 1%)\n",
            "  adding: output3/train/barbell biceps curl/barbell_biceps_curl_6.mp4 (deflated 0%)\n",
            "  adding: output3/train/barbell biceps curl/barbell_biceps_curl_39.mp4 (deflated 0%)\n",
            "  adding: output3/train/barbell biceps curl/barbell_biceps_curl_4.mp4 (deflated 1%)\n",
            "  adding: output3/train/barbell biceps curl/barbell_biceps_curl_49.mp4 (deflated 2%)\n",
            "  adding: output3/train/barbell biceps curl/barbell_biceps_curl_44.mp4 (deflated 1%)\n",
            "  adding: output3/train/barbell biceps curl/barbell_biceps_curl_41.mp4 (deflated 1%)\n",
            "  adding: output3/train/lat pulldown/ (stored 0%)\n",
            "  adding: output3/train/lat pulldown/lat_pulldown_31.mp4 (deflated 1%)\n",
            "  adding: output3/train/lat pulldown/lat_pulldown_21.mp4 (deflated 1%)\n",
            "  adding: output3/train/lat pulldown/lat_pulldown_8.mp4 (deflated 0%)\n",
            "  adding: output3/train/lat pulldown/lat_pulldown_23.mp4 (deflated 1%)\n",
            "  adding: output3/train/lat pulldown/lat_pulldown_18.mp4 (deflated 0%)\n",
            "  adding: output3/train/lat pulldown/lat_pulldown_9.mp4 (deflated 1%)\n",
            "  adding: output3/train/lat pulldown/lat_pulldown_14.mp4 (deflated 0%)\n",
            "  adding: output3/train/lat pulldown/lat_pulldown_30.mp4 (deflated 1%)\n",
            "  adding: output3/train/lat pulldown/lat_pulldown_4.mp4 (deflated 1%)\n",
            "  adding: output3/train/lat pulldown/lat_pulldown_39.mp4 (deflated 0%)\n",
            "  adding: output3/train/lat pulldown/lat_pulldown_22.mp4 (deflated 1%)\n",
            "  adding: output3/train/lat pulldown/lat_pulldown_16.mp4 (deflated 0%)\n",
            "  adding: output3/train/lat pulldown/lat_pulldown_19.mp4 (deflated 1%)\n",
            "  adding: output3/train/lat pulldown/lat_pulldown_40.mp4 (deflated 0%)\n",
            "  adding: output3/train/lat pulldown/lat_pulldown_24.mp4 (deflated 0%)\n",
            "  adding: output3/train/lat pulldown/lat_pulldown_25.mp4 (deflated 0%)\n",
            "  adding: output3/train/lat pulldown/lat_pulldown_26.mp4 (deflated 0%)\n",
            "  adding: output3/train/lat pulldown/lat_pulldown_7.mp4 (deflated 1%)\n",
            "  adding: output3/train/lat pulldown/lat_pulldown_28.mp4 (deflated 1%)\n",
            "  adding: output3/train/lat pulldown/lat_pulldown_13.mp4 (deflated 1%)\n",
            "  adding: output3/train/lat pulldown/lat_pulldown_29.mp4 (deflated 2%)\n",
            "  adding: output3/train/lat pulldown/lat_pulldown_35.mp4 (deflated 1%)\n",
            "  adding: output3/train/lat pulldown/lat_pulldown_33.mp4 (deflated 0%)\n",
            "  adding: output3/train/lat pulldown/lat_pulldown_36.mp4 (deflated 0%)\n",
            "  adding: output3/train/lat pulldown/lat_pulldown_3.mp4 (deflated 0%)\n",
            "  adding: output3/train/lat pulldown/lat_pulldown_34.mp4 (deflated 0%)\n",
            "  adding: output3/train/lat pulldown/lat_pulldown_10.mp4 (deflated 1%)\n",
            "  adding: output3/train/lat pulldown/lat_pulldown_27.mp4 (deflated 0%)\n",
            "  adding: output3/train/lat pulldown/lat_pulldown_20.mp4 (deflated 1%)\n",
            "  adding: output3/train/lat pulldown/lat_pulldown_11.mp4 (deflated 1%)\n",
            "  adding: output3/train/lat pulldown/lat_pulldown_12.mp4 (deflated 1%)\n",
            "  adding: output3/train/lat pulldown/lat_pulldown_1.mp4 (deflated 0%)\n",
            "  adding: output3/train/lat pulldown/lat_pulldown_38.mp4 (deflated 0%)\n",
            "  adding: output3/train/lat pulldown/lat_pulldown_6.mp4 (deflated 0%)\n",
            "  adding: output3/train/lat pulldown/lat_pulldown_5.mp4 (deflated 1%)\n",
            "  adding: output3/train/lat pulldown/lat_pulldown_15.mp4 (deflated 1%)\n",
            "  adding: output3/train/lat pulldown/lat_pulldown_32.mp4 (deflated 1%)\n",
            "  adding: output3/train/lat pulldown/lat_pulldown_37.mp4 (deflated 1%)\n",
            "  adding: output3/train/lat pulldown/lat_pulldown_41.mp4 (deflated 1%)\n",
            "  adding: output3/train/lat pulldown/lat_pulldown_17.mp4 (deflated 0%)\n",
            "  adding: output3/train/lat pulldown/lat_pulldown_2.mp4 (deflated 0%)\n",
            "  adding: output3/train/romanian deadlift/ (stored 0%)\n",
            "  adding: output3/train/romanian deadlift/romanian_deadlift_9.mp4 (deflated 1%)\n",
            "  adding: output3/train/romanian deadlift/romanian_deadlift_6.mp4 (deflated 1%)\n",
            "  adding: output3/train/romanian deadlift/romanian_deadlift_5.mp4 (deflated 1%)\n",
            "  adding: output3/train/romanian deadlift/romanian_deadlift_15.mp4 (deflated 2%)\n",
            "  adding: output3/train/romanian deadlift/romanian_deadlift_2.mp4 (deflated 0%)\n",
            "  adding: output3/train/romanian deadlift/romanian_deadlift_1.mp4 (deflated 0%)\n",
            "  adding: output3/train/romanian deadlift/romanian_deadlift_10005.mp4 (deflated 1%)\n",
            "  adding: output3/train/romanian deadlift/romanian_deadlift_10008.mp4 (deflated 1%)\n",
            "  adding: output3/train/romanian deadlift/romanian_deadlift_21.mp4 (deflated 1%)\n",
            "  adding: output3/train/romanian deadlift/romanian_deadlift_20.mp4 (deflated 1%)\n",
            "  adding: output3/train/romanian deadlift/romanian_deadlift_18.mp4 (deflated 1%)\n",
            "  adding: output3/train/romanian deadlift/romanian_deadlift_10001.mp4 (deflated 1%)\n",
            "  adding: output3/train/romanian deadlift/romanian_deadlift_3.mp4 (deflated 0%)\n",
            "  adding: output3/train/romanian deadlift/romanian_deadlift_10009.mp4 (deflated 1%)\n",
            "  adding: output3/train/romanian deadlift/romanian_deadlift_10004.mp4 (deflated 2%)\n",
            "  adding: output3/train/romanian deadlift/romanian_deadlift_24.mp4 (deflated 0%)\n",
            "  adding: output3/train/romanian deadlift/romanian_deadlift_10.mp4 (deflated 1%)\n",
            "  adding: output3/train/romanian deadlift/romanian_deadlift_8.mp4 (deflated 0%)\n",
            "  adding: output3/train/romanian deadlift/romanian_deadlift_26.mp4 (deflated 0%)\n",
            "  adding: output3/train/romanian deadlift/romanian_deadlift_22.mp4 (deflated 1%)\n",
            "  adding: output3/train/romanian deadlift/romanian_deadlift_25.mp4 (deflated 0%)\n",
            "  adding: output3/train/romanian deadlift/romanian_deadlift_10003.mp4 (deflated 1%)\n",
            "  adding: output3/train/romanian deadlift/romanian_deadlift_4.mp4 (deflated 0%)\n",
            "  adding: output3/train/romanian deadlift/romanian_deadlift_16.mp4 (deflated 1%)\n",
            "  adding: output3/train/romanian deadlift/romanian_deadlift_19.mp4 (deflated 1%)\n",
            "  adding: output3/train/romanian deadlift/romanian_deadlift_17.mp4 (deflated 2%)\n",
            "  adding: output3/train/romanian deadlift/romanian_deadlift_14.mp4 (deflated 0%)\n",
            "  adding: output3/train/romanian deadlift/romanian_deadlift_7.mp4 (deflated 0%)\n",
            "  adding: output3/train/romanian deadlift/romanian_deadlift_23.mp4 (deflated 1%)\n",
            "  adding: output3/train/romanian deadlift/romanian_deadlift_202.mp4 (deflated 0%)\n",
            "  adding: output3/train/romanian deadlift/romanian_deadlift_203.mp4 (deflated 0%)\n",
            "  adding: output3/train/romanian deadlift/romanian_deadlift_201.mp4 (deflated 2%)\n",
            "  adding: output3/train/romanian deadlift/romanian_deadlift_11.mp4 (deflated 0%)\n",
            "  adding: output3/train/incline bench press/ (stored 0%)\n",
            "  adding: output3/train/incline bench press/incline_bench_press_3.mp4 (deflated 0%)\n",
            "  adding: output3/train/incline bench press/incline_bench_press_21.mp4 (deflated 1%)\n",
            "  adding: output3/train/incline bench press/incline_bench_press_1.mp4 (deflated 0%)\n",
            "  adding: output3/train/incline bench press/incline_bench_press_12.mp4 (deflated 1%)\n",
            "  adding: output3/train/incline bench press/incline_bench_press_18.mp4 (deflated 1%)\n",
            "  adding: output3/train/incline bench press/incline_bench_press_102.mp4 (deflated 0%)\n",
            "  adding: output3/train/incline bench press/incline_bench_press_23.mp4 (deflated 1%)\n",
            "  adding: output3/train/incline bench press/incline_bench_press_8.mp4 (deflated 1%)\n",
            "  adding: output3/train/incline bench press/incline_bench_press_4.mp4 (deflated 1%)\n",
            "  adding: output3/train/incline bench press/2024-03-26 06-29-42 - Trim.mp4 (deflated 3%)\n",
            "  adding: output3/train/incline bench press/incline_bench_press_14.mp4 (deflated 0%)\n",
            "  adding: output3/train/incline bench press/incline_bench_press_5.mp4 (deflated 1%)\n",
            "  adding: output3/train/incline bench press/incline_bench_press_26.mp4 (deflated 0%)\n",
            "  adding: output3/train/incline bench press/incline_bench_press_101.mp4 (deflated 0%)\n",
            "  adding: output3/train/incline bench press/incline_bench_press_16.mp4 (deflated 0%)\n",
            "  adding: output3/train/incline bench press/incline_bench_press_201.mp4 (deflated 1%)\n",
            "  adding: output3/train/incline bench press/incline_bench_press_24.mp4 (deflated 1%)\n",
            "  adding: output3/train/incline bench press/incline_bench_press_2.mp4 (deflated 1%)\n",
            "  adding: output3/train/incline bench press/incline_bench_press_9.mp4 (deflated 1%)\n",
            "  adding: output3/train/incline bench press/incline_bench_press_20.mp4 (deflated 1%)\n",
            "  adding: output3/train/incline bench press/incline_bench_press_17.mp4 (deflated 1%)\n",
            "  adding: output3/train/incline bench press/incline_bench_press_22.mp4 (deflated 0%)\n",
            "  adding: output3/train/incline bench press/incline_bench_press_19.mp4 (deflated 1%)\n",
            "  adding: output3/train/incline bench press/incline_bench_press_25.mp4 (deflated 1%)\n",
            "  adding: output3/train/incline bench press/incline_bench_press_10.mp4 (deflated 1%)\n",
            "  adding: output3/train/incline bench press/incline_bench_press_15.mp4 (deflated 0%)\n",
            "  adding: output3/train/incline bench press/incline_bench_press_7.mp4 (deflated 1%)\n",
            "  adding: output3/train/incline bench press/incline_bench_press_11.mp4 (deflated 1%)\n",
            "  adding: output3/train/incline bench press/incline_bench_press_13.mp4 (deflated 1%)\n",
            "  adding: output3/train/incline bench press/incline_bench_press_6.mp4 (deflated 1%)\n",
            "  adding: output3/train/bench press/ (stored 0%)\n",
            "  adding: output3/train/bench press/bench_press_16.mp4 (deflated 1%)\n",
            "  adding: output3/train/bench press/bench_press_27.mp4 (deflated 1%)\n",
            "  adding: output3/train/bench press/bench_press_49.mp4 (deflated 0%)\n",
            "  adding: output3/train/bench press/bench_press_39.mp4 (deflated 0%)\n",
            "  adding: output3/train/bench press/bench_press_8.mp4 (deflated 1%)\n",
            "  adding: output3/train/bench press/bench_press_12.mp4 (deflated 1%)\n",
            "  adding: output3/train/bench press/bench_press_9.mp4 (deflated 1%)\n",
            "  adding: output3/train/bench press/bench_press_18.mp4 (deflated 0%)\n",
            "  adding: output3/train/bench press/bench_press_44.mp4 (deflated 0%)\n",
            "  adding: output3/train/bench press/bench_press_22.mp4 (deflated 1%)\n",
            "  adding: output3/train/bench press/bench_press_15.mp4 (deflated 0%)\n",
            "  adding: output3/train/bench press/bench_press_32.mp4 (deflated 1%)\n",
            "  adding: output3/train/bench press/bench_press_3.mp4 (deflated 0%)\n",
            "  adding: output3/train/bench press/bench_press_41.mp4 (deflated 1%)\n",
            "  adding: output3/train/bench press/bench_press_24.mp4 (deflated 1%)\n",
            "  adding: output3/train/bench press/bench_press_25.mp4 (deflated 1%)\n",
            "  adding: output3/train/bench press/bench_press_37.mp4 (deflated 1%)\n",
            "  adding: output3/train/bench press/bench_press_20.mp4 (deflated 0%)\n",
            "  adding: output3/train/bench press/bench_press_47.mp4 (deflated 0%)\n",
            "  adding: output3/train/bench press/bench_press_14.mp4 (deflated 1%)\n",
            "  adding: output3/train/bench press/bench_press_10.mp4 (deflated 0%)\n",
            "  adding: output3/train/bench press/bench_press_6.mp4 (deflated 2%)\n",
            "  adding: output3/train/bench press/bench_press_11.mp4 (deflated 0%)\n",
            "  adding: output3/train/bench press/bench_press_33.mp4 (deflated 2%)\n",
            "  adding: output3/train/bench press/bench_press_21.mp4 (deflated 1%)\n",
            "  adding: output3/train/bench press/bench_press_201.mp4 (deflated 0%)\n",
            "  adding: output3/train/bench press/bench_press_4.mp4 (deflated 0%)\n",
            "  adding: output3/train/bench press/bench_press_45.mp4 (deflated 1%)\n",
            "  adding: output3/train/bench press/bench_press_46.mp4 (deflated 1%)\n",
            "  adding: output3/train/bench press/bench_press_38.mp4 (deflated 2%)\n",
            "  adding: output3/train/bench press/bench_press_23.mp4 (deflated 1%)\n",
            "  adding: output3/train/bench press/bench_press_29.mp4 (deflated 1%)\n",
            "  adding: output3/train/bench press/bench_press_34.mp4 (deflated 0%)\n",
            "  adding: output3/train/bench press/bench_press_26.mp4 (deflated 1%)\n",
            "  adding: output3/train/bench press/bench_press_48.mp4 (deflated 1%)\n",
            "  adding: output3/train/bench press/bench_press_43.mp4 (deflated 2%)\n",
            "  adding: output3/train/bench press/bench_press_19.mp4 (deflated 0%)\n",
            "  adding: output3/train/bench press/bench_press_28.mp4 (deflated 1%)\n",
            "  adding: output3/train/bench press/bench_press_36.mp4 (deflated 0%)\n",
            "  adding: output3/train/bench press/bench_press_2.mp4 (deflated 1%)\n",
            "  adding: output3/train/bench press/bench_press_13.mp4 (deflated 1%)\n",
            "  adding: output3/train/bench press/bench_press_17.mp4 (deflated 1%)\n",
            "  adding: output3/train/bench press/bench_press_5.mp4 (deflated 0%)\n",
            "  adding: output3/train/bench press/bench_press_35.mp4 (deflated 0%)\n",
            "  adding: output3/train/bench press/bench_press_40.mp4 (deflated 1%)\n",
            "  adding: output3/train/bench press/bench_press_31.mp4 (deflated 0%)\n",
            "  adding: output3/train/bench press/bench_press_7.mp4 (deflated 0%)\n",
            "  adding: output3/train/bench press/bench_press_1.mp4 (deflated 1%)\n",
            "  adding: output3/train/bench press/bench_press_42.mp4 (deflated 1%)\n",
            "  adding: output3/train/bench press/bench_press_202.mp4 (deflated 0%)\n",
            "  adding: output3/train/bench press/bench_press_30.mp4 (deflated 0%)\n",
            "  adding: output3/train/plank/ (stored 0%)\n",
            "  adding: output3/train/plank/plank_100018.mp4 (deflated 0%)\n",
            "  adding: output3/train/plank/plank_206.mp4 (deflated 3%)\n",
            "  adding: output3/train/plank/plank_100025.mp4 (deflated 0%)\n",
            "  adding: output3/train/plank/plank_104.mp4 (deflated 0%)\n",
            "  adding: output3/train/plank/Video 24-03-2024, 17 25 40 - Trim.mp4 (deflated 0%)\n",
            "  adding: output3/train/plank/plank_100036.mp4 (deflated 0%)\n",
            "  adding: output3/train/plank/plank_5.mp4 (deflated 0%)\n",
            "  adding: output3/train/plank/plank_212.mp4 (deflated 0%)\n",
            "  adding: output3/train/plank/plank_203.mp4 (deflated 0%)\n",
            "  adding: output3/train/plank/plank_100017.mp4 (deflated 0%)\n",
            "  adding: output3/train/plank/plank_100014.mp4 (deflated 0%)\n",
            "  adding: output3/train/plank/plank_100029.mp4 (deflated 0%)\n",
            "  adding: output3/train/plank/plank_100033.mp4 (deflated 1%)\n",
            "  adding: output3/train/plank/plank_10008.mp4 (deflated 0%)\n",
            "  adding: output3/train/plank/plank_100031.mp4 (deflated 0%)\n",
            "  adding: output3/train/plank/plank_103.mp4 (deflated 1%)\n",
            "  adding: output3/train/plank/plank_101.mp4 (deflated 0%)\n",
            "  adding: output3/train/plank/plank_100024.mp4 (deflated 0%)\n",
            "  adding: output3/train/plank/plank_105.mp4 (deflated 0%)\n",
            "  adding: output3/train/plank/plank_106.mp4 (deflated 0%)\n",
            "  adding: output3/train/plank/plank_210.mp4 (deflated 0%)\n",
            "  adding: output3/train/plank/plank_108.mp4 (deflated 0%)\n",
            "  adding: output3/train/plank/plank_109.mp4 (deflated 0%)\n",
            "  adding: output3/train/plank/plank_100013.mp4 (deflated 0%)\n",
            "  adding: output3/train/plank/plank_4.mp4 (deflated 0%)\n",
            "  adding: output3/train/plank/plank_100028.mp4 (deflated 0%)\n",
            "  adding: output3/train/plank/plank_102.mp4 (deflated 1%)\n",
            "  adding: output3/train/plank/plank_213.mp4 (deflated 1%)\n",
            "  adding: output3/train/plank/plank_100019.mp4 (deflated 0%)\n",
            "  adding: output3/train/plank/plank_1.mp4 (deflated 0%)\n",
            "  adding: output3/train/plank/plank_201.mp4 (deflated 0%)\n",
            "  adding: output3/train/plank/plank_2.mp4 (deflated 0%)\n",
            "  adding: output3/train/plank/plank_107.mp4 (deflated 0%)\n",
            "  adding: output3/train/plank/plank_10003.mp4 (deflated 3%)\n",
            "  adding: output3/train/plank/plank_100032.mp4 (deflated 0%)\n",
            "  adding: output3/train/plank/plank_110.mp4 (deflated 0%)\n",
            "  adding: output3/train/plank/plank_202.mp4 (deflated 0%)\n",
            "  adding: output3/train/plank/plank_100034.mp4 (deflated 0%)\n",
            "  adding: output3/train/plank/plank_204.mp4 (deflated 0%)\n",
            "  adding: output3/train/plank/plank_100027.mp4 (deflated 0%)\n",
            "  adding: output3/train/plank/plank_100030.mp4 (deflated 0%)\n",
            "  adding: output3/train/plank/plank_3.mp4 (deflated 1%)\n",
            "  adding: output3/train/plank/plank_100010.mp4 (deflated 0%)\n",
            "  adding: output3/train/plank/plank_100016.mp4 (deflated 0%)\n",
            "  adding: output3/train/plank/Video 24-03-2024, 17 26 01.mp4 (deflated 0%)\n",
            "  adding: output3/train/plank/plank_205.mp4 (deflated 0%)\n",
            "  adding: output3/train/plank/plank_10007.mp4 (deflated 0%)\n",
            "  adding: output3/train/plank/plank_100012.mp4 (deflated 0%)\n",
            "  adding: output3/train/plank/Video 24-03-2024, 17 26 01 (1) - Trim.mp4 (deflated 0%)\n",
            "  adding: output3/train/plank/plank_100011.mp4 (deflated 0%)\n",
            "  adding: output3/train/squat/ (stored 0%)\n",
            "  adding: output3/train/squat/squat_23.mp4 (deflated 1%)\n",
            "  adding: output3/train/squat/squat_105.mp4 (deflated 1%)\n",
            "  adding: output3/train/squat/squat_109.mp4 (deflated 0%)\n",
            "  adding: output3/train/squat/squat_103.mp4 (deflated 0%)\n",
            "  adding: output3/train/squat/squat_6.mp4 (deflated 1%)\n",
            "  adding: output3/train/squat/squat_123.mp4 (deflated 1%)\n",
            "  adding: output3/train/squat/squat_4.mp4 (deflated 1%)\n",
            "  adding: output3/train/squat/squat_128.mp4 (deflated 0%)\n",
            "  adding: output3/train/squat/squat_22.mp4 (deflated 1%)\n",
            "  adding: output3/train/squat/squat_115.mp4 (deflated 1%)\n",
            "  adding: output3/train/squat/squat_104.mp4 (deflated 0%)\n",
            "  adding: output3/train/squat/squat_12.mp4 (deflated 1%)\n",
            "  adding: output3/train/squat/squat_7.mp4 (deflated 2%)\n",
            "  adding: output3/train/squat/squat_125.mp4 (deflated 0%)\n",
            "  adding: output3/train/squat/squat_15.mp4 (deflated 0%)\n",
            "  adding: output3/train/squat/squat_16.mp4 (deflated 1%)\n",
            "  adding: output3/train/squat/squat_108.mp4 (deflated 0%)\n",
            "  adding: output3/train/squat/squat_10.mp4 (deflated 0%)\n",
            "  adding: output3/train/squat/squat_1.mp4 (deflated 1%)\n",
            "  adding: output3/train/squat/squat_19.mp4 (deflated 0%)\n",
            "  adding: output3/train/squat/squat_110.mp4 (deflated 0%)\n",
            "  adding: output3/train/squat/squat_120.mp4 (deflated 1%)\n",
            "  adding: output3/train/squat/squat_126.mp4 (deflated 0%)\n",
            "  adding: output3/train/squat/squat_122.mp4 (deflated 0%)\n",
            "  adding: output3/train/squat/squat_127.mp4 (deflated 0%)\n",
            "  adding: output3/train/squat/squat_114.mp4 (deflated 1%)\n",
            "  adding: output3/train/squat/squat_124.mp4 (deflated 0%)\n",
            "  adding: output3/train/squat/squat_21.mp4 (deflated 1%)\n",
            "  adding: output3/train/squat/squat_112.mp4 (deflated 0%)\n",
            "  adding: output3/train/squat/squat_116.mp4 (deflated 0%)\n",
            "  adding: output3/train/squat/squat_102.mp4 (deflated 1%)\n",
            "  adding: output3/train/squat/squat_3.mp4 (deflated 1%)\n",
            "  adding: output3/train/squat/squat_101.mp4 (deflated 1%)\n",
            "  adding: output3/train/squat/squat_117.mp4 (deflated 0%)\n",
            "  adding: output3/train/squat/squat_9.mp4 (deflated 2%)\n",
            "  adding: output3/train/squat/squat_18.mp4 (deflated 0%)\n",
            "  adding: output3/train/squat/squat_11.mp4 (deflated 0%)\n",
            "  adding: output3/train/squat/squat_118.mp4 (deflated 1%)\n",
            "  adding: output3/train/squat/squat_119.mp4 (deflated 1%)\n",
            "  adding: output3/train/squat/squat_106.mp4 (deflated 1%)\n",
            "  adding: output3/train/squat/squat_2.mp4 (deflated 1%)\n",
            "  adding: output3/train/squat/squat_107.mp4 (deflated 1%)\n",
            "  adding: output3/train/squat/squat_113.mp4 (deflated 0%)\n",
            "  adding: output3/train/squat/squat_13.mp4 (deflated 1%)\n",
            "  adding: output3/train/squat/squat_8.mp4 (deflated 1%)\n",
            "  adding: output3/train/squat/squat_111.mp4 (deflated 1%)\n",
            "  adding: output3/train/squat/squat_14.mp4 (deflated 3%)\n",
            "  adding: output3/train/squat/squat_17.mp4 (deflated 1%)\n",
            "  adding: output3/train/squat/squat_121.mp4 (deflated 1%)\n",
            "  adding: output3/train/squat/squat_20.mp4 (deflated 1%)\n",
            "  adding: output3/train/squat/squat_5.mp4 (deflated 1%)\n",
            "  adding: output3/train/t bar row/ (stored 0%)\n",
            "  adding: output3/train/t bar row/t_bar_row_14.mp4 (deflated 0%)\n",
            "  adding: output3/train/t bar row/t_bar_row_25.mp4 (deflated 0%)\n",
            "  adding: output3/train/t bar row/t_bar_row_23.mp4 (deflated 1%)\n",
            "  adding: output3/train/t bar row/t_bar_row_22.mp4 (deflated 0%)\n",
            "  adding: output3/train/t bar row/t_bar_row_10.mp4 (deflated 0%)\n",
            "  adding: output3/train/t bar row/t_bar_row_100015.mp4 (deflated 0%)\n",
            "  adding: output3/train/t bar row/t_bar_row_31.mp4 (deflated 0%)\n",
            "  adding: output3/train/t bar row/t_bar_row_1.mp4 (deflated 1%)\n",
            "  adding: output3/train/t bar row/t_bar_row_28.mp4 (deflated 0%)\n",
            "  adding: output3/train/t bar row/t_bar_row_29.mp4 (deflated 1%)\n",
            "  adding: output3/train/t bar row/t_bar_row_27.mp4 (deflated 0%)\n",
            "  adding: output3/train/t bar row/t_bar_row_16.mp4 (deflated 0%)\n",
            "  adding: output3/train/t bar row/t_bar_row_8.mp4 (deflated 0%)\n",
            "  adding: output3/train/t bar row/t_bar_row_11.mp4 (deflated 0%)\n",
            "  adding: output3/train/t bar row/t_bar_row_4.mp4 (deflated 1%)\n",
            "  adding: output3/train/t bar row/t_bar_row_6.mp4 (deflated 1%)\n",
            "  adding: output3/train/t bar row/t_bar_row_10003.mp4 (deflated 0%)\n",
            "  adding: output3/train/t bar row/t_bar_row_100011.mp4 (deflated 0%)\n",
            "  adding: output3/train/t bar row/t_bar_row_34.mp4 (deflated 1%)\n",
            "  adding: output3/train/t bar row/t_bar_row_15.mp4 (deflated 0%)\n",
            "  adding: output3/train/t bar row/t_bar_row_30.mp4 (deflated 0%)\n",
            "  adding: output3/train/t bar row/t_bar_row_10008.mp4 (deflated 0%)\n",
            "  adding: output3/train/t bar row/t_bar_row_10006.mp4 (deflated 1%)\n",
            "  adding: output3/train/t bar row/t_bar_row_17.mp4 (deflated 0%)\n",
            "  adding: output3/train/t bar row/t_bar_row_3.mp4 (deflated 1%)\n",
            "  adding: output3/train/t bar row/t_bar_row_26.mp4 (deflated 1%)\n",
            "  adding: output3/train/t bar row/t_bar_row_7.mp4 (deflated 1%)\n",
            "  adding: output3/train/t bar row/t_bar_row_100010.mp4 (deflated 0%)\n",
            "  adding: output3/train/t bar row/t_bar_row_33.mp4 (deflated 1%)\n",
            "  adding: output3/train/t bar row/t_bar_row_12.mp4 (deflated 0%)\n",
            "  adding: output3/train/t bar row/t_bar_row_13.mp4 (deflated 0%)\n",
            "  adding: output3/train/t bar row/t_bar_row_24.mp4 (deflated 0%)\n",
            "  adding: output3/train/t bar row/t_bar_row_10001.mp4 (deflated 1%)\n",
            "  adding: output3/train/t bar row/t_bar_row_5.mp4 (deflated 1%)\n",
            "  adding: output3/train/t bar row/t_bar_row_100012.mp4 (deflated 0%)\n",
            "  adding: output3/train/t bar row/t_bar_row_2.mp4 (deflated 1%)\n",
            "  adding: output3/train/t bar row/t_bar_row_10002.mp4 (deflated 1%)\n",
            "  adding: output3/train/t bar row/t_bar_row_9.mp4 (deflated 0%)\n",
            "  adding: output3/train/t bar row/t_bar_row_32.mp4 (deflated 1%)\n",
            "  adding: output3/train/t bar row/t_bar_row_10009.mp4 (deflated 0%)\n",
            "  adding: output3/train/russian twist/ (stored 0%)\n",
            "  adding: output3/train/russian twist/russian_twist_16.mp4 (deflated 1%)\n",
            "  adding: output3/train/russian twist/russian_twist_10004.mp4 (deflated 0%)\n",
            "  adding: output3/train/russian twist/russian_twist_100020.mp4 (deflated 0%)\n",
            "  adding: output3/train/russian twist/russian_twist_100010.mp4 (deflated 1%)\n",
            "  adding: output3/train/russian twist/russian_twist_24.mp4 (deflated 1%)\n",
            "  adding: output3/train/russian twist/russian_twist_18.mp4 (deflated 1%)\n",
            "  adding: output3/train/russian twist/russian_twist_8.mp4 (deflated 1%)\n",
            "  adding: output3/train/russian twist/russian_twist_100019.mp4 (deflated 0%)\n",
            "  adding: output3/train/russian twist/russian_twist_1.mp4 (deflated 0%)\n",
            "  adding: output3/train/russian twist/russian_twist_10005.mp4 (deflated 0%)\n",
            "  adding: output3/train/russian twist/russian_twist_10.mp4 (deflated 0%)\n",
            "  adding: output3/train/russian twist/russian_twist_100011.mp4 (deflated 1%)\n",
            "  adding: output3/train/russian twist/russian_twist_20.mp4 (deflated 0%)\n",
            "  adding: output3/train/russian twist/russian_twist_19.mp4 (deflated 1%)\n",
            "  adding: output3/train/russian twist/russian_twist_15.mp4 (deflated 0%)\n",
            "  adding: output3/train/russian twist/russian_twist_6.mp4 (deflated 0%)\n",
            "  adding: output3/train/russian twist/russian_twist_23.mp4 (deflated 1%)\n",
            "  adding: output3/train/russian twist/russian_twist_25.mp4 (deflated 1%)\n",
            "  adding: output3/train/russian twist/russian_twist_10008.mp4 (deflated 1%)\n",
            "  adding: output3/train/russian twist/russian_twist_9.mp4 (deflated 1%)\n",
            "  adding: output3/train/russian twist/russian_twist_100014.mp4 (deflated 1%)\n",
            "  adding: output3/train/russian twist/russian_twist_100016.mp4 (deflated 0%)\n",
            "  adding: output3/train/russian twist/russian_twist_10001.mp4 (deflated 0%)\n",
            "  adding: output3/train/russian twist/russian_twist_201.mp4 (deflated 0%)\n",
            "  adding: output3/train/russian twist/russian_twist_100012.mp4 (deflated 1%)\n",
            "  adding: output3/train/russian twist/russian_twist_14.mp4 (deflated 0%)\n",
            "  adding: output3/train/russian twist/russian_twist_10006.mp4 (deflated 0%)\n",
            "  adding: output3/train/russian twist/russian_twist_17.mp4 (deflated 0%)\n",
            "  adding: output3/train/russian twist/russian_twist_202.mp4 (deflated 0%)\n",
            "  adding: output3/train/russian twist/russian_twist_22.mp4 (deflated 1%)\n",
            "  adding: output3/train/russian twist/russian_twist_100015.mp4 (deflated 0%)\n",
            "  adding: output3/train/russian twist/russian_twist_7.mp4 (deflated 1%)\n",
            "  adding: output3/train/russian twist/russian_twist_10007.mp4 (deflated 1%)\n",
            "  adding: output3/train/russian twist/russian_twist_4.mp4 (deflated 2%)\n",
            "  adding: output3/train/russian twist/russian_twist_3.mp4 (deflated 1%)\n",
            "  adding: output3/train/russian twist/russian_twist_21.mp4 (deflated 1%)\n",
            "  adding: output3/train/russian twist/russian_twist_5.mp4 (deflated 0%)\n",
            "  adding: output3/train/tricep dips/ (stored 0%)\n",
            "  adding: output3/train/tricep dips/tricep_dips_38.mp4 (deflated 0%)\n",
            "  adding: output3/train/tricep dips/tricep_dips_41.mp4 (deflated 1%)\n",
            "  adding: output3/train/tricep dips/tricep_dips_24.mp4 (deflated 0%)\n",
            "  adding: output3/train/tricep dips/tricep_dips_15.mp4 (deflated 1%)\n",
            "  adding: output3/train/tricep dips/tricep_dips_2.mp4 (deflated 0%)\n",
            "  adding: output3/train/tricep dips/tricep_dips_23.mp4 (deflated 0%)\n",
            "  adding: output3/train/tricep dips/tricep_dips_4.mp4 (deflated 0%)\n",
            "  adding: output3/train/tricep dips/tricep_dips_42.mp4 (deflated 1%)\n",
            "  adding: output3/train/tricep dips/tricep_dips_11.mp4 (deflated 1%)\n",
            "  adding: output3/train/tricep dips/tricep_dips_10.mp4 (deflated 1%)\n",
            "  adding: output3/train/tricep dips/tricep_dips_12.mp4 (deflated 1%)\n",
            "  adding: output3/train/tricep dips/tricep_dips_34.mp4 (deflated 0%)\n",
            "  adding: output3/train/tricep dips/tricep_dips_25.mp4 (deflated 0%)\n",
            "  adding: output3/train/tricep dips/tricep_dips_40.mp4 (deflated 0%)\n",
            "  adding: output3/train/tricep dips/tricep_dips_13.mp4 (deflated 1%)\n",
            "  adding: output3/train/tricep dips/tricep_dips_39.mp4 (deflated 0%)\n",
            "  adding: output3/train/tricep dips/tricep_dips_9.mp4 (deflated 1%)\n",
            "  adding: output3/train/tricep dips/tricep_dips_50.mp4 (deflated 0%)\n",
            "  adding: output3/train/tricep dips/tricep_dips_16.mp4 (deflated 0%)\n",
            "  adding: output3/train/tricep dips/tricep_dips_7.mp4 (deflated 0%)\n",
            "  adding: output3/train/tricep dips/tricep_dips_52.mp4 (deflated 0%)\n",
            "  adding: output3/train/tricep dips/tricep_dips_48.mp4 (deflated 0%)\n",
            "  adding: output3/train/tricep dips/tricep_dips_43.mp4 (deflated 0%)\n",
            "  adding: output3/train/tricep dips/tricep_dips_8.mp4 (deflated 0%)\n",
            "  adding: output3/train/tricep dips/tricep_dips_27.mp4 (deflated 0%)\n",
            "  adding: output3/train/tricep dips/tricep_dips_1.mp4 (deflated 0%)\n",
            "  adding: output3/train/tricep dips/tricep_dips_33.mp4 (deflated 0%)\n",
            "  adding: output3/train/tricep dips/tricep_dips_32.mp4 (deflated 1%)\n",
            "  adding: output3/train/tricep dips/tricep_dips_51.mp4 (deflated 1%)\n",
            "  adding: output3/train/tricep dips/tricep_dips_53.mp4 (deflated 0%)\n",
            "  adding: output3/train/tricep dips/tricep_dips_14.mp4 (deflated 0%)\n",
            "  adding: output3/train/tricep dips/tricep_dips_31.mp4 (deflated 0%)\n",
            "  adding: output3/train/tricep dips/tricep_dips_28.mp4 (deflated 0%)\n",
            "  adding: output3/train/tricep dips/tricep_dips_46.mp4 (deflated 0%)\n",
            "  adding: output3/train/tricep dips/tricep_dips_26.mp4 (deflated 1%)\n",
            "  adding: output3/train/tricep dips/tricep_dips_5.mp4 (deflated 0%)\n",
            "  adding: output3/train/tricep dips/tricep_dips_21.mp4 (deflated 1%)\n",
            "  adding: output3/train/tricep dips/tricep_dips_45.mp4 (deflated 0%)\n",
            "  adding: output3/train/tricep dips/tricep_dips_6.mp4 (deflated 0%)\n",
            "  adding: output3/train/tricep dips/tricep_dips_30.mp4 (deflated 0%)\n",
            "  adding: output3/train/tricep dips/tricep_dips_22.mp4 (deflated 0%)\n",
            "  adding: output3/train/tricep dips/tricep_dips_49.mp4 (deflated 1%)\n",
            "  adding: output3/train/tricep dips/tricep_dips_35.mp4 (deflated 0%)\n",
            "  adding: output3/train/tricep dips/tricep_dips_44.mp4 (deflated 0%)\n",
            "  adding: output3/train/tricep dips/tricep_dips_29.mp4 (deflated 0%)\n",
            "  adding: output3/train/tricep dips/tricep_dips_3.mp4 (deflated 1%)\n",
            "  adding: output3/train/tricep dips/tricep_dips_36.mp4 (deflated 0%)\n",
            "  adding: output3/train/tricep dips/tricep_dips_37.mp4 (deflated 0%)\n",
            "  adding: output3/train/tricep dips/tricep_dips_47.mp4 (deflated 0%)\n",
            "  adding: output3/train/hip thrust/ (stored 0%)\n",
            "  adding: output3/train/hip thrust/hip_thrust_1.mp4 (deflated 0%)\n",
            "  adding: output3/train/hip thrust/hip_thrust_109.mp4 (deflated 0%)\n",
            "  adding: output3/train/hip thrust/hip_thrust_104.mp4 (deflated 0%)\n",
            "  adding: output3/train/hip thrust/hip_thrust_7.mp4 (deflated 0%)\n",
            "  adding: output3/train/hip thrust/hip_thrust_111.mp4 (deflated 0%)\n",
            "  adding: output3/train/hip thrust/hip_thrust_4.mp4 (deflated 0%)\n",
            "  adding: output3/train/hip thrust/hip_thrust_5.mp4 (deflated 0%)\n",
            "  adding: output3/train/hip thrust/hip_thrust_102.mp4 (deflated 0%)\n",
            "  adding: output3/train/hip thrust/hip_thrust_110.mp4 (deflated 0%)\n",
            "  adding: output3/train/hip thrust/hip_thrust_106.mp4 (deflated 0%)\n",
            "  adding: output3/train/hip thrust/hip_thrust_107.mp4 (deflated 1%)\n",
            "  adding: output3/train/hip thrust/hip_thrust_12.mp4 (deflated 0%)\n",
            "  adding: output3/train/hip thrust/hip_thrust_105.mp4 (deflated 0%)\n",
            "  adding: output3/train/hip thrust/hip_thrust_10.mp4 (deflated 0%)\n",
            "  adding: output3/train/hip thrust/hip_thrust_2.mp4 (deflated 0%)\n",
            "  adding: output3/train/hip thrust/hip_thrust_8.mp4 (deflated 0%)\n",
            "  adding: output3/train/hip thrust/hip_thrust_13.mp4 (deflated 0%)\n",
            "  adding: output3/train/hip thrust/hip_thrust_108.mp4 (deflated 1%)\n",
            "  adding: output3/train/hip thrust/hip_thrust_3.mp4 (deflated 0%)\n",
            "  adding: output3/train/hip thrust/hip_thrust_101.mp4 (deflated 0%)\n",
            "  adding: output3/train/hip thrust/hip_thrust_6.mp4 (deflated 0%)\n",
            "  adding: output3/train/hip thrust/hip_thrust_103.mp4 (deflated 0%)\n",
            "  adding: output3/train/hip thrust/hip_thrust_9.mp4 (deflated 0%)\n",
            "  adding: output3/train/hip thrust/hip_thrust_14.mp4 (deflated 0%)\n",
            "  adding: output3/train/hip thrust/hip_thrust_11.mp4 (deflated 0%)\n",
            "  adding: output3/train/push-up/ (stored 0%)\n",
            "  adding: output3/train/push-up/push-up_38.mp4 (deflated 0%)\n",
            "  adding: output3/train/push-up/push-up_105.mp4 (deflated 0%)\n",
            "  adding: output3/train/push-up/push-up_2.mp4 (deflated 0%)\n",
            "  adding: output3/train/push-up/push-up_13.mp4 (deflated 0%)\n",
            "  adding: output3/train/push-up/push-up_3.mp4 (deflated 0%)\n",
            "  adding: output3/train/push-up/push-up_44.mp4 (deflated 1%)\n",
            "  adding: output3/train/push-up/push-up_101.mp4 (deflated 1%)\n",
            "  adding: output3/train/push-up/push-up_17.mp4 (deflated 0%)\n",
            "  adding: output3/train/push-up/push-up_7.mp4 (deflated 0%)\n",
            "  adding: output3/train/push-up/push-up_102.mp4 (deflated 0%)\n",
            "  adding: output3/train/push-up/push-up_41.mp4 (deflated 1%)\n",
            "  adding: output3/train/push-up/push-up_9.mp4 (deflated 0%)\n",
            "  adding: output3/train/push-up/push-up_10.mp4 (deflated 0%)\n",
            "  adding: output3/train/push-up/push-up_37.mp4 (deflated 0%)\n",
            "  adding: output3/train/push-up/push-up_27.mp4 (deflated 0%)\n",
            "  adding: output3/train/push-up/push-up_35.mp4 (deflated 1%)\n",
            "  adding: output3/train/push-up/push-up_18.mp4 (deflated 0%)\n",
            "  adding: output3/train/push-up/push-up_26.mp4 (deflated 0%)\n",
            "  adding: output3/train/push-up/push-up_33.mp4 (deflated 0%)\n",
            "  adding: output3/train/push-up/push-up_32.mp4 (deflated 0%)\n",
            "  adding: output3/train/push-up/push-up_42.mp4 (deflated 0%)\n",
            "  adding: output3/train/push-up/push-up_15.mp4 (deflated 0%)\n",
            "  adding: output3/train/push-up/push-up_22.mp4 (deflated 0%)\n",
            "  adding: output3/train/push-up/push-up_40.mp4 (deflated 0%)\n",
            "  adding: output3/train/push-up/push-up_14.mp4 (deflated 0%)\n",
            "  adding: output3/train/push-up/push-up_25.mp4 (deflated 0%)\n",
            "  adding: output3/train/push-up/push-up_20.mp4 (deflated 0%)\n",
            "  adding: output3/train/push-up/push-up_103.mp4 (deflated 0%)\n",
            "  adding: output3/train/push-up/push-up_28.mp4 (deflated 1%)\n",
            "  adding: output3/train/push-up/push-up_29.mp4 (deflated 0%)\n",
            "  adding: output3/train/push-up/push-up_104.mp4 (deflated 0%)\n",
            "  adding: output3/train/push-up/push-up_16.mp4 (deflated 0%)\n",
            "  adding: output3/train/push-up/push-up_31.mp4 (deflated 0%)\n",
            "  adding: output3/train/push-up/push-up_1.mp4 (deflated 0%)\n",
            "  adding: output3/train/push-up/push-up_8.mp4 (deflated 0%)\n",
            "  adding: output3/train/push-up/push-up_106.mp4 (deflated 0%)\n",
            "  adding: output3/train/push-up/push-up_43.mp4 (deflated 0%)\n",
            "  adding: output3/train/push-up/push-up_6.mp4 (deflated 0%)\n",
            "  adding: output3/train/push-up/push-up_39.mp4 (deflated 0%)\n",
            "  adding: output3/train/push-up/push-up_5.mp4 (deflated 0%)\n",
            "  adding: output3/train/push-up/push-up_30.mp4 (deflated 0%)\n",
            "  adding: output3/train/push-up/push-up_19.mp4 (deflated 1%)\n",
            "  adding: output3/train/push-up/push-up_11.mp4 (deflated 0%)\n",
            "  adding: output3/train/push-up/push-up_34.mp4 (deflated 0%)\n",
            "  adding: output3/train/push-up/push-up_45.mp4 (deflated 0%)\n",
            "  adding: output3/train/push-up/push-up_23.mp4 (deflated 0%)\n",
            "  adding: output3/train/push-up/push-up_12.mp4 (deflated 0%)\n",
            "  adding: output3/train/push-up/push-up_107.mp4 (deflated 0%)\n",
            "  adding: output3/train/push-up/push-up_36.mp4 (deflated 0%)\n",
            "  adding: output3/train/push-up/push-up_4.mp4 (deflated 0%)\n",
            "  adding: output3/train/push-up/push-up_24.mp4 (deflated 0%)\n",
            "  adding: output3/train/push-up/push-up_21.mp4 (deflated 0%)\n",
            "  adding: output3/train/push-up/push-up_108.mp4 (deflated 0%)\n",
            "  adding: output3/train/hammer curl/ (stored 0%)\n",
            "  adding: output3/train/hammer curl/hammer_curl_7.mp4 (deflated 1%)\n",
            "  adding: output3/train/hammer curl/每日一练-哑铃二头锤式弯举教学_哔哩哔哩_bilibili.mp4 (deflated 2%)\n",
            "  adding: output3/train/hammer curl/hammer_curl_8.mp4 (deflated 0%)\n",
            "  adding: output3/train/hammer curl/hammer_curl_113.mp4 (deflated 1%)\n",
            "  adding: output3/train/hammer curl/hammer_curl_14.mp4 (deflated 1%)\n",
            "  adding: output3/train/hammer curl/hammer_curl_111.mp4 (deflated 1%)\n",
            "  adding: output3/train/hammer curl/hammer_curl_104.mp4 (deflated 0%)\n",
            "  adding: output3/train/hammer curl/hammer_curl_2.mp4 (deflated 0%)\n",
            "  adding: output3/train/hammer curl/hammer_curl_11.mp4 (deflated 1%)\n",
            "  adding: output3/train/hammer curl/hammer_curl_4.mp4 (deflated 0%)\n",
            "  adding: output3/train/hammer curl/hammer_curl_6.mp4 (deflated 1%)\n",
            "  adding: output3/train/hammer curl/赛普健身 锤式弯举_哔哩哔哩_bilibili.mp4 (deflated 2%)\n",
            "  adding: output3/train/hammer curl/hammer_curl_107.mp4 (deflated 0%)\n",
            "  adding: output3/train/hammer curl/hammer_curl_110.mp4 (deflated 1%)\n",
            "  adding: output3/train/hammer curl/hammer_curl_15.mp4 (deflated 1%)\n",
            "  adding: output3/train/hammer curl/hammer_curl_105.mp4 (deflated 1%)\n",
            "  adding: output3/train/hammer curl/hammer_curl_103.mp4 (deflated 1%)\n",
            "  adding: output3/train/hammer curl/hammer_curl_114.mp4 (deflated 1%)\n",
            "  adding: output3/train/hammer curl/哑铃站姿锤式弯举讲解_哔哩哔哩_bilibili - Trim.mp4 (deflated 1%)\n",
            "  adding: output3/train/hammer curl/hammer_curl_9.mp4 (deflated 0%)\n",
            "  adding: output3/train/hammer curl/hammer_curl_101.mp4 (deflated 0%)\n",
            "  adding: output3/train/hammer curl/hammer_curl_1.mp4 (deflated 0%)\n",
            "  adding: output3/train/hammer curl/hammer_curl_5.mp4 (deflated 0%)\n",
            "  adding: output3/train/hammer curl/hammer_curl_108.mp4 (deflated 0%)\n",
            "  adding: output3/train/hammer curl/hammer_curl_12.mp4 (deflated 1%)\n",
            "  adding: output3/train/hammer curl/hammer_curl_109.mp4 (deflated 1%)\n",
            "  adding: output3/train/hammer curl/hammer_curl_112.mp4 (deflated 0%)\n",
            "  adding: output3/train/hammer curl/hammer_curl_10.mp4 (deflated 1%)\n",
            "  adding: output3/train/hammer curl/hammer_curl_3.mp4 (deflated 1%)\n",
            "  adding: output3/train/hammer curl/hammer_curl_13.mp4 (deflated 0%)\n",
            "  adding: output3/train/hammer curl/15-哑铃站姿锤式弯举_哔哩哔哩_bilibili.mp4 (deflated 1%)\n",
            "  adding: output3/train/hammer curl/hammer_curl_106.mp4 (deflated 1%)\n",
            "  adding: output3/train/hammer curl/锤式弯举常见的错误_哔哩哔哩_bilibili.mp4 (deflated 1%)\n",
            "  adding: output3/train/hammer curl/hammer_curl_102.mp4 (deflated 0%)\n",
            "  adding: output3/train/hammer curl/hammer_curl_115.mp4 (deflated 0%)\n",
            "  adding: output3/train/hammer curl/手臂更饱满必不可少的动作锤式弯举_哔哩哔哩_bilibili - Trim.mp4 (deflated 1%)\n",
            "  adding: output3/train/hammer curl/型师锤式二头弯举&微博@型师_哔哩哔哩_bilibili.mp4 (deflated 0%)\n",
            "  adding: output3/train/hammer curl/哑铃锤式弯举_哔哩哔哩_bilibili.mp4 (deflated 1%)\n",
            "  adding: output3/train/deadlift/ (stored 0%)\n",
            "  adding: output3/train/deadlift/deadlift_24.mp4 (deflated 0%)\n",
            "  adding: output3/train/deadlift/deadlift_20.mp4 (deflated 1%)\n",
            "  adding: output3/train/deadlift/deadlift_6.mp4 (deflated 0%)\n",
            "  adding: output3/train/deadlift/deadlift_15.mp4 (deflated 0%)\n",
            "  adding: output3/train/deadlift/deadlift_10003.mp4 (deflated 1%)\n",
            "  adding: output3/train/deadlift/deadlift_10.mp4 (deflated 1%)\n",
            "  adding: output3/train/deadlift/deadlift_3.mp4 (deflated 1%)\n",
            "  adding: output3/train/deadlift/deadlift_17.mp4 (deflated 2%)\n",
            "  adding: output3/train/deadlift/deadlift_102.mp4 (deflated 1%)\n",
            "  adding: output3/train/deadlift/deadlift_100012.mp4 (deflated 1%)\n",
            "  adding: output3/train/deadlift/deadlift_8.mp4 (deflated 1%)\n",
            "  adding: output3/train/deadlift/deadlift_14.mp4 (deflated 2%)\n",
            "  adding: output3/train/deadlift/deadlift_11.mp4 (deflated 1%)\n",
            "  adding: output3/train/deadlift/deadlift_4.mp4 (deflated 1%)\n",
            "  adding: output3/train/deadlift/deadlift_22.mp4 (deflated 1%)\n",
            "  adding: output3/train/deadlift/deadlift_19.mp4 (deflated 1%)\n",
            "  adding: output3/train/deadlift/deadlift_1.mp4 (deflated 1%)\n",
            "  adding: output3/train/deadlift/deadlift_21.mp4 (deflated 0%)\n",
            "  adding: output3/train/deadlift/deadlift_2.mp4 (deflated 1%)\n",
            "  adding: output3/train/deadlift/deadlift_5.mp4 (deflated 1%)\n",
            "  adding: output3/train/deadlift/deadlift_13.mp4 (deflated 1%)\n",
            "  adding: output3/train/deadlift/deadlift_10009.mp4 (deflated 1%)\n",
            "  adding: output3/train/deadlift/deadlift_104.mp4 (deflated 0%)\n",
            "  adding: output3/train/deadlift/deadlift_7.mp4 (deflated 1%)\n",
            "  adding: output3/train/deadlift/deadlift_9.mp4 (deflated 0%)\n",
            "  adding: output3/train/deadlift/deadlift_101.mp4 (deflated 1%)\n",
            "  adding: output3/train/deadlift/deadlift_103.mp4 (deflated 1%)\n",
            "  adding: output3/train/deadlift/deadlift_10001.mp4 (deflated 1%)\n",
            "  adding: output3/train/deadlift/deadlift_12.mp4 (deflated 1%)\n",
            "  adding: output3/train/deadlift/deadlift_100013.mp4 (deflated 1%)\n",
            "  adding: output3/train/deadlift/deadlift_16.mp4 (deflated 1%)\n",
            "  adding: output3/train/deadlift/deadlift_100018.mp4 (deflated 0%)\n",
            "  adding: output3/train/deadlift/deadlift_100015.mp4 (deflated 1%)\n",
            "  adding: output3/train/deadlift/deadlift_25.mp4 (deflated 0%)\n",
            "  adding: output3/train/deadlift/deadlift_18.mp4 (deflated 0%)\n",
            "  adding: output3/train/deadlift/deadlift_10008.mp4 (deflated 1%)\n",
            "  adding: output3/train/deadlift/deadlift_26.mp4 (deflated 0%)\n",
            "  adding: output3/train/deadlift/deadlift_23.mp4 (deflated 1%)\n",
            "  adding: output3/train/deadlift/deadlift_100011.mp4 (deflated 0%)\n",
            "  adding: output3/train/deadlift/deadlift_100020.mp4 (deflated 1%)\n",
            "  adding: output3/train/leg extension/ (stored 0%)\n",
            "  adding: output3/train/leg extension/2024-03-25 21-23-54 - Trim.mp4 (deflated 0%)\n",
            "  adding: output3/train/leg extension/leg_extension_19.mp4 (deflated 0%)\n",
            "  adding: output3/train/leg extension/leg_extension_29.mp4 (deflated 0%)\n",
            "  adding: output3/train/leg extension/leg_extension_30.mp4 (deflated 0%)\n",
            "  adding: output3/train/leg extension/leg_extension_11.mp4 (deflated 1%)\n",
            "  adding: output3/train/leg extension/leg_extension_26.mp4 (deflated 0%)\n",
            "  adding: output3/train/leg extension/leg_extension_7.mp4 (deflated 0%)\n",
            "  adding: output3/train/leg extension/leg_extension_17.mp4 (deflated 1%)\n",
            "  adding: output3/train/leg extension/leg_extension_4.mp4 (deflated 0%)\n",
            "  adding: output3/train/leg extension/leg_extension_10.mp4 (deflated 1%)\n",
            "  adding: output3/train/leg extension/Leg extension腿部伸展_哔哩哔哩_bilibili.mp4 (deflated 1%)\n",
            "  adding: output3/train/leg extension/leg_extension_20.mp4 (deflated 0%)\n",
            "  adding: output3/train/leg extension/leg_extension_2.mp4 (deflated 0%)\n",
            "  adding: output3/train/leg extension/leg_extension_28.mp4 (deflated 0%)\n",
            "  adding: output3/train/leg extension/leg_extension_5.mp4 (deflated 0%)\n",
            "  adding: output3/train/leg extension/leg_extension_13.mp4 (deflated 0%)\n",
            "  adding: output3/train/leg extension/leg_extension_9.mp4 (deflated 0%)\n",
            "  adding: output3/train/leg extension/2024-03-25 21-24-56 - Trim.mp4 (deflated 2%)\n",
            "  adding: output3/train/leg extension/leg_extension_8.mp4 (deflated 0%)\n",
            "  adding: output3/train/leg extension/leg_extension_18.mp4 (deflated 1%)\n",
            "  adding: output3/train/leg extension/leg_extension_31.mp4 (deflated 0%)\n",
            "  adding: output3/train/leg extension/leg_extension_12.mp4 (deflated 1%)\n",
            "  adding: output3/train/leg extension/leg_extension_14.mp4 (deflated 0%)\n",
            "  adding: output3/train/leg extension/leg_extension_6.mp4 (deflated 0%)\n",
            "  adding: output3/train/leg extension/leg_extension_1.mp4 (deflated 1%)\n",
            "  adding: output3/train/leg extension/leg_extension_27.mp4 (deflated 0%)\n",
            "  adding: output3/train/leg extension/leg_extension_3.mp4 (deflated 1%)\n",
            "  adding: output3/train/leg extension/leg_extension_16.mp4 (deflated 0%)\n",
            "  adding: output3/train/leg extension/leg_extension_15.mp4 (deflated 0%)\n",
            "  adding: output3/train/hip thurst/ (stored 0%)\n",
            "  adding: output3/train/hip thurst/hip_thrust_10004.mp4 (deflated 1%)\n",
            "  adding: output3/train/hip thurst/hip_thrust_10009.mp4 (deflated 0%)\n",
            "  adding: output3/train/hip thurst/hip_thrust_10005.mp4 (deflated 0%)\n",
            "  adding: output3/train/hip thurst/hip_thrust_10003.mp4 (deflated 0%)\n",
            "  adding: output3/train/hip thurst/hip_thrust_100010.mp4 (deflated 0%)\n",
            "  adding: output3/train/hip thurst/hip_thrust_10008.mp4 (deflated 1%)\n",
            "  adding: output3/train/hip thurst/hip_thrust_10002.mp4 (deflated 0%)\n"
          ]
        }
      ],
      "source": [
        "!zip -r '/content/drive/MyDrive/ai4life_2024/v3/v3done.zip' 'output3'"
      ]
    },
    {
      "cell_type": "code",
      "execution_count": null,
      "metadata": {
        "id": "Mpy_AZ18RshR"
      },
      "outputs": [],
      "source": []
    }
  ],
  "metadata": {
    "accelerator": "GPU",
    "colab": {
      "gpuType": "T4",
      "provenance": []
    },
    "kernelspec": {
      "display_name": "Python 3",
      "name": "python3"
    },
    "language_info": {
      "name": "python"
    }
  },
  "nbformat": 4,
  "nbformat_minor": 0
}
