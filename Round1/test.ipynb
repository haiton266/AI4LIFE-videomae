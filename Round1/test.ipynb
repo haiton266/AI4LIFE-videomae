{
  "cells": [
    {
      "cell_type": "code",
      "execution_count": null,
      "metadata": {
        "id": "pM1w5uM-nXuH"
      },
      "outputs": [],
      "source": [
        "from google.colab import drive\n",
        "drive.mount('/content/drive')"
      ]
    },
    {
      "cell_type": "code",
      "execution_count": null,
      "metadata": {
        "id": "Eu4d6IhjB2uN"
      },
      "outputs": [],
      "source": [
        "cd /content/drive/MyDrive/"
      ]
    },
    {
      "cell_type": "code",
      "execution_count": null,
      "metadata": {
        "id": "7jIideJqBqx_"
      },
      "outputs": [],
      "source": [
        "#Giải nén file trainSet.zip (nếu đã giải nén rồi thì bỏ qua bước này)\n",
        "! unzip /content/drive/MyDrive/submit/testSet.zip -d /content/drive/MyDrive/submit/"
      ]
    },
    {
      "cell_type": "markdown",
      "metadata": {
        "id": "dIrvCEZA_6lt"
      },
      "source": [
        "Đảm bảo đã up file lên drive và giải nén, sửa tất cả đường dẫn. Nhớ bật colab GPU"
      ]
    },
    {
      "cell_type": "code",
      "execution_count": null,
      "metadata": {
        "id": "GASD2By2mEMH"
      },
      "outputs": [],
      "source": [
        "! pip install transformers decord ffmpeg"
      ]
    },
    {
      "cell_type": "markdown",
      "metadata": {
        "id": "8NW6oNodrbIu"
      },
      "source": [
        "**Restart kernal để update các package, sau đó chạy tiếp, không cần chạy lại mấy thứ ở trên ...**"
      ]
    },
    {
      "cell_type": "code",
      "execution_count": null,
      "metadata": {
        "id": "UZCJ3GZKmLOQ"
      },
      "outputs": [],
      "source": [
        "import os\n",
        "os._exit(00)"
      ]
    },
    {
      "cell_type": "markdown",
      "metadata": {
        "id": "Dc5h67i-o5gY"
      },
      "source": [
        "**Chương trình test 1 video để kiểm tra model và video có tồn tại không**"
      ]
    },
    {
      "cell_type": "code",
      "execution_count": null,
      "metadata": {
        "id": "YUYlcDAHmRAr"
      },
      "outputs": [],
      "source": [
        "import transformers\n",
        "import decord\n",
        "video_cls = transformers.pipeline(model=\"bluebird089/videomae-base-finetuned-kinetics-finetuned-ok-hai\", device = 'cuda:0')\n",
        "#Thư mục chứa video test (sửa đường dẫn nếu cần thiết)\n",
        "location_video = \"/content/drive/MyDrive/submit/testSet/leg raises/leg_raises_18.mp4\"\n",
        "video_cls(location_video)"
      ]
    },
    {
      "cell_type": "markdown",
      "metadata": {
        "id": "NCVImZ5ALAtq"
      },
      "source": [
        "Chuẩn hóa class, vì btc đặt tên thư mục và video khác tên nhau nên chúng tôi cần chuẩn hóa trước khi đưa ra kết quả\n",
        "dbp -> decline bench press\n",
        "tricep Pushdown -> tricep pushdown\n",
        "..."
      ]
    },
    {
      "cell_type": "code",
      "execution_count": null,
      "metadata": {
        "id": "WivFhP3VLAJ5"
      },
      "outputs": [],
      "source": [
        "def changeName(label):\n",
        "  if label == 'dbp':\n",
        "    return 'decline bench press'\n",
        "  elif label == 'tricep pushdown':\n",
        "    return 'tricep Pushdown'\n",
        "  elif label == 'pull up':\n",
        "    return 'pull Up'\n",
        "  else:\n",
        "    return label"
      ]
    },
    {
      "cell_type": "markdown",
      "metadata": {
        "id": "SfTZEDOzAUU-"
      },
      "source": [
        "Hàm chuyển đổi sang H264 nếu gặp lỗi, sửa đường dẫn nếu muốn"
      ]
    },
    {
      "cell_type": "code",
      "execution_count": null,
      "metadata": {
        "id": "hUr_kDwzrzSc"
      },
      "outputs": [],
      "source": [
        "import subprocess\n",
        "import os\n",
        "\n",
        "def convert_video(input_path):\n",
        "    parts = input_path.split('/')\n",
        "   \n",
        "    videoName = parts[-1]\n",
        "\n",
        "    className = parts[-2]\n",
        "    #Tạo thư mục chứa video đã chuyển đổi (sửa đường dẫn nếu cần thiết)\n",
        "    output_dir = f\"/content/drive/MyDrive/Output/{className}\"\n",
        "    if not os.path.exists(output_dir):\n",
        "      os.makedirs(output_dir)\n",
        "      print(\"Đã tạo\")\n",
        "    #Thư mục chứa video đã chuyển đổi (sửa đường dẫn nếu cần thiết)\n",
        "    output_path = f\"/content/drive/MyDrive/Output/{className}/{videoName}\"\n",
        "    command = [\n",
        "        'ffmpeg',\n",
        "        '-i', input_path,  \n",
        "        '-c:v', 'libx264',  \n",
        "        '-crf', '23',  \n",
        "        output_path  \n",
        "    ]\n",
        "\n",
        "    subprocess.run(command)\n",
        "\n",
        "    print(f'Video đã được chuyển đổi và lưu tại: {output_path}')"
      ]
    },
    {
      "cell_type": "markdown",
      "metadata": {
        "id": "uTGepKg1pBOz"
      },
      "source": [
        "**Chương trình test 1 dataset, cần sửa data_dir lưu dataTest, cấu trúc giống thư mục BTC gửi**"
      ]
    },
    {
      "cell_type": "code",
      "execution_count": null,
      "metadata": {
        "id": "rDHgpG-xnwvw"
      },
      "outputs": [],
      "source": [
        "import os\n",
        "import numpy as np\n",
        "from sklearn.metrics import confusion_matrix, f1_score\n",
        "import matplotlib.pyplot as plt\n",
        "import seaborn as sns\n",
        "from transformers import pipeline\n",
        "import decord\n",
        "import time \n",
        "\n",
        "video_cls = pipeline(model=\"bluebird089/videomae-base-finetuned-kinetics-finetuned-ok-hai\", device=\"cuda:0\")\n",
        "\n",
        "# Đường dẫn dataTest (sửa đường dẫn nếu cần thiết)\n",
        "data_dir = \"/content/drive/MyDrive/submit/testSet\"\n",
        "\n",
        "y_true = []\n",
        "y_pred = []\n",
        "\n",
        "for className in os.listdir(data_dir):\n",
        "        class_dir = os.path.join(data_dir, className)\n",
        "        if os.path.isdir(class_dir):\n",
        "            for video_file in os.listdir(class_dir):\n",
        "              try:\n",
        "                video_path = os.path.join(class_dir, video_file)\n",
        "                print(video_path)\n",
        "                prediction = video_cls(video_path)\n",
        "                predicted_class = prediction[0]['label']\n",
        "                predicted_class = changeName(predicted_class)\n",
        "                y_true.append(className)\n",
        "                y_pred.append(predicted_class)\n",
        "                print(className)\n",
        "                print(predicted_class, className == predicted_class)\n",
        "\n",
        "              except Exception as e:\n",
        "                print(\"Lỗi do định dạng video, đang chuyển sang định dạng H264\")\n",
        "                convert_video(video_path)"
      ]
    },
    {
      "cell_type": "markdown",
      "metadata": {
        "id": "NyO26alPAcA3"
      },
      "source": [
        "Chạy các video đã chuyển sang H264 và tính confusion matrix, F1.\n",
        "Nếu bạn có sửa đường dẫn lưu file H264, thì cần sửa dưới này"
      ]
    },
    {
      "cell_type": "code",
      "execution_count": null,
      "metadata": {
        "id": "9rDh8JmR1sQZ"
      },
      "outputs": [],
      "source": [
        "import os\n",
        "import numpy as np\n",
        "from sklearn.metrics import confusion_matrix, f1_score\n",
        "import matplotlib.pyplot as plt\n",
        "import seaborn as sns\n",
        "from transformers import pipeline\n",
        "import decord\n",
        "import time \n",
        "\n",
        "# Load model (sửa đường dẫn nếu cần thiết)\n",
        "data_dir = \"/content/drive/MyDrive/Output\"\n",
        "\n",
        "\n",
        "for className in os.listdir(data_dir):\n",
        "        class_dir = os.path.join(data_dir, className)\n",
        "        if os.path.isdir(class_dir):\n",
        "            for video_file in os.listdir(class_dir):\n",
        "              try:\n",
        "                video_path = os.path.join(class_dir, video_file)\n",
        "                print(video_path)\n",
        "                prediction = video_cls(video_path)\n",
        "                predicted_class = prediction[0]['label']\n",
        "                predicted_class = changeName(predicted_class)\n",
        "                print(className)\n",
        "                y_true.append(className)\n",
        "                y_pred.append(predicted_class)\n",
        "                print(predicted_class, className == predicted_class)\n",
        "\n",
        "                time.sleep(0.2) \n",
        "              except Exception as e:\n",
        "                print(e)\n",
        "\n",
        "# Calculate confusion matrix and F1 score\n",
        "conf_matrix = confusion_matrix(y_true, y_pred)\n",
        "f1 = f1_score(y_true, y_pred, average='micro')\n",
        "\n",
        "# Print or plot metrics\n",
        "print(\"F1 Score:\", f1)\n",
        "sns.heatmap(conf_matrix, annot=True, fmt=\"d\", cmap=\"Blues\")\n",
        "plt.xlabel('Predicted')\n",
        "plt.ylabel('True')\n",
        "plt.show()\n"
      ]
    }
  ],
  "metadata": {
    "accelerator": "GPU",
    "colab": {
      "gpuType": "T4",
      "provenance": []
    },
    "kernelspec": {
      "display_name": "Python 3",
      "name": "python3"
    },
    "language_info": {
      "name": "python"
    }
  },
  "nbformat": 4,
  "nbformat_minor": 0
}
