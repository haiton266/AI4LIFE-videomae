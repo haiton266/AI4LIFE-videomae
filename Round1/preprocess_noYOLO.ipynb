{
 "cells": [
  {
   "cell_type": "code",
   "execution_count": 18,
   "metadata": {},
   "outputs": [],
   "source": [
    "import cv2\n",
    "from tqdm import tqdm\n",
    "import os\n",
    "\n",
    "def process_video(input_video_path, output_video_path):\n",
    "    # Khởi tạo đối tượng VideoCapture\n",
    "    cap = cv2.VideoCapture(input_video_path)\n",
    "    if not cap.isOpened():\n",
    "        print(\"Error: Could not open video.\")\n",
    "        return\n",
    "\n",
    "    # Lấy tổng số frames và FPS của video\n",
    "    total_frames = int(cap.get(cv2.CAP_PROP_FRAME_COUNT))\n",
    "    original_fps = cap.get(cv2.CAP_PROP_FPS)\n",
    "    duration = total_frames / original_fps\n",
    "    # Tính toán phần trăm và thời điểm bắt đầu, kết thúc để cắt\n",
    "    if duration > 110:\n",
    "        start_percent = 20\n",
    "        end_percent = 80\n",
    "    elif duration > 60:\n",
    "        start_percent = 15\n",
    "        end_percent = 85\n",
    "    elif duration > 10:\n",
    "        start_percent = 10\n",
    "        end_percent = 90\n",
    "    else:\n",
    "        start_percent = 0\n",
    "        end_percent = 100\n",
    "\n",
    "    start_frame = int((start_percent / 100) * total_frames)\n",
    "    end_frame = int((end_percent / 100) * total_frames)\n",
    "\n",
    "    # Lấy kích thước frame của video\n",
    "    frame_width = int(cap.get(cv2.CAP_PROP_FRAME_WIDTH))\n",
    "    frame_height = int(cap.get(cv2.CAP_PROP_FRAME_HEIGHT))\n",
    "\n",
    "    # Tạo đối tượng VideoWriter với FPS là desired_fps\n",
    "    fourcc = cv2.VideoWriter_fourcc(*'mp4v')\n",
    "    out = cv2.VideoWriter(output_video_path, fourcc, original_fps, (224, 224))\n",
    "\n",
    "    # Đọc từng frame và ghi frame vào video mới nếu nằm trong khoảng đã tính và theo tỷ lệ FPS mới\n",
    "    current_frame = 0\n",
    "    while True:\n",
    "        ret, frame = cap.read()\n",
    "        if not ret:\n",
    "            break\n",
    "        # Chỉ xử lý frame nếu nằm trong khoảng thời gian đã định\n",
    "        if start_frame <= current_frame <= end_frame:\n",
    "            # Resize frame về kích thước 224x224\n",
    "            frame = cv2.resize(frame, (224, 224))\n",
    "            out.write(frame)\n",
    "\n",
    "        current_frame += 1\n",
    "\n",
    "    # Giải phóng tài nguyên\n",
    "    cap.release()\n",
    "    out.release()\n",
    "\n",
    "    print(\"Video đã được xử lý và lưu tại: \", output_video_path)"
   ]
  },
  {
   "cell_type": "code",
   "execution_count": 19,
   "metadata": {},
   "outputs": [
    {
     "name": "stderr",
     "output_type": "stream",
     "text": [
      " 50%|█████     | 1/2 [00:00<00:00,  7.19it/s]"
     ]
    },
    {
     "name": "stdout",
     "output_type": "stream",
     "text": [
      "Xử lý video video\\a\\output.mp4\n",
      "Video đã được xử lý và lưu tại:  output/a/output.mp4\n",
      "\u001b[2J\n",
      "Xử lý video video\\dp\\russian_twist_17.mp4\n"
     ]
    },
    {
     "name": "stderr",
     "output_type": "stream",
     "text": [
      "100%|██████████| 2/2 [00:01<00:00,  1.06it/s]"
     ]
    },
    {
     "name": "stdout",
     "output_type": "stream",
     "text": [
      "Video đã được xử lý và lưu tại:  output/dp/russian_twist_17.mp4\n",
      "\u001b[2J\n"
     ]
    },
    {
     "name": "stderr",
     "output_type": "stream",
     "text": [
      "\n"
     ]
    }
   ],
   "source": [
    "data_dir = \"video\"\n",
    "output_dir = \"output\"\n",
    "\n",
    "for className in tqdm(os.listdir(data_dir)):\n",
    "    class_dir = os.path.join(data_dir, className)\n",
    "    if os.path.isdir(class_dir) and not className.startswith('.'):  # Bỏ qua các thư mục ẩn\n",
    "        for video_file in os.listdir(class_dir):\n",
    "            if not video_file.startswith('.'):  # Bỏ qua các tệp ẩn\n",
    "                input_video_path = os.path.join(class_dir, video_file)\n",
    "                video_name = video_file.split('.')[0]\n",
    "                output_video_path = f\"{output_dir}/{className}/{video_name}.mp4\"\n",
    "                os.makedirs(f\"{output_dir}/{className}\", exist_ok=True)\n",
    "\n",
    "                # Kiểm tra xem video đã tồn tại trong thư mục đầu ra hay không\n",
    "                if not os.path.exists(output_video_path):\n",
    "                    # Đọc độ dài của video\n",
    "                    cap = cv2.VideoCapture(input_video_path)\n",
    "                    frame_count = int(cap.get(cv2.CAP_PROP_FRAME_COUNT))\n",
    "                    fps = int(cap.get(cv2.CAP_PROP_FPS))\n",
    "                    duration = frame_count / fps  # Độ dài video tính theo giây\n",
    "\n",
    "                    # Kiểm tra nếu độ dài video lớn hơn 300 giây, thì bỏ qua\n",
    "                    if duration > 300:\n",
    "                        print(f\"Video {input_video_path} có độ dài lớn hơn 5 phút và đã bị bỏ qua.\")\n",
    "                        continue  # Bỏ qua video này và chuyển sang video tiếp theo\n",
    "                    else:\n",
    "                        print(f\"Xử lý video {input_video_path}\")\n",
    "                        process_video(input_video_path, output_video_path)\n",
    "                else:\n",
    "                    print(f\"Video {output_video_path} đã được xử lý trước đó và tồn tại trong thư mục đầu ra.\")"
   ]
  },
  {
   "cell_type": "code",
   "execution_count": null,
   "metadata": {},
   "outputs": [],
   "source": []
  }
 ],
 "metadata": {
  "kernelspec": {
   "display_name": "Python 3",
   "language": "python",
   "name": "python3"
  },
  "language_info": {
   "codemirror_mode": {
    "name": "ipython",
    "version": 3
   },
   "file_extension": ".py",
   "mimetype": "text/x-python",
   "name": "python",
   "nbconvert_exporter": "python",
   "pygments_lexer": "ipython3",
   "version": "3.7.8"
  }
 },
 "nbformat": 4,
 "nbformat_minor": 2
}
